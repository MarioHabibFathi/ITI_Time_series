{
 "cells": [
  {
   "cell_type": "markdown",
   "metadata": {
    "id": "TrUKIxWVs2h7"
   },
   "source": [
    "# Useful Functions"
   ]
  },
  {
   "cell_type": "code",
   "execution_count": 1,
   "metadata": {
    "id": "pMmMZ2WZs5sv"
   },
   "outputs": [],
   "source": [
    "# Function to assess model and visualize output\n",
    "def model_assessment(train, test, predictions, chart_title):\n",
    "  # Set the size of the plot to 10 inches by 4 inches\n",
    "  plt.figure(figsize = (10,4))\n",
    "  # Plot the train, test, and forecast data\n",
    "  plt.plot(train, label = 'Train')\n",
    "  plt.plot(test, label = 'Test')\n",
    "  plt.plot(predictions, label = \"Forecast\")\n",
    "  # add title and legend to the plot\n",
    "  plt.title(f\"Train, Test and Predictions with {chart_title}\")\n",
    "  plt.legend()\n",
    "  plt.show()\n",
    "\n",
    "  # Calculating the MAE, RMSE, and MAPE\n",
    "  mae = mean_absolute_error(test, predictions)\n",
    "  rmse = mean_squared_error(test, predictions, squared = False)\n",
    "  mape = mean_absolute_percentage_error(test, predictions)\n",
    "\n",
    "  # Print the calculated error metrics\n",
    "  print(f\"The MAE is {mae:.2f}\")\n",
    "  print(f\"The RMSE is {rmse:.2f}\")\n",
    "  print(f\"The MAPE is {100 * mape:.2f} %\")"
   ]
  },
  {
   "cell_type": "code",
   "execution_count": 2,
   "metadata": {
    "id": "THGT63e3s6JV"
   },
   "outputs": [],
   "source": [
    "# Function to plot the future\n",
    "def plot_future(y, forecast, title):\n",
    "  # Set the size of the plot to 10 inches by 4 inches\n",
    "  plt.figure(figsize = (10,4))\n",
    "  # Plot the train and forecast data\n",
    "  plt.plot(y, label = 'Train')\n",
    "  plt.plot(forecast, label = \"Forecast\")\n",
    "  # add title and legend to the plot\n",
    "  plt.title(f\"Train and Forecast with {title}\")\n",
    "  plt.legend()\n",
    "  plt.show()"
   ]
  },
  {
   "cell_type": "markdown",
   "metadata": {
    "id": "dfTClcTk4uVl"
   },
   "source": [
    "# Libraries and Data"
   ]
  },
  {
   "cell_type": "code",
   "execution_count": 69,
   "metadata": {
    "colab": {
     "base_uri": "https://localhost:8080/"
    },
    "executionInfo": {
     "elapsed": 22964,
     "status": "ok",
     "timestamp": 1706963318958,
     "user": {
      "displayName": "Diogo Resende",
      "userId": "05706604408624562002"
     },
     "user_tz": -60
    },
    "id": "EZQdYvSv4hfY",
    "outputId": "6cb205e1-0f3a-4bd5-b8eb-2bc47a98c888"
   },
   "outputs": [],
   "source": [
    "# from google.colab import drive\n",
    "# drive.mount('/content/drive')"
   ]
  },
  {
   "cell_type": "code",
   "execution_count": 70,
   "metadata": {
    "colab": {
     "base_uri": "https://localhost:8080/"
    },
    "executionInfo": {
     "elapsed": 478,
     "status": "ok",
     "timestamp": 1706965646504,
     "user": {
      "displayName": "Diogo Resende",
      "userId": "05706604408624562002"
     },
     "user_tz": -60
    },
    "id": "fhjNDZ0o4xzt",
    "outputId": "bf6ad752-bf21-48cb-a8fe-3454d224a380"
   },
   "outputs": [],
   "source": [
    "# %cd /content/drive/MyDrive/Python - Time Series Forecasting/Time Series Analysis/ARIMA, SARIMA and SARIMAX"
   ]
  },
  {
   "cell_type": "code",
   "execution_count": 3,
   "metadata": {
    "colab": {
     "base_uri": "https://localhost:8080/"
    },
    "executionInfo": {
     "elapsed": 17689,
     "status": "ok",
     "timestamp": 1706965667495,
     "user": {
      "displayName": "Diogo Resende",
      "userId": "05706604408624562002"
     },
     "user_tz": -60
    },
    "id": "ytQxyuRltaK1",
    "outputId": "011f3b49-53e5-4a11-ce98-1aab0be7780e"
   },
   "outputs": [
    {
     "name": "stdout",
     "output_type": "stream",
     "text": [
      "Requirement already satisfied: pmdarima in c:\\users\\marha\\anaconda3\\envs\\tf_gpu\\lib\\site-packages (2.0.4)\n",
      "Requirement already satisfied: scipy>=1.3.2 in c:\\users\\marha\\anaconda3\\envs\\tf_gpu\\lib\\site-packages (from pmdarima) (1.15.2)\n",
      "Requirement already satisfied: urllib3 in c:\\users\\marha\\anaconda3\\envs\\tf_gpu\\lib\\site-packages (from pmdarima) (1.26.16)\n",
      "Requirement already satisfied: scikit-learn>=0.22 in c:\\users\\marha\\anaconda3\\envs\\tf_gpu\\lib\\site-packages (from pmdarima) (1.6.1)\n",
      "Requirement already satisfied: joblib>=0.11 in c:\\users\\marha\\anaconda3\\envs\\tf_gpu\\lib\\site-packages (from pmdarima) (1.5.0)\n",
      "Requirement already satisfied: setuptools!=50.0.0,>=38.6.0 in c:\\users\\marha\\anaconda3\\envs\\tf_gpu\\lib\\site-packages (from pmdarima) (66.0.0)\n",
      "Requirement already satisfied: packaging>=17.1 in c:\\users\\marha\\appdata\\roaming\\python\\python310\\site-packages (from pmdarima) (24.2)\n",
      "Requirement already satisfied: pandas>=0.19 in c:\\users\\marha\\anaconda3\\envs\\tf_gpu\\lib\\site-packages (from pmdarima) (1.5.2)\n",
      "Requirement already satisfied: numpy>=1.21.2 in c:\\users\\marha\\anaconda3\\envs\\tf_gpu\\lib\\site-packages (from pmdarima) (1.25.0)\n",
      "Requirement already satisfied: statsmodels>=0.13.2 in c:\\users\\marha\\anaconda3\\envs\\tf_gpu\\lib\\site-packages (from pmdarima) (0.14.4)\n",
      "Requirement already satisfied: Cython!=0.29.18,!=0.29.31,>=0.29 in c:\\users\\marha\\anaconda3\\envs\\tf_gpu\\lib\\site-packages (from pmdarima) (3.1.1)\n",
      "Requirement already satisfied: python-dateutil>=2.8.1 in c:\\users\\marha\\appdata\\roaming\\python\\python310\\site-packages (from pandas>=0.19->pmdarima) (2.9.0.post0)\n",
      "Requirement already satisfied: pytz>=2020.1 in c:\\users\\marha\\anaconda3\\envs\\tf_gpu\\lib\\site-packages (from pandas>=0.19->pmdarima) (2022.7)\n",
      "Requirement already satisfied: threadpoolctl>=3.1.0 in c:\\users\\marha\\anaconda3\\envs\\tf_gpu\\lib\\site-packages (from scikit-learn>=0.22->pmdarima) (3.5.0)\n",
      "Requirement already satisfied: patsy>=0.5.6 in c:\\users\\marha\\anaconda3\\envs\\tf_gpu\\lib\\site-packages (from statsmodels>=0.13.2->pmdarima) (1.0.1)\n",
      "Requirement already satisfied: six>=1.5 in c:\\users\\marha\\appdata\\roaming\\python\\python310\\site-packages (from python-dateutil>=2.8.1->pandas>=0.19->pmdarima) (1.17.0)\n"
     ]
    },
    {
     "name": "stderr",
     "output_type": "stream",
     "text": [
      "WARNING: Ignoring invalid distribution -rotobuf (c:\\users\\marha\\appdata\\roaming\\python\\python310\\site-packages)\n",
      "WARNING: Ignoring invalid distribution -illow (c:\\users\\marha\\appdata\\roaming\\python\\python310\\site-packages)\n",
      "WARNING: Ignoring invalid distribution -entencepiece (c:\\users\\marha\\appdata\\roaming\\python\\python310\\site-packages)\n",
      "WARNING: Ignoring invalid distribution -umpy (c:\\users\\marha\\anaconda3\\envs\\tf_gpu\\lib\\site-packages)\n",
      "WARNING: Ignoring invalid distribution -rotobuf (c:\\users\\marha\\appdata\\roaming\\python\\python310\\site-packages)\n",
      "WARNING: Ignoring invalid distribution -illow (c:\\users\\marha\\appdata\\roaming\\python\\python310\\site-packages)\n",
      "WARNING: Ignoring invalid distribution -entencepiece (c:\\users\\marha\\appdata\\roaming\\python\\python310\\site-packages)\n",
      "WARNING: Ignoring invalid distribution -umpy (c:\\users\\marha\\anaconda3\\envs\\tf_gpu\\lib\\site-packages)\n",
      "WARNING: Ignoring invalid distribution -rotobuf (c:\\users\\marha\\appdata\\roaming\\python\\python310\\site-packages)\n",
      "WARNING: Ignoring invalid distribution -illow (c:\\users\\marha\\appdata\\roaming\\python\\python310\\site-packages)\n",
      "WARNING: Ignoring invalid distribution -entencepiece (c:\\users\\marha\\appdata\\roaming\\python\\python310\\site-packages)\n",
      "WARNING: Ignoring invalid distribution -umpy (c:\\users\\marha\\anaconda3\\envs\\tf_gpu\\lib\\site-packages)\n",
      "WARNING: Ignoring invalid distribution -rotobuf (c:\\users\\marha\\appdata\\roaming\\python\\python310\\site-packages)\n",
      "WARNING: Ignoring invalid distribution -illow (c:\\users\\marha\\appdata\\roaming\\python\\python310\\site-packages)\n",
      "WARNING: Ignoring invalid distribution -entencepiece (c:\\users\\marha\\appdata\\roaming\\python\\python310\\site-packages)\n",
      "WARNING: Ignoring invalid distribution -umpy (c:\\users\\marha\\anaconda3\\envs\\tf_gpu\\lib\\site-packages)\n",
      "WARNING: Ignoring invalid distribution -rotobuf (c:\\users\\marha\\appdata\\roaming\\python\\python310\\site-packages)\n",
      "WARNING: Ignoring invalid distribution -illow (c:\\users\\marha\\appdata\\roaming\\python\\python310\\site-packages)\n",
      "WARNING: Ignoring invalid distribution -entencepiece (c:\\users\\marha\\appdata\\roaming\\python\\python310\\site-packages)\n",
      "WARNING: Ignoring invalid distribution -umpy (c:\\users\\marha\\anaconda3\\envs\\tf_gpu\\lib\\site-packages)\n",
      "WARNING: Ignoring invalid distribution -rotobuf (c:\\users\\marha\\appdata\\roaming\\python\\python310\\site-packages)\n",
      "WARNING: Ignoring invalid distribution -illow (c:\\users\\marha\\appdata\\roaming\\python\\python310\\site-packages)\n",
      "WARNING: Ignoring invalid distribution -entencepiece (c:\\users\\marha\\appdata\\roaming\\python\\python310\\site-packages)\n",
      "WARNING: Ignoring invalid distribution -umpy (c:\\users\\marha\\anaconda3\\envs\\tf_gpu\\lib\\site-packages)\n"
     ]
    }
   ],
   "source": [
    "!pip install pmdarima"
   ]
  },
  {
   "cell_type": "code",
   "execution_count": 4,
   "metadata": {
    "id": "gHgFNVA9456y"
   },
   "outputs": [],
   "source": [
    "# Libraries\n",
    "import pandas as pd\n",
    "import matplotlib.pyplot as plt\n",
    "from statsmodels.graphics.tsaplots import month_plot, quarter_plot\n",
    "from statsmodels.graphics.tsaplots import plot_acf, plot_pacf\n",
    "from statsmodels.tsa.seasonal import seasonal_decompose\n",
    "from sklearn.metrics import mean_absolute_error, mean_squared_error, mean_absolute_percentage_error\n",
    "from pmdarima import auto_arima, ARIMA, model_selection\n",
    "import numpy as np\n",
    "from sklearn.model_selection import ParameterGrid"
   ]
  },
  {
   "cell_type": "code",
   "execution_count": 5,
   "metadata": {
    "colab": {
     "base_uri": "https://localhost:8080/",
     "height": 237
    },
    "executionInfo": {
     "elapsed": 50,
     "status": "ok",
     "timestamp": 1706965671018,
     "user": {
      "displayName": "Diogo Resende",
      "userId": "05706604408624562002"
     },
     "user_tz": -60
    },
    "id": "AKzg2C7-DzqS",
    "outputId": "504ff490-a637-44be-b5f4-b2a2cab719e1"
   },
   "outputs": [
    {
     "data": {
      "text/html": [
       "<div>\n",
       "<style scoped>\n",
       "    .dataframe tbody tr th:only-of-type {\n",
       "        vertical-align: middle;\n",
       "    }\n",
       "\n",
       "    .dataframe tbody tr th {\n",
       "        vertical-align: top;\n",
       "    }\n",
       "\n",
       "    .dataframe thead th {\n",
       "        text-align: right;\n",
       "    }\n",
       "</style>\n",
       "<table border=\"1\" class=\"dataframe\">\n",
       "  <thead>\n",
       "    <tr style=\"text-align: right;\">\n",
       "      <th></th>\n",
       "      <th>Open</th>\n",
       "      <th>High</th>\n",
       "      <th>Low</th>\n",
       "      <th>Close</th>\n",
       "      <th>Adj Close</th>\n",
       "      <th>Volume</th>\n",
       "    </tr>\n",
       "    <tr>\n",
       "      <th>Date</th>\n",
       "      <th></th>\n",
       "      <th></th>\n",
       "      <th></th>\n",
       "      <th></th>\n",
       "      <th></th>\n",
       "      <th></th>\n",
       "    </tr>\n",
       "  </thead>\n",
       "  <tbody>\n",
       "    <tr>\n",
       "      <th>1997-05-15</th>\n",
       "      <td>2.437500</td>\n",
       "      <td>2.500000</td>\n",
       "      <td>1.927083</td>\n",
       "      <td>1.958333</td>\n",
       "      <td>1.958333</td>\n",
       "      <td>72156000</td>\n",
       "    </tr>\n",
       "    <tr>\n",
       "      <th>1997-05-16</th>\n",
       "      <td>1.968750</td>\n",
       "      <td>1.979167</td>\n",
       "      <td>1.708333</td>\n",
       "      <td>1.729167</td>\n",
       "      <td>1.729167</td>\n",
       "      <td>14700000</td>\n",
       "    </tr>\n",
       "    <tr>\n",
       "      <th>1997-05-19</th>\n",
       "      <td>1.760417</td>\n",
       "      <td>1.770833</td>\n",
       "      <td>1.625000</td>\n",
       "      <td>1.708333</td>\n",
       "      <td>1.708333</td>\n",
       "      <td>6106800</td>\n",
       "    </tr>\n",
       "    <tr>\n",
       "      <th>1997-05-20</th>\n",
       "      <td>1.729167</td>\n",
       "      <td>1.750000</td>\n",
       "      <td>1.635417</td>\n",
       "      <td>1.635417</td>\n",
       "      <td>1.635417</td>\n",
       "      <td>5467200</td>\n",
       "    </tr>\n",
       "    <tr>\n",
       "      <th>1997-05-21</th>\n",
       "      <td>1.635417</td>\n",
       "      <td>1.645833</td>\n",
       "      <td>1.375000</td>\n",
       "      <td>1.427083</td>\n",
       "      <td>1.427083</td>\n",
       "      <td>18853200</td>\n",
       "    </tr>\n",
       "  </tbody>\n",
       "</table>\n",
       "</div>"
      ],
      "text/plain": [
       "                Open      High       Low     Close  Adj Close    Volume\n",
       "Date                                                                   \n",
       "1997-05-15  2.437500  2.500000  1.927083  1.958333   1.958333  72156000\n",
       "1997-05-16  1.968750  1.979167  1.708333  1.729167   1.729167  14700000\n",
       "1997-05-19  1.760417  1.770833  1.625000  1.708333   1.708333   6106800\n",
       "1997-05-20  1.729167  1.750000  1.635417  1.635417   1.635417   5467200\n",
       "1997-05-21  1.635417  1.645833  1.375000  1.427083   1.427083  18853200"
      ]
     },
     "execution_count": 5,
     "metadata": {},
     "output_type": "execute_result"
    }
   ],
   "source": [
    "# Loading the daily revenue data and set the date as uindex\n",
    "df = pd.read_csv(\"Amazon.csv\",\n",
    "                 index_col = \"Date\",\n",
    "                 parse_dates = True,\n",
    "                 dayfirst = True)\n",
    "df.head()"
   ]
  },
  {
   "cell_type": "code",
   "execution_count": 6,
   "metadata": {},
   "outputs": [
    {
     "data": {
      "text/plain": [
       "(5842, 6)"
      ]
     },
     "execution_count": 6,
     "metadata": {},
     "output_type": "execute_result"
    }
   ],
   "source": [
    "df.shape"
   ]
  },
  {
   "cell_type": "code",
   "execution_count": 7,
   "metadata": {
    "colab": {
     "base_uri": "https://localhost:8080/"
    },
    "executionInfo": {
     "elapsed": 45,
     "status": "ok",
     "timestamp": 1706965671018,
     "user": {
      "displayName": "Diogo Resende",
      "userId": "05706604408624562002"
     },
     "user_tz": -60
    },
    "id": "UG1xWf5P5Kjn",
    "outputId": "c2258482-0ef8-4526-e78d-bb3b8e9f1030"
   },
   "outputs": [
    {
     "name": "stdout",
     "output_type": "stream",
     "text": [
      "<class 'pandas.core.frame.DataFrame'>\n",
      "DatetimeIndex: 5842 entries, 1997-05-15 to 2020-07-31\n",
      "Data columns (total 6 columns):\n",
      " #   Column     Non-Null Count  Dtype  \n",
      "---  ------     --------------  -----  \n",
      " 0   Open       5842 non-null   float64\n",
      " 1   High       5842 non-null   float64\n",
      " 2   Low        5842 non-null   float64\n",
      " 3   Close      5842 non-null   float64\n",
      " 4   Adj Close  5842 non-null   float64\n",
      " 5   Volume     5842 non-null   int64  \n",
      "dtypes: float64(5), int64(1)\n",
      "memory usage: 319.5 KB\n"
     ]
    }
   ],
   "source": [
    "# Information about the df\n",
    "df.info()"
   ]
  },
  {
   "cell_type": "markdown",
   "metadata": {},
   "source": [
    "There is no preprocessing that can happen here because the data is of type float and int"
   ]
  },
  {
   "cell_type": "code",
   "execution_count": 74,
   "metadata": {
    "id": "-0p3JmoufqMR"
   },
   "outputs": [],
   "source": [
    "# Remove the comma in revenue and convert it as float\n",
    "df['revenue'] = df['revenue'].str.replace(\",\", \"\").astype(float)"
   ]
  },
  {
   "cell_type": "code",
   "execution_count": 8,
   "metadata": {
    "id": "9QY7F3c5f-Wq"
   },
   "outputs": [],
   "source": [
    "# Set the dataframe to have daily frequency, it will give a lot of null value\n",
    "df_freq_d = df.asfreq(\"D\")"
   ]
  },
  {
   "cell_type": "markdown",
   "metadata": {},
   "source": [
    "We will consider the close as y value"
   ]
  },
  {
   "cell_type": "code",
   "execution_count": 9,
   "metadata": {
    "colab": {
     "base_uri": "https://localhost:8080/",
     "height": 237
    },
    "executionInfo": {
     "elapsed": 35,
     "status": "ok",
     "timestamp": 1706965671020,
     "user": {
      "displayName": "Diogo Resende",
      "userId": "05706604408624562002"
     },
     "user_tz": -60
    },
    "id": "OaJdX79jgGPe",
    "outputId": "9d1685ca-dc6e-4dc6-e582-ca1af3ab8d60",
    "scrolled": true
   },
   "outputs": [
    {
     "data": {
      "text/html": [
       "<div>\n",
       "<style scoped>\n",
       "    .dataframe tbody tr th:only-of-type {\n",
       "        vertical-align: middle;\n",
       "    }\n",
       "\n",
       "    .dataframe tbody tr th {\n",
       "        vertical-align: top;\n",
       "    }\n",
       "\n",
       "    .dataframe thead th {\n",
       "        text-align: right;\n",
       "    }\n",
       "</style>\n",
       "<table border=\"1\" class=\"dataframe\">\n",
       "  <thead>\n",
       "    <tr style=\"text-align: right;\">\n",
       "      <th></th>\n",
       "      <th>Open</th>\n",
       "      <th>High</th>\n",
       "      <th>Low</th>\n",
       "      <th>y</th>\n",
       "      <th>Adj Close</th>\n",
       "      <th>Volume</th>\n",
       "    </tr>\n",
       "    <tr>\n",
       "      <th>Date</th>\n",
       "      <th></th>\n",
       "      <th></th>\n",
       "      <th></th>\n",
       "      <th></th>\n",
       "      <th></th>\n",
       "      <th></th>\n",
       "    </tr>\n",
       "  </thead>\n",
       "  <tbody>\n",
       "    <tr>\n",
       "      <th>1997-05-15</th>\n",
       "      <td>2.437500</td>\n",
       "      <td>2.500000</td>\n",
       "      <td>1.927083</td>\n",
       "      <td>1.958333</td>\n",
       "      <td>1.958333</td>\n",
       "      <td>72156000.0</td>\n",
       "    </tr>\n",
       "    <tr>\n",
       "      <th>1997-05-16</th>\n",
       "      <td>1.968750</td>\n",
       "      <td>1.979167</td>\n",
       "      <td>1.708333</td>\n",
       "      <td>1.729167</td>\n",
       "      <td>1.729167</td>\n",
       "      <td>14700000.0</td>\n",
       "    </tr>\n",
       "    <tr>\n",
       "      <th>1997-05-17</th>\n",
       "      <td>NaN</td>\n",
       "      <td>NaN</td>\n",
       "      <td>NaN</td>\n",
       "      <td>NaN</td>\n",
       "      <td>NaN</td>\n",
       "      <td>NaN</td>\n",
       "    </tr>\n",
       "    <tr>\n",
       "      <th>1997-05-18</th>\n",
       "      <td>NaN</td>\n",
       "      <td>NaN</td>\n",
       "      <td>NaN</td>\n",
       "      <td>NaN</td>\n",
       "      <td>NaN</td>\n",
       "      <td>NaN</td>\n",
       "    </tr>\n",
       "    <tr>\n",
       "      <th>1997-05-19</th>\n",
       "      <td>1.760417</td>\n",
       "      <td>1.770833</td>\n",
       "      <td>1.625000</td>\n",
       "      <td>1.708333</td>\n",
       "      <td>1.708333</td>\n",
       "      <td>6106800.0</td>\n",
       "    </tr>\n",
       "  </tbody>\n",
       "</table>\n",
       "</div>"
      ],
      "text/plain": [
       "                Open      High       Low         y  Adj Close      Volume\n",
       "Date                                                                     \n",
       "1997-05-15  2.437500  2.500000  1.927083  1.958333   1.958333  72156000.0\n",
       "1997-05-16  1.968750  1.979167  1.708333  1.729167   1.729167  14700000.0\n",
       "1997-05-17       NaN       NaN       NaN       NaN        NaN         NaN\n",
       "1997-05-18       NaN       NaN       NaN       NaN        NaN         NaN\n",
       "1997-05-19  1.760417  1.770833  1.625000  1.708333   1.708333   6106800.0"
      ]
     },
     "execution_count": 9,
     "metadata": {},
     "output_type": "execute_result"
    }
   ],
   "source": [
    "# Change the time Series variable name\n",
    "df_freq_d = df_freq_d.rename(columns = {'Close': 'y'})\n",
    "df_freq_d.head()"
   ]
  },
  {
   "cell_type": "code",
   "execution_count": 11,
   "metadata": {},
   "outputs": [
    {
     "data": {
      "text/plain": [
       "(8479, 6)"
      ]
     },
     "execution_count": 11,
     "metadata": {},
     "output_type": "execute_result"
    }
   ],
   "source": [
    "df_freq_d.shape"
   ]
  },
  {
   "cell_type": "markdown",
   "metadata": {},
   "source": [
    "Here after using the frequency of Day, it was having many NaN values because of the weekends days [Saturday, Sunday] and we find that the shape has increased from 5842 to 8479, so we will use the B day instead"
   ]
  },
  {
   "cell_type": "code",
   "execution_count": 13,
   "metadata": {},
   "outputs": [],
   "source": [
    "df_freq_B = df.asfreq(\"B\")"
   ]
  },
  {
   "cell_type": "code",
   "execution_count": 14,
   "metadata": {},
   "outputs": [
    {
     "data": {
      "text/plain": [
       "(6057, 6)"
      ]
     },
     "execution_count": 14,
     "metadata": {},
     "output_type": "execute_result"
    }
   ],
   "source": [
    "df_freq_B.shape"
   ]
  },
  {
   "cell_type": "code",
   "execution_count": 15,
   "metadata": {},
   "outputs": [
    {
     "data": {
      "text/plain": [
       "Open         215\n",
       "High         215\n",
       "Low          215\n",
       "Close        215\n",
       "Adj Close    215\n",
       "Volume       215\n",
       "dtype: int64"
      ]
     },
     "execution_count": 15,
     "metadata": {},
     "output_type": "execute_result"
    }
   ],
   "source": [
    "df_freq_B.isnull().sum()"
   ]
  },
  {
   "cell_type": "code",
   "execution_count": 16,
   "metadata": {},
   "outputs": [
    {
     "data": {
      "text/html": [
       "<div>\n",
       "<style scoped>\n",
       "    .dataframe tbody tr th:only-of-type {\n",
       "        vertical-align: middle;\n",
       "    }\n",
       "\n",
       "    .dataframe tbody tr th {\n",
       "        vertical-align: top;\n",
       "    }\n",
       "\n",
       "    .dataframe thead th {\n",
       "        text-align: right;\n",
       "    }\n",
       "</style>\n",
       "<table border=\"1\" class=\"dataframe\">\n",
       "  <thead>\n",
       "    <tr style=\"text-align: right;\">\n",
       "      <th></th>\n",
       "      <th>Open</th>\n",
       "      <th>High</th>\n",
       "      <th>Low</th>\n",
       "      <th>Close</th>\n",
       "      <th>Adj Close</th>\n",
       "      <th>Volume</th>\n",
       "    </tr>\n",
       "    <tr>\n",
       "      <th>Date</th>\n",
       "      <th></th>\n",
       "      <th></th>\n",
       "      <th></th>\n",
       "      <th></th>\n",
       "      <th></th>\n",
       "      <th></th>\n",
       "    </tr>\n",
       "  </thead>\n",
       "  <tbody>\n",
       "    <tr>\n",
       "      <th>1997-05-15</th>\n",
       "      <td>2.437500</td>\n",
       "      <td>2.500000</td>\n",
       "      <td>1.927083</td>\n",
       "      <td>1.958333</td>\n",
       "      <td>1.958333</td>\n",
       "      <td>72156000.0</td>\n",
       "    </tr>\n",
       "    <tr>\n",
       "      <th>1997-05-16</th>\n",
       "      <td>1.968750</td>\n",
       "      <td>1.979167</td>\n",
       "      <td>1.708333</td>\n",
       "      <td>1.729167</td>\n",
       "      <td>1.729167</td>\n",
       "      <td>14700000.0</td>\n",
       "    </tr>\n",
       "    <tr>\n",
       "      <th>1997-05-19</th>\n",
       "      <td>1.760417</td>\n",
       "      <td>1.770833</td>\n",
       "      <td>1.625000</td>\n",
       "      <td>1.708333</td>\n",
       "      <td>1.708333</td>\n",
       "      <td>6106800.0</td>\n",
       "    </tr>\n",
       "    <tr>\n",
       "      <th>1997-05-20</th>\n",
       "      <td>1.729167</td>\n",
       "      <td>1.750000</td>\n",
       "      <td>1.635417</td>\n",
       "      <td>1.635417</td>\n",
       "      <td>1.635417</td>\n",
       "      <td>5467200.0</td>\n",
       "    </tr>\n",
       "    <tr>\n",
       "      <th>1997-05-21</th>\n",
       "      <td>1.635417</td>\n",
       "      <td>1.645833</td>\n",
       "      <td>1.375000</td>\n",
       "      <td>1.427083</td>\n",
       "      <td>1.427083</td>\n",
       "      <td>18853200.0</td>\n",
       "    </tr>\n",
       "  </tbody>\n",
       "</table>\n",
       "</div>"
      ],
      "text/plain": [
       "                Open      High       Low     Close  Adj Close      Volume\n",
       "Date                                                                     \n",
       "1997-05-15  2.437500  2.500000  1.927083  1.958333   1.958333  72156000.0\n",
       "1997-05-16  1.968750  1.979167  1.708333  1.729167   1.729167  14700000.0\n",
       "1997-05-19  1.760417  1.770833  1.625000  1.708333   1.708333   6106800.0\n",
       "1997-05-20  1.729167  1.750000  1.635417  1.635417   1.635417   5467200.0\n",
       "1997-05-21  1.635417  1.645833  1.375000  1.427083   1.427083  18853200.0"
      ]
     },
     "execution_count": 16,
     "metadata": {},
     "output_type": "execute_result"
    }
   ],
   "source": [
    "df_freq_B.head()"
   ]
  },
  {
   "cell_type": "markdown",
   "metadata": {},
   "source": [
    "The reason the size became 6057 and not 5842 was because many business days could be off due to official holidays and/or extraordinary event"
   ]
  },
  {
   "cell_type": "code",
   "execution_count": 17,
   "metadata": {},
   "outputs": [
    {
     "name": "stdout",
     "output_type": "stream",
     "text": [
      "DatetimeIndex(['1997-05-26', '1997-07-04', '1997-09-01', '1997-11-27',\n",
      "               '1997-12-25', '1998-01-01', '1998-01-19', '1998-02-16',\n",
      "               '1998-04-10', '1998-05-25',\n",
      "               ...\n",
      "               '2019-07-04', '2019-09-02', '2019-11-28', '2019-12-25',\n",
      "               '2020-01-01', '2020-01-20', '2020-02-17', '2020-04-10',\n",
      "               '2020-05-25', '2020-07-03'],\n",
      "              dtype='datetime64[ns]', name='Date', length=215, freq=None)\n",
      "215\n"
     ]
    }
   ],
   "source": [
    "# Here we see which days were added and at the same time were holiday and/or extraordinary event\n",
    "df_original = pd.read_csv(\"Amazon.csv\", index_col=\"Date\", parse_dates=True, dayfirst=True)\n",
    "df_full = df_original.asfreq(\"B\")\n",
    "\n",
    "missing_dates = df_full[df_full['Open'].isna()].index\n",
    "print(missing_dates)\n",
    "print(len(missing_dates))"
   ]
  },
  {
   "cell_type": "markdown",
   "metadata": {
    "id": "73t71THXfZ31"
   },
   "source": [
    "A list of commonly used `.asfreq()` aliases:\n",
    "\n",
    "Time-based frequencies:\n",
    "\n",
    "- 'D': Calendar day frequency\n",
    "- 'B': Business day frequency\n",
    "- 'W': Weekly frequency\n",
    "- 'W-MON', 'W-TUE', ..., 'W-SUN': Weekly frequency (anchored on a specific day)\n",
    "- 'M': Month end frequency\n",
    "- 'MS': Month start frequency\n",
    "- 'Q': Quarter end frequency\n",
    "- 'QS': Quarter start frequency\n",
    "- 'A' or 'Y': Year end frequency\n",
    "- 'BA' or 'BY': Business year end frequency\n",
    "- 'AS' or 'YS': Year start frequency\n",
    "- 'BAS' or 'BYS': Business year start frequency\n",
    "\n",
    "\n",
    "Hourly, minutely, and secondly frequencies:\n",
    "\n",
    "- 'H': Hourly frequency\n",
    "- 'T' or 'min': Minutely frequency\n",
    "- 'S': Secondly frequency\n",
    "\n",
    "\n",
    "You can also use multiples, like:\n",
    "\n",
    "- '2D': Every 2 days\n",
    "- '4H': Every 4 hours\n",
    "- '15T' or '15min': Every 15 minutes"
   ]
  },
  {
   "cell_type": "markdown",
   "metadata": {
    "id": "JKWng1hbAa05"
   },
   "source": [
    "# Exploratory Data Analysis"
   ]
  },
  {
   "cell_type": "code",
   "execution_count": 19,
   "metadata": {
    "colab": {
     "base_uri": "https://localhost:8080/",
     "height": 472
    },
    "executionInfo": {
     "elapsed": 931,
     "status": "ok",
     "timestamp": 1706965671920,
     "user": {
      "displayName": "Diogo Resende",
      "userId": "05706604408624562002"
     },
     "user_tz": -60
    },
    "id": "CXcmxcaNIqf3",
    "outputId": "d4404c44-6be2-4c72-ffff-e70bf40f358c"
   },
   "outputs": [
    {
     "data": {
      "image/png": "[encoded data removed]",
      "text/plain": [
       "<Figure size 640x480 with 1 Axes>"
      ]
     },
     "metadata": {},
     "output_type": "display_data"
    }
   ],
   "source": [
    "# Daily revenues line plot\n",
    "df_freq_d['y'].plot(title = 'Daily Revenues')\n",
    "plt.show()"
   ]
  },
  {
   "cell_type": "code",
   "execution_count": 20,
   "metadata": {},
   "outputs": [
    {
     "data": {
      "text/html": [
       "<div>\n",
       "<style scoped>\n",
       "    .dataframe tbody tr th:only-of-type {\n",
       "        vertical-align: middle;\n",
       "    }\n",
       "\n",
       "    .dataframe tbody tr th {\n",
       "        vertical-align: top;\n",
       "    }\n",
       "\n",
       "    .dataframe thead th {\n",
       "        text-align: right;\n",
       "    }\n",
       "</style>\n",
       "<table border=\"1\" class=\"dataframe\">\n",
       "  <thead>\n",
       "    <tr style=\"text-align: right;\">\n",
       "      <th></th>\n",
       "      <th>Open</th>\n",
       "      <th>High</th>\n",
       "      <th>Low</th>\n",
       "      <th>y</th>\n",
       "      <th>Adj Close</th>\n",
       "      <th>Volume</th>\n",
       "    </tr>\n",
       "    <tr>\n",
       "      <th>Date</th>\n",
       "      <th></th>\n",
       "      <th></th>\n",
       "      <th></th>\n",
       "      <th></th>\n",
       "      <th></th>\n",
       "      <th></th>\n",
       "    </tr>\n",
       "  </thead>\n",
       "  <tbody>\n",
       "    <tr>\n",
       "      <th>1997-05-15</th>\n",
       "      <td>2.437500</td>\n",
       "      <td>2.500000</td>\n",
       "      <td>1.927083</td>\n",
       "      <td>1.958333</td>\n",
       "      <td>1.958333</td>\n",
       "      <td>72156000.0</td>\n",
       "    </tr>\n",
       "    <tr>\n",
       "      <th>1997-05-16</th>\n",
       "      <td>1.968750</td>\n",
       "      <td>1.979167</td>\n",
       "      <td>1.708333</td>\n",
       "      <td>1.729167</td>\n",
       "      <td>1.729167</td>\n",
       "      <td>14700000.0</td>\n",
       "    </tr>\n",
       "    <tr>\n",
       "      <th>1997-05-17</th>\n",
       "      <td>NaN</td>\n",
       "      <td>NaN</td>\n",
       "      <td>NaN</td>\n",
       "      <td>NaN</td>\n",
       "      <td>NaN</td>\n",
       "      <td>NaN</td>\n",
       "    </tr>\n",
       "    <tr>\n",
       "      <th>1997-05-18</th>\n",
       "      <td>NaN</td>\n",
       "      <td>NaN</td>\n",
       "      <td>NaN</td>\n",
       "      <td>NaN</td>\n",
       "      <td>NaN</td>\n",
       "      <td>NaN</td>\n",
       "    </tr>\n",
       "    <tr>\n",
       "      <th>1997-05-19</th>\n",
       "      <td>1.760417</td>\n",
       "      <td>1.770833</td>\n",
       "      <td>1.625000</td>\n",
       "      <td>1.708333</td>\n",
       "      <td>1.708333</td>\n",
       "      <td>6106800.0</td>\n",
       "    </tr>\n",
       "  </tbody>\n",
       "</table>\n",
       "</div>"
      ],
      "text/plain": [
       "                Open      High       Low         y  Adj Close      Volume\n",
       "Date                                                                     \n",
       "1997-05-15  2.437500  2.500000  1.927083  1.958333   1.958333  72156000.0\n",
       "1997-05-16  1.968750  1.979167  1.708333  1.729167   1.729167  14700000.0\n",
       "1997-05-17       NaN       NaN       NaN       NaN        NaN         NaN\n",
       "1997-05-18       NaN       NaN       NaN       NaN        NaN         NaN\n",
       "1997-05-19  1.760417  1.770833  1.625000  1.708333   1.708333   6106800.0"
      ]
     },
     "execution_count": 20,
     "metadata": {},
     "output_type": "execute_result"
    }
   ],
   "source": [
    "df_freq_d.head()"
   ]
  },
  {
   "cell_type": "code",
   "execution_count": 22,
   "metadata": {},
   "outputs": [
    {
     "data": {
      "image/png": "[encoded data removed]",
      "text/plain": [
       "<Figure size 640x480 with 1 Axes>"
      ]
     },
     "metadata": {},
     "output_type": "display_data"
    }
   ],
   "source": [
    "df_freq_B = df_freq_B.rename(columns = {'Close': 'y'})\n",
    "df_freq_B['y'].plot(title = 'Business Day Revenues')\n",
    "plt.show()"
   ]
  },
  {
   "cell_type": "code",
   "execution_count": 23,
   "metadata": {},
   "outputs": [
    {
     "data": {
      "text/html": [
       "<div>\n",
       "<style scoped>\n",
       "    .dataframe tbody tr th:only-of-type {\n",
       "        vertical-align: middle;\n",
       "    }\n",
       "\n",
       "    .dataframe tbody tr th {\n",
       "        vertical-align: top;\n",
       "    }\n",
       "\n",
       "    .dataframe thead th {\n",
       "        text-align: right;\n",
       "    }\n",
       "</style>\n",
       "<table border=\"1\" class=\"dataframe\">\n",
       "  <thead>\n",
       "    <tr style=\"text-align: right;\">\n",
       "      <th></th>\n",
       "      <th>Open</th>\n",
       "      <th>High</th>\n",
       "      <th>Low</th>\n",
       "      <th>y</th>\n",
       "      <th>Adj Close</th>\n",
       "      <th>Volume</th>\n",
       "    </tr>\n",
       "    <tr>\n",
       "      <th>Date</th>\n",
       "      <th></th>\n",
       "      <th></th>\n",
       "      <th></th>\n",
       "      <th></th>\n",
       "      <th></th>\n",
       "      <th></th>\n",
       "    </tr>\n",
       "  </thead>\n",
       "  <tbody>\n",
       "    <tr>\n",
       "      <th>1997-05-15</th>\n",
       "      <td>2.437500</td>\n",
       "      <td>2.500000</td>\n",
       "      <td>1.927083</td>\n",
       "      <td>1.958333</td>\n",
       "      <td>1.958333</td>\n",
       "      <td>72156000.0</td>\n",
       "    </tr>\n",
       "    <tr>\n",
       "      <th>1997-05-16</th>\n",
       "      <td>1.968750</td>\n",
       "      <td>1.979167</td>\n",
       "      <td>1.708333</td>\n",
       "      <td>1.729167</td>\n",
       "      <td>1.729167</td>\n",
       "      <td>14700000.0</td>\n",
       "    </tr>\n",
       "    <tr>\n",
       "      <th>1997-05-19</th>\n",
       "      <td>1.760417</td>\n",
       "      <td>1.770833</td>\n",
       "      <td>1.625000</td>\n",
       "      <td>1.708333</td>\n",
       "      <td>1.708333</td>\n",
       "      <td>6106800.0</td>\n",
       "    </tr>\n",
       "    <tr>\n",
       "      <th>1997-05-20</th>\n",
       "      <td>1.729167</td>\n",
       "      <td>1.750000</td>\n",
       "      <td>1.635417</td>\n",
       "      <td>1.635417</td>\n",
       "      <td>1.635417</td>\n",
       "      <td>5467200.0</td>\n",
       "    </tr>\n",
       "    <tr>\n",
       "      <th>1997-05-21</th>\n",
       "      <td>1.635417</td>\n",
       "      <td>1.645833</td>\n",
       "      <td>1.375000</td>\n",
       "      <td>1.427083</td>\n",
       "      <td>1.427083</td>\n",
       "      <td>18853200.0</td>\n",
       "    </tr>\n",
       "  </tbody>\n",
       "</table>\n",
       "</div>"
      ],
      "text/plain": [
       "                Open      High       Low         y  Adj Close      Volume\n",
       "Date                                                                     \n",
       "1997-05-15  2.437500  2.500000  1.927083  1.958333   1.958333  72156000.0\n",
       "1997-05-16  1.968750  1.979167  1.708333  1.729167   1.729167  14700000.0\n",
       "1997-05-19  1.760417  1.770833  1.625000  1.708333   1.708333   6106800.0\n",
       "1997-05-20  1.729167  1.750000  1.635417  1.635417   1.635417   5467200.0\n",
       "1997-05-21  1.635417  1.645833  1.375000  1.427083   1.427083  18853200.0"
      ]
     },
     "execution_count": 23,
     "metadata": {},
     "output_type": "execute_result"
    }
   ],
   "source": [
    "df_freq_B.head()"
   ]
  },
  {
   "cell_type": "code",
   "execution_count": 24,
   "metadata": {
    "colab": {
     "base_uri": "https://localhost:8080/",
     "height": 445
    },
    "executionInfo": {
     "elapsed": 589,
     "status": "ok",
     "timestamp": 1706965672495,
     "user": {
      "displayName": "Diogo Resende",
      "userId": "05706604408624562002"
     },
     "user_tz": -60
    },
    "id": "N_U16JVmwNM1",
    "outputId": "da49cf80-3dcc-4a25-a82c-1fdd74bf9b0c"
   },
   "outputs": [
    {
     "data": {
      "image/png": "[encoded data removed]",
      "text/plain": [
       "<Figure size 640x480 with 1 Axes>"
      ]
     },
     "metadata": {},
     "output_type": "display_data"
    }
   ],
   "source": [
    "# month_plot() - To visualize the average value for each month across multiple years in a time series\n",
    "# red lines - Represents the mean value for each month\n",
    "\n",
    "# Plotting the monthly seasonality of revenue values\n",
    "month_plot(df_freq_d['y'].resample('M').mean(),\n",
    "           ylabel = 'Revenue')\n",
    "plt.show()"
   ]
  },
  {
   "cell_type": "code",
   "execution_count": 25,
   "metadata": {},
   "outputs": [
    {
     "data": {
      "image/png": "[encoded data removed]",
      "text/plain": [
       "<Figure size 640x480 with 1 Axes>"
      ]
     },
     "metadata": {},
     "output_type": "display_data"
    }
   ],
   "source": [
    "month_plot(df_freq_B['y'].resample('M').mean(),\n",
    "           ylabel = 'Revenue')\n",
    "plt.show()"
   ]
  },
  {
   "cell_type": "code",
   "execution_count": 26,
   "metadata": {
    "colab": {
     "base_uri": "https://localhost:8080/",
     "height": 445
    },
    "executionInfo": {
     "elapsed": 830,
     "status": "ok",
     "timestamp": 1706965673303,
     "user": {
      "displayName": "Diogo Resende",
      "userId": "05706604408624562002"
     },
     "user_tz": -60
    },
    "id": "wrMEvQykxAnd",
    "outputId": "711dcefd-7d3b-4b5b-970d-50361c733632"
   },
   "outputs": [
    {
     "data": {
      "image/png": "[encoded data removed]",
      "text/plain": [
       "<Figure size 640x480 with 1 Axes>"
      ]
     },
     "metadata": {},
     "output_type": "display_data"
    }
   ],
   "source": [
    "# quarter_plot() - To visualize seasonal patterns at a quarterly level.\n",
    "# Q1 (january, february, march), Q2 (april, may, june), Q3 (july, august, september), Q4 (october, november, december)\n",
    "\n",
    "# Plotting the quarterly seasonality of revenue values\n",
    "# .resample('Q') - to convert the time series data into quarterly seasonality\n",
    "quarter_plot(df_freq_d['y'].resample('Q').mean(),\n",
    "           ylabel = 'Revenue')\n",
    "plt.show()"
   ]
  },
  {
   "cell_type": "code",
   "execution_count": 27,
   "metadata": {},
   "outputs": [
    {
     "data": {
      "image/png": "[encoded data removed]",
      "text/plain": [
       "<Figure size 640x480 with 1 Axes>"
      ]
     },
     "metadata": {},
     "output_type": "display_data"
    }
   ],
   "source": [
    "quarter_plot(df_freq_B['y'].resample('Q').mean(),\n",
    "           ylabel = 'Revenue')\n",
    "plt.show()"
   ]
  },
  {
   "cell_type": "markdown",
   "metadata": {},
   "source": [
    "We can see there is no clear difference between the two, the reason any null values are automatically being ignored so we will use the buisness from now on"
   ]
  },
  {
   "cell_type": "markdown",
   "metadata": {
    "id": "6wdcLd0LfvST"
   },
   "source": [
    "`seasonal_decompose` - To decompose a time series into its constituent parts to better understand the underlying patterns.\n",
    "\n",
    "components\n",
    "\n",
    "- Trend: The overall direction of the series (increasing, decreasing, or stable).\n",
    "- Seasonal: Repeating patterns at fixed intervals (e.g., daily, weekly, monthly).\n",
    "- Residual: The remaining variation after removing trend and seasonal components."
   ]
  },
  {
   "cell_type": "code",
   "execution_count": 28,
   "metadata": {
    "colab": {
     "base_uri": "https://localhost:8080/",
     "height": 716
    },
    "executionInfo": {
     "elapsed": 2111,
     "status": "ok",
     "timestamp": 1706965675388,
     "user": {
      "displayName": "Diogo Resende",
      "userId": "05706604408624562002"
     },
     "user_tz": -60
    },
    "id": "L0tqOeNZ0Z4u",
    "outputId": "7c4ee81e-c235-43d3-c5da-642c2b9033dd"
   },
   "outputs": [
    {
     "ename": "ValueError",
     "evalue": "This function does not handle missing values",
     "output_type": "error",
     "traceback": [
      "\u001b[1;31m---------------------------------------------------------------------------\u001b[0m",
      "\u001b[1;31mValueError\u001b[0m                                Traceback (most recent call last)",
      "Cell \u001b[1;32mIn[28], line 3\u001b[0m\n\u001b[0;32m      1\u001b[0m \u001b[38;5;66;03m# Seasonal Decomposition Plots for Revenue Data\u001b[39;00m\n\u001b[0;32m      2\u001b[0m \u001b[38;5;66;03m# Multiplicative model type, with daily seasonality (365 days)\u001b[39;00m\n\u001b[1;32m----> 3\u001b[0m decomposition \u001b[38;5;241m=\u001b[39m \u001b[43mseasonal_decompose\u001b[49m\u001b[43m(\u001b[49m\u001b[43mdf_freq_B\u001b[49m\u001b[43m[\u001b[49m\u001b[38;5;124;43m'\u001b[39;49m\u001b[38;5;124;43my\u001b[39;49m\u001b[38;5;124;43m'\u001b[39;49m\u001b[43m]\u001b[49m\u001b[43m,\u001b[49m\n\u001b[0;32m      4\u001b[0m \u001b[43m                                   \u001b[49m\u001b[43mmodel\u001b[49m\u001b[43m \u001b[49m\u001b[38;5;241;43m=\u001b[39;49m\u001b[43m \u001b[49m\u001b[38;5;124;43m'\u001b[39;49m\u001b[38;5;124;43mmul\u001b[39;49m\u001b[38;5;124;43m'\u001b[39;49m\u001b[43m,\u001b[49m\n\u001b[0;32m      5\u001b[0m \u001b[43m                                   \u001b[49m\u001b[43mperiod\u001b[49m\u001b[43m \u001b[49m\u001b[38;5;241;43m=\u001b[39;49m\u001b[43m \u001b[49m\u001b[38;5;241;43m365\u001b[39;49m\u001b[43m)\u001b[49m\n\u001b[0;32m      6\u001b[0m fig \u001b[38;5;241m=\u001b[39m decomposition\u001b[38;5;241m.\u001b[39mplot()\n\u001b[0;32m      7\u001b[0m fig\u001b[38;5;241m.\u001b[39mset_size_inches(\u001b[38;5;241m10\u001b[39m,\u001b[38;5;241m8\u001b[39m)\n",
      "File \u001b[1;32m~\\anaconda3\\envs\\tf_gpu\\lib\\site-packages\\statsmodels\\tsa\\seasonal.py:154\u001b[0m, in \u001b[0;36mseasonal_decompose\u001b[1;34m(x, model, filt, period, two_sided, extrapolate_trend)\u001b[0m\n\u001b[0;32m    151\u001b[0m nobs \u001b[38;5;241m=\u001b[39m \u001b[38;5;28mlen\u001b[39m(x)\n\u001b[0;32m    153\u001b[0m \u001b[38;5;28;01mif\u001b[39;00m \u001b[38;5;129;01mnot\u001b[39;00m np\u001b[38;5;241m.\u001b[39mall(np\u001b[38;5;241m.\u001b[39misfinite(x)):\n\u001b[1;32m--> 154\u001b[0m     \u001b[38;5;28;01mraise\u001b[39;00m \u001b[38;5;167;01mValueError\u001b[39;00m(\u001b[38;5;124m\"\u001b[39m\u001b[38;5;124mThis function does not handle missing values\u001b[39m\u001b[38;5;124m\"\u001b[39m)\n\u001b[0;32m    155\u001b[0m \u001b[38;5;28;01mif\u001b[39;00m model\u001b[38;5;241m.\u001b[39mstartswith(\u001b[38;5;124m\"\u001b[39m\u001b[38;5;124mm\u001b[39m\u001b[38;5;124m\"\u001b[39m):\n\u001b[0;32m    156\u001b[0m     \u001b[38;5;28;01mif\u001b[39;00m np\u001b[38;5;241m.\u001b[39many(x \u001b[38;5;241m<\u001b[39m\u001b[38;5;241m=\u001b[39m \u001b[38;5;241m0\u001b[39m):\n",
      "\u001b[1;31mValueError\u001b[0m: This function does not handle missing values"
     ]
    }
   ],
   "source": [
    "# Seasonal Decomposition Plots for Revenue Data\n",
    "# Multiplicative model type, with daily seasonality (365 days)\n",
    "df = df\n",
    "decomposition = seasonal_decompose(df['y'],\n",
    "                                   model = 'mul',\n",
    "                                   period = 365)\n",
    "fig = decomposition.plot()\n",
    "fig.set_size_inches(10,8)\n",
    "plt.show()"
   ]
  },
  {
   "cell_type": "markdown",
   "metadata": {
    "id": "FmyXhA2Bfzf8"
   },
   "source": [
    "Autocorrelation measures the correlation between a time series and a lagged version of itself.\n",
    "\n",
    "Purpose: To identify patterns or repeating cycles in a time series dataset.\n",
    "\n",
    "Interpretation:\n",
    "- Values range from -1 to 1.\n",
    "- 1 indicates perfect positive correlation.\n",
    "- -1 indicates perfect negative correlation.\n",
    "- 0 indicates no correlation.\n",
    "\n",
    "ACF Plot:\n",
    "- X-axis: Lag periods\n",
    "- Y-axis: Correlation coefficient\n",
    "\n",
    "Key Features:\n",
    "- At lag 0, autocorrelation is always 1 (a series is perfectly correlated with itself).\n",
    "- Significant spikes at certain lags indicate repeating patterns.\n"
   ]
  },
  {
   "cell_type": "code",
   "execution_count": 82,
   "metadata": {
    "colab": {
     "base_uri": "https://localhost:8080/",
     "height": 545
    },
    "executionInfo": {
     "elapsed": 909,
     "status": "ok",
     "timestamp": 1706965676279,
     "user": {
      "displayName": "Diogo Resende",
      "userId": "05706604408624562002"
     },
     "user_tz": -60
    },
    "id": "daANxB6I3sSf",
    "outputId": "1014971f-7843-4f80-e4b9-a57c25286414"
   },
   "outputs": [
    {
     "data": {
      "image/png": "[encoded data removed]",
      "text/plain": [
       "<Figure size 1000x600 with 1 Axes>"
      ]
     },
     "metadata": {},
     "output_type": "display_data"
    }
   ],
   "source": [
    "# Plot the autocorrelation (ACF) of revenue values\n",
    "fig, ax = plt.subplots(figsize = (10,6))\n",
    "plot_acf(df['y'], lags = 100, ax = ax)\n",
    "plt.show()"
   ]
  },
  {
   "cell_type": "markdown",
   "metadata": {
    "id": "1PGSBST6f1qr"
   },
   "source": [
    "PACF measures the correlation between a time series and its lag, after removing the effects of all shorter lags.\n",
    "\n",
    "Purpose: To identify the direct relationship between an observation and its lag, without intermediate effects.\n",
    "\n",
    "Main Difference between ACF and PACF:\n",
    "- ACF: Measures overall correlation at each lag, including indirect effects.\n",
    "- PACF: Measures direct correlation at each lag, excluding indirect effects."
   ]
  },
  {
   "cell_type": "code",
   "execution_count": 83,
   "metadata": {
    "colab": {
     "base_uri": "https://localhost:8080/",
     "height": 545
    },
    "executionInfo": {
     "elapsed": 30,
     "status": "ok",
     "timestamp": 1706965676280,
     "user": {
      "displayName": "Diogo Resende",
      "userId": "05706604408624562002"
     },
     "user_tz": -60
    },
    "id": "ilvIfn_H-Q6N",
    "outputId": "feb8deae-8754-484c-ed8f-4f7fd6971240"
   },
   "outputs": [
    {
     "name": "stderr",
     "output_type": "stream",
     "text": [
      "C:\\Users\\Breadfast\\AppData\\Local\\Packages\\PythonSoftwareFoundation.Python.3.7_qbz5n2kfra8p0\\LocalCache\\local-packages\\Python37\\site-packages\\statsmodels\\graphics\\tsaplots.py:353: FutureWarning: The default method 'yw' can produce PACF values outside of the [-1,1] interval. After 0.13, the default will change tounadjusted Yule-Walker ('ywm'). You can use this method now by setting method='ywm'.\n",
      "  FutureWarning,\n"
     ]
    },
    {
     "data": {
      "image/png": "[encoded data removed]",
      "text/plain": [
       "<Figure size 1000x600 with 1 Axes>"
      ]
     },
     "metadata": {},
     "output_type": "display_data"
    }
   ],
   "source": [
    "# Plot the partial autocorrelation (PACF) of revenue values\n",
    "fig, ax = plt.subplots(figsize = (10,6))\n",
    "plot_pacf(df['y'], lags = 100, ax = ax)\n",
    "plt.show()"
   ]
  },
  {
   "cell_type": "markdown",
   "metadata": {
    "id": "8KseYH-0fpC_"
   },
   "source": [
    "`.resample()` offset aliases:\n",
    "- B = business day\n",
    "- D = calendar day\n",
    "- W = weekly\n",
    "- M = month end\n",
    "- BM = business month end\n",
    "- MS = month start\n",
    "- BMS = business month start\n",
    "- Q = quarter end\n",
    "- BQ = business quarter end\n",
    "- QS = quarter start\n",
    "- BQS = business quarter start\n",
    "- A = year end\n",
    "- BA = business year end\n",
    "- AS = year start\n",
    "- BAS = business year start\n",
    "- h = hourly\n",
    "- min = minutely\n",
    "- s = secondly\n",
    "- ms = milliseconds\n",
    "- us = microseconds"
   ]
  },
  {
   "cell_type": "markdown",
   "metadata": {
    "id": "jeBOOYf-ihVY"
   },
   "source": [
    "# Stationarity\n",
    "\n",
    "`adfuller` - used to perform the Augmented Dickey-Fuller test, which is a statistical test for testing the stationarity of a time series\n",
    "\n",
    " Stationarity implies that the statistical properties of the time series, such as mean and variance, do not change over time.\n",
    "\n",
    " The test evaluates a null hypothesis that the time series is non-stationary. If the p-value obtained from the test is less than a significance level (commonly 0.05), we reject the null hypothesis and conclude that the time series is stationary."
   ]
  },
  {
   "cell_type": "code",
   "execution_count": 84,
   "metadata": {
    "colab": {
     "base_uri": "https://localhost:8080/"
    },
    "executionInfo": {
     "elapsed": 1095,
     "status": "ok",
     "timestamp": 1706965677350,
     "user": {
      "displayName": "Diogo Resende",
      "userId": "05706604408624562002"
     },
     "user_tz": -60
    },
    "id": "R-stLvfZij6c",
    "outputId": "c6f3a13e-a30a-4d82-acd5-0005ba422294"
   },
   "outputs": [
    {
     "name": "stdout",
     "output_type": "stream",
     "text": [
      "p-value: 0.101904\n",
      "Evidence suggests that the time series is not stationary.\n"
     ]
    }
   ],
   "source": [
    "from statsmodels.tsa.stattools import adfuller\n",
    "\n",
    "# Perform Augmented Dickey-Fuller test\n",
    "# 'result' contains the test statistic and the p-value.\n",
    "result = adfuller(df.y)\n",
    "print('p-value: %f' % result[1])\n",
    "\n",
    "# Interpreting the results\n",
    "if result[1] < 0.05:\n",
    "    print(\"Evidence suggests that the time series is stationary.\")\n",
    "else:\n",
    "    print(\"Evidence suggests that the time series is not stationary.\")\n"
   ]
  },
  {
   "cell_type": "code",
   "execution_count": 85,
   "metadata": {
    "colab": {
     "base_uri": "https://localhost:8080/"
    },
    "executionInfo": {
     "elapsed": 38,
     "status": "ok",
     "timestamp": 1706965677351,
     "user": {
      "displayName": "Diogo Resende",
      "userId": "05706604408624562002"
     },
     "user_tz": -60
    },
    "id": "qTpXOYu4jvaN",
    "outputId": "b37e8473-3df5-4c2e-f30a-2cd0c50de056"
   },
   "outputs": [
    {
     "data": {
      "text/plain": [
       "date\n",
       "2018-01-01           NaN\n",
       "2018-01-02     2651237.0\n",
       "2018-01-03     -475975.0\n",
       "2018-01-04     -660303.0\n",
       "2018-01-05    -1410495.0\n",
       "                 ...    \n",
       "2022-11-26   -39180777.0\n",
       "2022-11-27     4955921.0\n",
       "2022-11-28      210050.0\n",
       "2022-11-29   -17786305.0\n",
       "2022-11-30      712049.0\n",
       "Freq: D, Name: y_diff, Length: 1795, dtype: float64"
      ]
     },
     "execution_count": 85,
     "metadata": {},
     "output_type": "execute_result"
    }
   ],
   "source": [
    "# Compute the first difference of the 'y' column in DataFrame 'df' and assign it to a new column 'y_diff'.\n",
    "# '.diff()' calculates the difference between consecutive elements along the specified axis (by default axis 0).\n",
    "# 'dropna()' removes any rows with NaN values resulting from differencing.\n",
    "df['y_diff'] = df.y.diff().dropna()\n",
    "df['y_diff']"
   ]
  },
  {
   "cell_type": "code",
   "execution_count": 86,
   "metadata": {
    "colab": {
     "base_uri": "https://localhost:8080/",
     "height": 465
    },
    "executionInfo": {
     "elapsed": 602,
     "status": "ok",
     "timestamp": 1706965677925,
     "user": {
      "displayName": "Diogo Resende",
      "userId": "05706604408624562002"
     },
     "user_tz": -60
    },
    "id": "MbSBjLVOjyZA",
    "outputId": "726154d6-2378-4929-8071-91fe8ca454a3"
   },
   "outputs": [
    {
     "data": {
      "image/png": "[encoded data removed]",
      "text/plain": [
       "<Figure size 1400x700 with 2 Axes>"
      ]
     },
     "metadata": {},
     "output_type": "display_data"
    }
   ],
   "source": [
    "# Plotting the original and differenced series\n",
    "# Set the size of the plot to 14 inches by 7 inches\n",
    "plt.figure(figsize=(14, 7))\n",
    "\n",
    "# Subplot for the original series\n",
    "plt.subplot(2, 1, 1)  # 2 rows, 1 column, 1st subplot\n",
    "plt.plot(df.y, label='Original Series')\n",
    "plt.title('Original Time Series')\n",
    "plt.legend()\n",
    "\n",
    "# Subplot for the differenced series\n",
    "plt.subplot(2, 1, 2)  # 2 rows, 1 column, 2nd subplot\n",
    "plt.plot(df['y_diff'], label='Differenced Series', color='orange')\n",
    "plt.title('Differenced Time Series')\n",
    "plt.legend()\n",
    "\n",
    "# Adjust layout to prevent overlapping of titles and labels\n",
    "plt.tight_layout()\n",
    "plt.show()"
   ]
  },
  {
   "cell_type": "code",
   "execution_count": null,
   "metadata": {
    "colab": {
     "base_uri": "https://localhost:8080/"
    },
    "executionInfo": {
     "elapsed": 708,
     "status": "ok",
     "timestamp": 1706965678610,
     "user": {
      "displayName": "Diogo Resende",
      "userId": "05706604408624562002"
     },
     "user_tz": -60
    },
    "id": "jUrdkHkZkEAi",
    "outputId": "d7ec119b-4d28-43d6-ab3d-66d02dc663e4"
   },
   "outputs": [
    {
     "name": "stdout",
     "output_type": "stream",
     "text": [
      "p-value: 0.000000\n",
      "Evidence suggests that the time series is stationary.\n"
     ]
    }
   ],
   "source": [
    "# Perform ADF test without null values\n",
    "# 'result' contains the test statistic and the p-value.\n",
    "result = adfuller(df['y_diff'].dropna())\n",
    "print('p-value: %f' % result[1])\n",
    "\n",
    "# Interpreting the results\n",
    "if result[1] < 0.05:\n",
    "    print(\"Evidence suggests that the time series is stationary.\")\n",
    "else:\n",
    "    print(\"Evidence suggests that the time series is not stationary.\")\n",
    "\n",
    "\n",
    "    "
   ]
  },
  {
   "cell_type": "markdown",
   "metadata": {
    "id": "PAl2ZB8Sswq_"
   },
   "source": [
    "# ARIMA Model"
   ]
  },
  {
   "cell_type": "code",
   "execution_count": 88,
   "metadata": {
    "colab": {
     "base_uri": "https://localhost:8080/",
     "height": 1000
    },
    "executionInfo": {
     "elapsed": 11,
     "status": "ok",
     "timestamp": 1706963362250,
     "user": {
      "displayName": "Diogo Resende",
      "userId": "05706604408624562002"
     },
     "user_tz": -60
    },
    "id": "UCFtcxXItDW7",
    "outputId": "2bfedb8e-88de-4385-c086-9960da8fc2ab"
   },
   "outputs": [
    {
     "data": {
      "text/html": [
       "<div>\n",
       "<style scoped>\n",
       "    .dataframe tbody tr th:only-of-type {\n",
       "        vertical-align: middle;\n",
       "    }\n",
       "\n",
       "    .dataframe tbody tr th {\n",
       "        vertical-align: top;\n",
       "    }\n",
       "\n",
       "    .dataframe thead th {\n",
       "        text-align: right;\n",
       "    }\n",
       "</style>\n",
       "<table border=\"1\" class=\"dataframe\">\n",
       "  <thead>\n",
       "    <tr style=\"text-align: right;\">\n",
       "      <th></th>\n",
       "      <th>y</th>\n",
       "      <th>discount_rate</th>\n",
       "      <th>coupon_rate</th>\n",
       "      <th>y_diff</th>\n",
       "    </tr>\n",
       "    <tr>\n",
       "      <th>date</th>\n",
       "      <th></th>\n",
       "      <th></th>\n",
       "      <th></th>\n",
       "      <th></th>\n",
       "    </tr>\n",
       "  </thead>\n",
       "  <tbody>\n",
       "    <tr>\n",
       "      <th>2022-11-01</th>\n",
       "      <td>16703680.0</td>\n",
       "      <td>23.85%</td>\n",
       "      <td>1.50%</td>\n",
       "      <td>4014654.0</td>\n",
       "    </tr>\n",
       "    <tr>\n",
       "      <th>2022-11-02</th>\n",
       "      <td>15827022.0</td>\n",
       "      <td>20.76%</td>\n",
       "      <td>0.94%</td>\n",
       "      <td>-876658.0</td>\n",
       "    </tr>\n",
       "    <tr>\n",
       "      <th>2022-11-03</th>\n",
       "      <td>16154319.0</td>\n",
       "      <td>21.85%</td>\n",
       "      <td>0.92%</td>\n",
       "      <td>327297.0</td>\n",
       "    </tr>\n",
       "    <tr>\n",
       "      <th>2022-11-04</th>\n",
       "      <td>14707212.0</td>\n",
       "      <td>20.17%</td>\n",
       "      <td>0.88%</td>\n",
       "      <td>-1447107.0</td>\n",
       "    </tr>\n",
       "    <tr>\n",
       "      <th>2022-11-05</th>\n",
       "      <td>14877530.0</td>\n",
       "      <td>17.85%</td>\n",
       "      <td>0.41%</td>\n",
       "      <td>170318.0</td>\n",
       "    </tr>\n",
       "    <tr>\n",
       "      <th>2022-11-06</th>\n",
       "      <td>18835528.0</td>\n",
       "      <td>16.40%</td>\n",
       "      <td>0.31%</td>\n",
       "      <td>3957998.0</td>\n",
       "    </tr>\n",
       "    <tr>\n",
       "      <th>2022-11-07</th>\n",
       "      <td>16094516.0</td>\n",
       "      <td>17.11%</td>\n",
       "      <td>0.30%</td>\n",
       "      <td>-2741012.0</td>\n",
       "    </tr>\n",
       "    <tr>\n",
       "      <th>2022-11-08</th>\n",
       "      <td>15589508.0</td>\n",
       "      <td>16.64%</td>\n",
       "      <td>0.29%</td>\n",
       "      <td>-505008.0</td>\n",
       "    </tr>\n",
       "    <tr>\n",
       "      <th>2022-11-09</th>\n",
       "      <td>16608320.0</td>\n",
       "      <td>18.72%</td>\n",
       "      <td>0.74%</td>\n",
       "      <td>1018812.0</td>\n",
       "    </tr>\n",
       "    <tr>\n",
       "      <th>2022-11-10</th>\n",
       "      <td>20393266.0</td>\n",
       "      <td>16.69%</td>\n",
       "      <td>9.15%</td>\n",
       "      <td>3784946.0</td>\n",
       "    </tr>\n",
       "    <tr>\n",
       "      <th>2022-11-11</th>\n",
       "      <td>23046053.0</td>\n",
       "      <td>18.83%</td>\n",
       "      <td>9.89%</td>\n",
       "      <td>2652787.0</td>\n",
       "    </tr>\n",
       "    <tr>\n",
       "      <th>2022-11-12</th>\n",
       "      <td>12381161.0</td>\n",
       "      <td>19.89%</td>\n",
       "      <td>0.60%</td>\n",
       "      <td>-10664892.0</td>\n",
       "    </tr>\n",
       "    <tr>\n",
       "      <th>2022-11-13</th>\n",
       "      <td>16422782.0</td>\n",
       "      <td>17.62%</td>\n",
       "      <td>0.27%</td>\n",
       "      <td>4041621.0</td>\n",
       "    </tr>\n",
       "    <tr>\n",
       "      <th>2022-11-14</th>\n",
       "      <td>14691326.0</td>\n",
       "      <td>14.98%</td>\n",
       "      <td>0.27%</td>\n",
       "      <td>-1731456.0</td>\n",
       "    </tr>\n",
       "    <tr>\n",
       "      <th>2022-11-15</th>\n",
       "      <td>14671955.0</td>\n",
       "      <td>15.93%</td>\n",
       "      <td>0.25%</td>\n",
       "      <td>-19371.0</td>\n",
       "    </tr>\n",
       "    <tr>\n",
       "      <th>2022-11-16</th>\n",
       "      <td>15136541.0</td>\n",
       "      <td>17.24%</td>\n",
       "      <td>0.42%</td>\n",
       "      <td>464586.0</td>\n",
       "    </tr>\n",
       "    <tr>\n",
       "      <th>2022-11-17</th>\n",
       "      <td>20843349.0</td>\n",
       "      <td>28.38%</td>\n",
       "      <td>0.54%</td>\n",
       "      <td>5706808.0</td>\n",
       "    </tr>\n",
       "    <tr>\n",
       "      <th>2022-11-18</th>\n",
       "      <td>23903931.0</td>\n",
       "      <td>28.17%</td>\n",
       "      <td>0.43%</td>\n",
       "      <td>3060582.0</td>\n",
       "    </tr>\n",
       "    <tr>\n",
       "      <th>2022-11-19</th>\n",
       "      <td>25046318.0</td>\n",
       "      <td>28.17%</td>\n",
       "      <td>0.39%</td>\n",
       "      <td>1142387.0</td>\n",
       "    </tr>\n",
       "    <tr>\n",
       "      <th>2022-11-20</th>\n",
       "      <td>32605348.0</td>\n",
       "      <td>28.60%</td>\n",
       "      <td>0.41%</td>\n",
       "      <td>7559030.0</td>\n",
       "    </tr>\n",
       "    <tr>\n",
       "      <th>2022-11-21</th>\n",
       "      <td>25330460.0</td>\n",
       "      <td>27.23%</td>\n",
       "      <td>0.42%</td>\n",
       "      <td>-7274888.0</td>\n",
       "    </tr>\n",
       "    <tr>\n",
       "      <th>2022-11-22</th>\n",
       "      <td>26303687.0</td>\n",
       "      <td>28.51%</td>\n",
       "      <td>0.41%</td>\n",
       "      <td>973227.0</td>\n",
       "    </tr>\n",
       "    <tr>\n",
       "      <th>2022-11-23</th>\n",
       "      <td>26406156.0</td>\n",
       "      <td>28.69%</td>\n",
       "      <td>0.53%</td>\n",
       "      <td>102469.0</td>\n",
       "    </tr>\n",
       "    <tr>\n",
       "      <th>2022-11-24</th>\n",
       "      <td>38219136.0</td>\n",
       "      <td>33.84%</td>\n",
       "      <td>0.53%</td>\n",
       "      <td>11812980.0</td>\n",
       "    </tr>\n",
       "    <tr>\n",
       "      <th>2022-11-25</th>\n",
       "      <td>66115724.0</td>\n",
       "      <td>33.12%</td>\n",
       "      <td>0.44%</td>\n",
       "      <td>27896588.0</td>\n",
       "    </tr>\n",
       "    <tr>\n",
       "      <th>2022-11-26</th>\n",
       "      <td>26934947.0</td>\n",
       "      <td>30.41%</td>\n",
       "      <td>0.38%</td>\n",
       "      <td>-39180777.0</td>\n",
       "    </tr>\n",
       "    <tr>\n",
       "      <th>2022-11-27</th>\n",
       "      <td>31890868.0</td>\n",
       "      <td>29.75%</td>\n",
       "      <td>0.35%</td>\n",
       "      <td>4955921.0</td>\n",
       "    </tr>\n",
       "    <tr>\n",
       "      <th>2022-11-28</th>\n",
       "      <td>32100918.0</td>\n",
       "      <td>25.27%</td>\n",
       "      <td>8.93%</td>\n",
       "      <td>210050.0</td>\n",
       "    </tr>\n",
       "    <tr>\n",
       "      <th>2022-11-29</th>\n",
       "      <td>14314613.0</td>\n",
       "      <td>19.54%</td>\n",
       "      <td>0.26%</td>\n",
       "      <td>-17786305.0</td>\n",
       "    </tr>\n",
       "    <tr>\n",
       "      <th>2022-11-30</th>\n",
       "      <td>15026662.0</td>\n",
       "      <td>17.10%</td>\n",
       "      <td>0.32%</td>\n",
       "      <td>712049.0</td>\n",
       "    </tr>\n",
       "  </tbody>\n",
       "</table>\n",
       "</div>"
      ],
      "text/plain": [
       "                     y discount_rate coupon_rate      y_diff\n",
       "date                                                        \n",
       "2022-11-01  16703680.0        23.85%       1.50%   4014654.0\n",
       "2022-11-02  15827022.0        20.76%       0.94%   -876658.0\n",
       "2022-11-03  16154319.0        21.85%       0.92%    327297.0\n",
       "2022-11-04  14707212.0        20.17%       0.88%  -1447107.0\n",
       "2022-11-05  14877530.0        17.85%       0.41%    170318.0\n",
       "2022-11-06  18835528.0        16.40%       0.31%   3957998.0\n",
       "2022-11-07  16094516.0        17.11%       0.30%  -2741012.0\n",
       "2022-11-08  15589508.0        16.64%       0.29%   -505008.0\n",
       "2022-11-09  16608320.0        18.72%       0.74%   1018812.0\n",
       "2022-11-10  20393266.0        16.69%       9.15%   3784946.0\n",
       "2022-11-11  23046053.0        18.83%       9.89%   2652787.0\n",
       "2022-11-12  12381161.0        19.89%       0.60% -10664892.0\n",
       "2022-11-13  16422782.0        17.62%       0.27%   4041621.0\n",
       "2022-11-14  14691326.0        14.98%       0.27%  -1731456.0\n",
       "2022-11-15  14671955.0        15.93%       0.25%    -19371.0\n",
       "2022-11-16  15136541.0        17.24%       0.42%    464586.0\n",
       "2022-11-17  20843349.0        28.38%       0.54%   5706808.0\n",
       "2022-11-18  23903931.0        28.17%       0.43%   3060582.0\n",
       "2022-11-19  25046318.0        28.17%       0.39%   1142387.0\n",
       "2022-11-20  32605348.0        28.60%       0.41%   7559030.0\n",
       "2022-11-21  25330460.0        27.23%       0.42%  -7274888.0\n",
       "2022-11-22  26303687.0        28.51%       0.41%    973227.0\n",
       "2022-11-23  26406156.0        28.69%       0.53%    102469.0\n",
       "2022-11-24  38219136.0        33.84%       0.53%  11812980.0\n",
       "2022-11-25  66115724.0        33.12%       0.44%  27896588.0\n",
       "2022-11-26  26934947.0        30.41%       0.38% -39180777.0\n",
       "2022-11-27  31890868.0        29.75%       0.35%   4955921.0\n",
       "2022-11-28  32100918.0        25.27%       8.93%    210050.0\n",
       "2022-11-29  14314613.0        19.54%       0.26% -17786305.0\n",
       "2022-11-30  15026662.0        17.10%       0.32%    712049.0"
      ]
     },
     "execution_count": 88,
     "metadata": {},
     "output_type": "execute_result"
    }
   ],
   "source": [
    "# Split the Data into training and test\n",
    "test_days = 30 # Number of days to reserve for testing\n",
    "train, test = df.iloc[:-test_days], df.iloc[-test_days:]\n",
    "test"
   ]
  },
  {
   "cell_type": "code",
   "execution_count": 61,
   "metadata": {
    "colab": {
     "base_uri": "https://localhost:8080/",
     "height": 545
    },
    "executionInfo": {
     "elapsed": 69557,
     "status": "ok",
     "timestamp": 1706963432167,
     "user": {
      "displayName": "Diogo Resende",
      "userId": "05706604408624562002"
     },
     "user_tz": -60
    },
    "id": "-KBH_JS4togv",
    "outputId": "be973e37-626a-4ffb-8ade-34e5713d3899"
   },
   "outputs": [
    {
     "data": {
      "text/html": [
       "<table class=\"simpletable\">\n",
       "<caption>SARIMAX Results</caption>\n",
       "<tr>\n",
       "  <th>Dep. Variable:</th>           <td>y</td>        <th>  No. Observations:  </th>    <td>1765</td>   \n",
       "</tr>\n",
       "<tr>\n",
       "  <th>Model:</th>           <td>SARIMAX(5, 1, 2)</td> <th>  Log Likelihood     </th> <td>-28817.267</td>\n",
       "</tr>\n",
       "<tr>\n",
       "  <th>Date:</th>            <td>Fri, 23 May 2025</td> <th>  AIC                </th>  <td>57650.535</td>\n",
       "</tr>\n",
       "<tr>\n",
       "  <th>Time:</th>                <td>14:45:10</td>     <th>  BIC                </th>  <td>57694.337</td>\n",
       "</tr>\n",
       "<tr>\n",
       "  <th>Sample:</th>             <td>01-01-2018</td>    <th>  HQIC               </th>  <td>57666.720</td>\n",
       "</tr>\n",
       "<tr>\n",
       "  <th></th>                   <td>- 10-31-2022</td>   <th>                     </th>      <td> </td>    \n",
       "</tr>\n",
       "<tr>\n",
       "  <th>Covariance Type:</th>        <td>opg</td>       <th>                     </th>      <td> </td>    \n",
       "</tr>\n",
       "</table>\n",
       "<table class=\"simpletable\">\n",
       "<tr>\n",
       "     <td></td>       <th>coef</th>     <th>std err</th>      <th>z</th>      <th>P>|z|</th>  <th>[0.025</th>    <th>0.975]</th>  \n",
       "</tr>\n",
       "<tr>\n",
       "  <th>ar.L1</th>  <td>   -0.4136</td> <td>    0.120</td> <td>   -3.449</td> <td> 0.001</td> <td>   -0.649</td> <td>   -0.179</td>\n",
       "</tr>\n",
       "<tr>\n",
       "  <th>ar.L2</th>  <td>    0.3017</td> <td>    0.053</td> <td>    5.671</td> <td> 0.000</td> <td>    0.197</td> <td>    0.406</td>\n",
       "</tr>\n",
       "<tr>\n",
       "  <th>ar.L3</th>  <td>    0.1570</td> <td>    0.028</td> <td>    5.705</td> <td> 0.000</td> <td>    0.103</td> <td>    0.211</td>\n",
       "</tr>\n",
       "<tr>\n",
       "  <th>ar.L4</th>  <td>    0.0679</td> <td>    0.029</td> <td>    2.365</td> <td> 0.018</td> <td>    0.012</td> <td>    0.124</td>\n",
       "</tr>\n",
       "<tr>\n",
       "  <th>ar.L5</th>  <td>    0.0466</td> <td>    0.024</td> <td>    1.937</td> <td> 0.053</td> <td>   -0.001</td> <td>    0.094</td>\n",
       "</tr>\n",
       "<tr>\n",
       "  <th>ma.L1</th>  <td>   -0.1598</td> <td>    0.118</td> <td>   -1.354</td> <td> 0.176</td> <td>   -0.391</td> <td>    0.071</td>\n",
       "</tr>\n",
       "<tr>\n",
       "  <th>ma.L2</th>  <td>   -0.7423</td> <td>    0.108</td> <td>   -6.872</td> <td> 0.000</td> <td>   -0.954</td> <td>   -0.531</td>\n",
       "</tr>\n",
       "<tr>\n",
       "  <th>sigma2</th> <td> 9.084e+12</td> <td> 1.86e-14</td> <td> 4.88e+26</td> <td> 0.000</td> <td> 9.08e+12</td> <td> 9.08e+12</td>\n",
       "</tr>\n",
       "</table>\n",
       "<table class=\"simpletable\">\n",
       "<tr>\n",
       "  <th>Ljung-Box (L1) (Q):</th>     <td>0.00</td> <th>  Jarque-Bera (JB):  </th> <td>580903.26</td>\n",
       "</tr>\n",
       "<tr>\n",
       "  <th>Prob(Q):</th>                <td>0.97</td> <th>  Prob(JB):          </th>   <td>0.00</td>   \n",
       "</tr>\n",
       "<tr>\n",
       "  <th>Heteroskedasticity (H):</th> <td>3.04</td> <th>  Skew:              </th>   <td>5.15</td>   \n",
       "</tr>\n",
       "<tr>\n",
       "  <th>Prob(H) (two-sided):</th>    <td>0.00</td> <th>  Kurtosis:          </th>   <td>91.30</td>  \n",
       "</tr>\n",
       "</table><br/><br/>Warnings:<br/>[1] Covariance matrix calculated using the outer product of gradients (complex-step).<br/>[2] Covariance matrix is singular or near-singular, with condition number 1.11e+43. Standard errors may be unstable."
      ],
      "text/plain": [
       "<class 'statsmodels.iolib.summary.Summary'>\n",
       "\"\"\"\n",
       "                               SARIMAX Results                                \n",
       "==============================================================================\n",
       "Dep. Variable:                      y   No. Observations:                 1765\n",
       "Model:               SARIMAX(5, 1, 2)   Log Likelihood              -28817.267\n",
       "Date:                Fri, 23 May 2025   AIC                          57650.535\n",
       "Time:                        14:45:10   BIC                          57694.337\n",
       "Sample:                    01-01-2018   HQIC                         57666.720\n",
       "                         - 10-31-2022                                         \n",
       "Covariance Type:                  opg                                         \n",
       "==============================================================================\n",
       "                 coef    std err          z      P>|z|      [0.025      0.975]\n",
       "------------------------------------------------------------------------------\n",
       "ar.L1         -0.4136      0.120     -3.449      0.001      -0.649      -0.179\n",
       "ar.L2          0.3017      0.053      5.671      0.000       0.197       0.406\n",
       "ar.L3          0.1570      0.028      5.705      0.000       0.103       0.211\n",
       "ar.L4          0.0679      0.029      2.365      0.018       0.012       0.124\n",
       "ar.L5          0.0466      0.024      1.937      0.053      -0.001       0.094\n",
       "ma.L1         -0.1598      0.118     -1.354      0.176      -0.391       0.071\n",
       "ma.L2         -0.7423      0.108     -6.872      0.000      -0.954      -0.531\n",
       "sigma2      9.084e+12   1.86e-14   4.88e+26      0.000    9.08e+12    9.08e+12\n",
       "===================================================================================\n",
       "Ljung-Box (L1) (Q):                   0.00   Jarque-Bera (JB):            580903.26\n",
       "Prob(Q):                              0.97   Prob(JB):                         0.00\n",
       "Heteroskedasticity (H):               3.04   Skew:                             5.15\n",
       "Prob(H) (two-sided):                  0.00   Kurtosis:                        91.30\n",
       "===================================================================================\n",
       "\n",
       "Warnings:\n",
       "[1] Covariance matrix calculated using the outer product of gradients (complex-step).\n",
       "[2] Covariance matrix is singular or near-singular, with condition number 1.11e+43. Standard errors may be unstable.\n",
       "\"\"\""
      ]
     },
     "execution_count": 61,
     "metadata": {},
     "output_type": "execute_result"
    }
   ],
   "source": [
    "# auto_arima() from pmdarima - used to automatically select the optimal parameters for an ARIMA model based on the provided time series data.\n",
    "# 'seasonal=False' indicates that the model should not consider seasonal components.\n",
    "model = auto_arima(train['y'],\n",
    "                   seasonal = False)\n",
    "model.summary()"
   ]
  },
  {
   "cell_type": "code",
   "execution_count": 62,
   "metadata": {
    "colab": {
     "base_uri": "https://localhost:8080/"
    },
    "executionInfo": {
     "elapsed": 7,
     "status": "ok",
     "timestamp": 1706963432167,
     "user": {
      "displayName": "Diogo Resende",
      "userId": "05706604408624562002"
     },
     "user_tz": -60
    },
    "id": "EcaD6bGJud9m",
    "outputId": "d742bb62-d87b-4a02-9527-dcd340f84b60"
   },
   "outputs": [
    {
     "data": {
      "text/plain": [
       "2022-11-01    1.445299e+07\n",
       "2022-11-02    1.474103e+07\n",
       "2022-11-03    1.503283e+07\n",
       "2022-11-04    1.527520e+07\n",
       "2022-11-05    1.534078e+07\n",
       "2022-11-06    1.553442e+07\n",
       "2022-11-07    1.554542e+07\n",
       "2022-11-08    1.563967e+07\n",
       "2022-11-09    1.565016e+07\n",
       "2022-11-10    1.569221e+07\n",
       "2022-11-11    1.570256e+07\n",
       "2022-11-12    1.571953e+07\n",
       "2022-11-13    1.572734e+07\n",
       "2022-11-14    1.573420e+07\n",
       "2022-11-15    1.573904e+07\n",
       "2022-11-16    1.574197e+07\n",
       "2022-11-17    1.574462e+07\n",
       "2022-11-18    1.574600e+07\n",
       "2022-11-19    1.574734e+07\n",
       "2022-11-20    1.574804e+07\n",
       "2022-11-21    1.574869e+07\n",
       "2022-11-22    1.574906e+07\n",
       "2022-11-23    1.574937e+07\n",
       "2022-11-24    1.574956e+07\n",
       "2022-11-25    1.574971e+07\n",
       "2022-11-26    1.574981e+07\n",
       "2022-11-27    1.574988e+07\n",
       "2022-11-28    1.574994e+07\n",
       "2022-11-29    1.574997e+07\n",
       "2022-11-30    1.575000e+07\n",
       "Freq: D, dtype: float64"
      ]
     },
     "execution_count": 62,
     "metadata": {},
     "output_type": "execute_result"
    }
   ],
   "source": [
    "# Use the fitted ARIMA model to forecast future values.\n",
    "# set the number of periods to forecast to the length of 'test'\n",
    "predictions_arima = model.predict(n_periods = len(test))\n",
    "predictions_arima"
   ]
  },
  {
   "cell_type": "code",
   "execution_count": 63,
   "metadata": {
    "colab": {
     "base_uri": "https://localhost:8080/",
     "height": 445
    },
    "executionInfo": {
     "elapsed": 973,
     "status": "ok",
     "timestamp": 1706963433136,
     "user": {
      "displayName": "Diogo Resende",
      "userId": "05706604408624562002"
     },
     "user_tz": -60
    },
    "id": "oRjeZkb2u1jD",
    "outputId": "ad882561-b15b-4c28-a720-12b77bf821eb"
   },
   "outputs": [
    {
     "data": {
      "image/png": "[encoded data removed]",
      "text/plain": [
       "<Figure size 1000x400 with 1 Axes>"
      ]
     },
     "metadata": {},
     "output_type": "display_data"
    },
    {
     "name": "stdout",
     "output_type": "stream",
     "text": [
      "The MAE is 7267306.02\n",
      "The RMSE is 12366038.30\n",
      "The MAPE is 24.15 %\n"
     ]
    }
   ],
   "source": [
    "# Model assessment\n",
    "model_assessment(train['y']['2022':], test['y'], predictions_arima, \"ARIMA\")"
   ]
  },
  {
   "cell_type": "code",
   "execution_count": 89,
   "metadata": {},
   "outputs": [
    {
     "data": {
      "text/html": [
       "<div>\n",
       "<style scoped>\n",
       "    .dataframe tbody tr th:only-of-type {\n",
       "        vertical-align: middle;\n",
       "    }\n",
       "\n",
       "    .dataframe tbody tr th {\n",
       "        vertical-align: top;\n",
       "    }\n",
       "\n",
       "    .dataframe thead th {\n",
       "        text-align: right;\n",
       "    }\n",
       "</style>\n",
       "<table border=\"1\" class=\"dataframe\">\n",
       "  <thead>\n",
       "    <tr style=\"text-align: right;\">\n",
       "      <th></th>\n",
       "      <th>y</th>\n",
       "      <th>discount_rate</th>\n",
       "      <th>coupon_rate</th>\n",
       "      <th>y_diff</th>\n",
       "    </tr>\n",
       "    <tr>\n",
       "      <th>date</th>\n",
       "      <th></th>\n",
       "      <th></th>\n",
       "      <th></th>\n",
       "      <th></th>\n",
       "    </tr>\n",
       "  </thead>\n",
       "  <tbody>\n",
       "    <tr>\n",
       "      <th>2018-01-01</th>\n",
       "      <td>6270839.0</td>\n",
       "      <td>34.27%</td>\n",
       "      <td>1.09%</td>\n",
       "      <td>NaN</td>\n",
       "    </tr>\n",
       "    <tr>\n",
       "      <th>2018-01-02</th>\n",
       "      <td>8922076.0</td>\n",
       "      <td>30.87%</td>\n",
       "      <td>1.08%</td>\n",
       "      <td>2651237.0</td>\n",
       "    </tr>\n",
       "    <tr>\n",
       "      <th>2018-01-03</th>\n",
       "      <td>8446101.0</td>\n",
       "      <td>28.11%</td>\n",
       "      <td>1.01%</td>\n",
       "      <td>-475975.0</td>\n",
       "    </tr>\n",
       "    <tr>\n",
       "      <th>2018-01-04</th>\n",
       "      <td>7785798.0</td>\n",
       "      <td>27.32%</td>\n",
       "      <td>0.96%</td>\n",
       "      <td>-660303.0</td>\n",
       "    </tr>\n",
       "    <tr>\n",
       "      <th>2018-01-05</th>\n",
       "      <td>6375303.0</td>\n",
       "      <td>25.70%</td>\n",
       "      <td>0.90%</td>\n",
       "      <td>-1410495.0</td>\n",
       "    </tr>\n",
       "  </tbody>\n",
       "</table>\n",
       "</div>"
      ],
      "text/plain": [
       "                    y discount_rate coupon_rate     y_diff\n",
       "date                                                      \n",
       "2018-01-01  6270839.0        34.27%       1.09%        NaN\n",
       "2018-01-02  8922076.0        30.87%       1.08%  2651237.0\n",
       "2018-01-03  8446101.0        28.11%       1.01%  -475975.0\n",
       "2018-01-04  7785798.0        27.32%       0.96%  -660303.0\n",
       "2018-01-05  6375303.0        25.70%       0.90% -1410495.0"
      ]
     },
     "execution_count": 89,
     "metadata": {},
     "output_type": "execute_result"
    }
   ],
   "source": [
    "df.head()"
   ]
  },
  {
   "cell_type": "markdown",
   "metadata": {
    "id": "hH44e1sJ4DD2"
   },
   "source": [
    "# SARIMA"
   ]
  },
  {
   "cell_type": "code",
   "execution_count": 64,
   "metadata": {
    "colab": {
     "base_uri": "https://localhost:8080/",
     "height": 608
    },
    "executionInfo": {
     "elapsed": 281474,
     "status": "ok",
     "timestamp": 1706963714602,
     "user": {
      "displayName": "Diogo Resende",
      "userId": "05706604408624562002"
     },
     "user_tz": -60
    },
    "id": "KRFXILB_4JaX",
    "outputId": "5e46ed51-6359-4824-d244-de7617d02a08"
   },
   "outputs": [
    {
     "data": {
      "text/html": [
       "<table class=\"simpletable\">\n",
       "<caption>SARIMAX Results</caption>\n",
       "<tr>\n",
       "  <th>Dep. Variable:</th>                 <td>y</td>               <th>  No. Observations:  </th>    <td>1765</td>   \n",
       "</tr>\n",
       "<tr>\n",
       "  <th>Model:</th>           <td>SARIMAX(3, 1, 2)x(2, 0, 2, 7)</td> <th>  Log Likelihood     </th> <td>-28762.051</td>\n",
       "</tr>\n",
       "<tr>\n",
       "  <th>Date:</th>                  <td>Fri, 23 May 2025</td>        <th>  AIC                </th>  <td>57546.103</td>\n",
       "</tr>\n",
       "<tr>\n",
       "  <th>Time:</th>                      <td>14:47:08</td>            <th>  BIC                </th>  <td>57606.331</td>\n",
       "</tr>\n",
       "<tr>\n",
       "  <th>Sample:</th>                   <td>01-01-2018</td>           <th>  HQIC               </th>  <td>57568.358</td>\n",
       "</tr>\n",
       "<tr>\n",
       "  <th></th>                         <td>- 10-31-2022</td>          <th>                     </th>      <td> </td>    \n",
       "</tr>\n",
       "<tr>\n",
       "  <th>Covariance Type:</th>              <td>opg</td>              <th>                     </th>      <td> </td>    \n",
       "</tr>\n",
       "</table>\n",
       "<table class=\"simpletable\">\n",
       "<tr>\n",
       "      <td></td>         <th>coef</th>     <th>std err</th>      <th>z</th>      <th>P>|z|</th>  <th>[0.025</th>    <th>0.975]</th>  \n",
       "</tr>\n",
       "<tr>\n",
       "  <th>intercept</th> <td> 1.007e+04</td> <td> 4682.756</td> <td>    2.150</td> <td> 0.032</td> <td>  890.284</td> <td> 1.92e+04</td>\n",
       "</tr>\n",
       "<tr>\n",
       "  <th>ar.L1</th>     <td>   -0.3476</td> <td>    0.072</td> <td>   -4.797</td> <td> 0.000</td> <td>   -0.490</td> <td>   -0.206</td>\n",
       "</tr>\n",
       "<tr>\n",
       "  <th>ar.L2</th>     <td>    0.1856</td> <td>    0.032</td> <td>    5.722</td> <td> 0.000</td> <td>    0.122</td> <td>    0.249</td>\n",
       "</tr>\n",
       "<tr>\n",
       "  <th>ar.L3</th>     <td>    0.1034</td> <td>    0.016</td> <td>    6.523</td> <td> 0.000</td> <td>    0.072</td> <td>    0.135</td>\n",
       "</tr>\n",
       "<tr>\n",
       "  <th>ma.L1</th>     <td>   -0.1958</td> <td>    0.074</td> <td>   -2.656</td> <td> 0.008</td> <td>   -0.340</td> <td>   -0.051</td>\n",
       "</tr>\n",
       "<tr>\n",
       "  <th>ma.L2</th>     <td>   -0.5684</td> <td>    0.060</td> <td>   -9.400</td> <td> 0.000</td> <td>   -0.687</td> <td>   -0.450</td>\n",
       "</tr>\n",
       "<tr>\n",
       "  <th>ar.S.L7</th>   <td>    0.0805</td> <td>    0.181</td> <td>    0.445</td> <td> 0.656</td> <td>   -0.274</td> <td>    0.435</td>\n",
       "</tr>\n",
       "<tr>\n",
       "  <th>ar.S.L14</th>  <td>    0.8713</td> <td>    0.172</td> <td>    5.071</td> <td> 0.000</td> <td>    0.534</td> <td>    1.208</td>\n",
       "</tr>\n",
       "<tr>\n",
       "  <th>ma.S.L7</th>   <td>   -0.0035</td> <td>    0.176</td> <td>   -0.020</td> <td> 0.984</td> <td>   -0.349</td> <td>    0.342</td>\n",
       "</tr>\n",
       "<tr>\n",
       "  <th>ma.S.L14</th>  <td>   -0.8322</td> <td>    0.157</td> <td>   -5.310</td> <td> 0.000</td> <td>   -1.139</td> <td>   -0.525</td>\n",
       "</tr>\n",
       "<tr>\n",
       "  <th>sigma2</th>    <td> 9.294e+12</td> <td>    0.000</td> <td> 8.85e+16</td> <td> 0.000</td> <td> 9.29e+12</td> <td> 9.29e+12</td>\n",
       "</tr>\n",
       "</table>\n",
       "<table class=\"simpletable\">\n",
       "<tr>\n",
       "  <th>Ljung-Box (L1) (Q):</th>     <td>0.01</td> <th>  Jarque-Bera (JB):  </th> <td>848655.96</td>\n",
       "</tr>\n",
       "<tr>\n",
       "  <th>Prob(Q):</th>                <td>0.90</td> <th>  Prob(JB):          </th>   <td>0.00</td>   \n",
       "</tr>\n",
       "<tr>\n",
       "  <th>Heteroskedasticity (H):</th> <td>2.85</td> <th>  Skew:              </th>   <td>5.24</td>   \n",
       "</tr>\n",
       "<tr>\n",
       "  <th>Prob(H) (two-sided):</th>    <td>0.00</td> <th>  Kurtosis:          </th>  <td>109.94</td>  \n",
       "</tr>\n",
       "</table><br/><br/>Warnings:<br/>[1] Covariance matrix calculated using the outer product of gradients (complex-step).<br/>[2] Covariance matrix is singular or near-singular, with condition number 6.91e+30. Standard errors may be unstable."
      ],
      "text/plain": [
       "<class 'statsmodels.iolib.summary.Summary'>\n",
       "\"\"\"\n",
       "                                     SARIMAX Results                                     \n",
       "=========================================================================================\n",
       "Dep. Variable:                                 y   No. Observations:                 1765\n",
       "Model:             SARIMAX(3, 1, 2)x(2, 0, 2, 7)   Log Likelihood              -28762.051\n",
       "Date:                           Fri, 23 May 2025   AIC                          57546.103\n",
       "Time:                                   14:47:08   BIC                          57606.331\n",
       "Sample:                               01-01-2018   HQIC                         57568.358\n",
       "                                    - 10-31-2022                                         \n",
       "Covariance Type:                             opg                                         \n",
       "==============================================================================\n",
       "                 coef    std err          z      P>|z|      [0.025      0.975]\n",
       "------------------------------------------------------------------------------\n",
       "intercept   1.007e+04   4682.756      2.150      0.032     890.284    1.92e+04\n",
       "ar.L1         -0.3476      0.072     -4.797      0.000      -0.490      -0.206\n",
       "ar.L2          0.1856      0.032      5.722      0.000       0.122       0.249\n",
       "ar.L3          0.1034      0.016      6.523      0.000       0.072       0.135\n",
       "ma.L1         -0.1958      0.074     -2.656      0.008      -0.340      -0.051\n",
       "ma.L2         -0.5684      0.060     -9.400      0.000      -0.687      -0.450\n",
       "ar.S.L7        0.0805      0.181      0.445      0.656      -0.274       0.435\n",
       "ar.S.L14       0.8713      0.172      5.071      0.000       0.534       1.208\n",
       "ma.S.L7       -0.0035      0.176     -0.020      0.984      -0.349       0.342\n",
       "ma.S.L14      -0.8322      0.157     -5.310      0.000      -1.139      -0.525\n",
       "sigma2      9.294e+12      0.000   8.85e+16      0.000    9.29e+12    9.29e+12\n",
       "===================================================================================\n",
       "Ljung-Box (L1) (Q):                   0.01   Jarque-Bera (JB):            848655.96\n",
       "Prob(Q):                              0.90   Prob(JB):                         0.00\n",
       "Heteroskedasticity (H):               2.85   Skew:                             5.24\n",
       "Prob(H) (two-sided):                  0.00   Kurtosis:                       109.94\n",
       "===================================================================================\n",
       "\n",
       "Warnings:\n",
       "[1] Covariance matrix calculated using the outer product of gradients (complex-step).\n",
       "[2] Covariance matrix is singular or near-singular, with condition number 6.91e+30. Standard errors may be unstable.\n",
       "\"\"\""
      ]
     },
     "execution_count": 64,
     "metadata": {},
     "output_type": "execute_result"
    }
   ],
   "source": [
    "# auto_arima() from pmdarima - used to automatically select the optimal parameters for an ARIMA model based on the provided time series data.\n",
    "# m = The number of periods in each season.\n",
    "model_sarima = auto_arima(train['y'],\n",
    "                          m = 7)\n",
    "model_sarima.summary()"
   ]
  },
  {
   "cell_type": "code",
   "execution_count": 25,
   "metadata": {
    "colab": {
     "base_uri": "https://localhost:8080/"
    },
    "executionInfo": {
     "elapsed": 29,
     "status": "ok",
     "timestamp": 1706963714603,
     "user": {
      "displayName": "Diogo Resende",
      "userId": "05706604408624562002"
     },
     "user_tz": -60
    },
    "id": "Io-baYJc4Jao",
    "outputId": "d476298a-732c-47a3-c124-bb20ccd7fe67"
   },
   "outputs": [
    {
     "data": {
      "text/plain": [
       "2022-11-01    1.513411e+07\n",
       "2022-11-02    1.504534e+07\n",
       "2022-11-03    1.464457e+07\n",
       "2022-11-04    1.382187e+07\n",
       "2022-11-05    1.398001e+07\n",
       "2022-11-06    1.697856e+07\n",
       "2022-11-07    1.583308e+07\n",
       "2022-11-08    1.605212e+07\n",
       "2022-11-09    1.575798e+07\n",
       "2022-11-10    1.523585e+07\n",
       "2022-11-11    1.428027e+07\n",
       "2022-11-12    1.448986e+07\n",
       "2022-11-13    1.761291e+07\n",
       "2022-11-14    1.658423e+07\n",
       "2022-11-15    1.682759e+07\n",
       "2022-11-16    1.635487e+07\n",
       "2022-11-17    1.582120e+07\n",
       "2022-11-18    1.482105e+07\n",
       "2022-11-19    1.499263e+07\n",
       "2022-11-20    1.780770e+07\n",
       "2022-11-21    1.673572e+07\n",
       "2022-11-22    1.694582e+07\n",
       "2022-11-23    1.665826e+07\n",
       "2022-11-24    1.616896e+07\n",
       "2022-11-25    1.526418e+07\n",
       "2022-11-26    1.547007e+07\n",
       "2022-11-27    1.842691e+07\n",
       "2022-11-28    1.745385e+07\n",
       "2022-11-29    1.769225e+07\n",
       "2022-11-30    1.726673e+07\n",
       "Freq: D, dtype: float64"
      ]
     },
     "execution_count": 25,
     "metadata": {},
     "output_type": "execute_result"
    }
   ],
   "source": [
    "# Use the fitted SARIMA model to forecast future values.\n",
    "# set the number of periods to forecast to the length of 'test'\n",
    "predictions_sarima = model_sarima.predict(n_periods = len(test))\n",
    "predictions_sarima"
   ]
  },
  {
   "cell_type": "code",
   "execution_count": 26,
   "metadata": {
    "colab": {
     "base_uri": "https://localhost:8080/",
     "height": 445
    },
    "executionInfo": {
     "elapsed": 737,
     "status": "ok",
     "timestamp": 1706963715316,
     "user": {
      "displayName": "Diogo Resende",
      "userId": "05706604408624562002"
     },
     "user_tz": -60
    },
    "id": "jLgW_CLq4Jaq",
    "outputId": "2570e3e4-dbce-4ac0-8a33-2213ebca9573"
   },
   "outputs": [
    {
     "data": {
      "image/png": "[encoded data removed]",
      "text/plain": [
       "<Figure size 1000x400 with 1 Axes>"
      ]
     },
     "metadata": {},
     "output_type": "display_data"
    },
    {
     "name": "stdout",
     "output_type": "stream",
     "text": [
      "The MAE is 7210543.78\n",
      "The RMSE is 12152386.18\n",
      "The MAPE is 24.54 %\n"
     ]
    }
   ],
   "source": [
    "# Model assessment\n",
    "model_assessment(train['y']['2022':], test['y'], predictions_sarima, \"SARIMA\")"
   ]
  },
  {
   "cell_type": "markdown",
   "metadata": {
    "id": "Q8DYa8Bx6YT2"
   },
   "source": [
    "* The MAE is 7267306.02\n",
    "* The RMSE is 12366038.29\n",
    "* The MAPE is 24.15 %"
   ]
  },
  {
   "cell_type": "markdown",
   "metadata": {
    "id": "-16Wx6m98_XH"
   },
   "source": [
    "- `MAE` - the average of the absolute differences between predicted and actual values.\n",
    "- `RMSE` - the square root of the average of squared differences between prediction and actual observation.\n",
    "It gives a relatively high weight to large errors, making it sensitive to outliers.\n",
    "- `MAPE` - the size of the error in percentage terms. the average of the absolute percent errors of forecasts, which helps to understand the accuracy in terms of percentage."
   ]
  },
  {
   "cell_type": "markdown",
   "metadata": {
    "id": "_EqFGSnoDpAU"
   },
   "source": [
    "# SARIMAX"
   ]
  },
  {
   "cell_type": "code",
   "execution_count": 27,
   "metadata": {
    "colab": {
     "base_uri": "https://localhost:8080/"
    },
    "executionInfo": {
     "elapsed": 532,
     "status": "ok",
     "timestamp": 1706966758635,
     "user": {
      "displayName": "Diogo Resende",
      "userId": "05706604408624562002"
     },
     "user_tz": -60
    },
    "id": "XCGz2Lq2DsHW",
    "outputId": "bb37c70d-d9f6-4be3-f042-ecdf3aef5029"
   },
   "outputs": [
    {
     "name": "stdout",
     "output_type": "stream",
     "text": [
      "<class 'pandas.core.frame.DataFrame'>\n",
      "DatetimeIndex: 1795 entries, 2018-01-01 to 2022-11-30\n",
      "Freq: D\n",
      "Data columns (total 4 columns):\n",
      " #   Column         Non-Null Count  Dtype  \n",
      "---  ------         --------------  -----  \n",
      " 0   y              1795 non-null   float64\n",
      " 1   discount_rate  1795 non-null   float64\n",
      " 2   coupon_rate    1795 non-null   float64\n",
      " 3   y_diff         1794 non-null   float64\n",
      "dtypes: float64(4)\n",
      "memory usage: 70.1 KB\n"
     ]
    }
   ],
   "source": [
    "# Remove '%' symbol from 'discount_rate' and 'coupon_rate' column and convert to float\n",
    "df['discount_rate'] = df['discount_rate'].str.replace(\"%\", \"\").astype(float)\n",
    "df['coupon_rate'] = df['coupon_rate'].str.replace(\"%\", \"\").astype(float)\n",
    "\n",
    "# Print the information about the DataFrame\n",
    "df.info()"
   ]
  },
  {
   "cell_type": "code",
   "execution_count": 28,
   "metadata": {
    "colab": {
     "base_uri": "https://localhost:8080/",
     "height": 237
    },
    "executionInfo": {
     "elapsed": 12,
     "status": "ok",
     "timestamp": 1706963715317,
     "user": {
      "displayName": "Diogo Resende",
      "userId": "05706604408624562002"
     },
     "user_tz": -60
    },
    "id": "Fmtz7S6dENfC",
    "outputId": "e20397ed-b6c6-42e9-f95b-7a261fd5ebcf"
   },
   "outputs": [
    {
     "data": {
      "text/html": [
       "<div>\n",
       "<style scoped>\n",
       "    .dataframe tbody tr th:only-of-type {\n",
       "        vertical-align: middle;\n",
       "    }\n",
       "\n",
       "    .dataframe tbody tr th {\n",
       "        vertical-align: top;\n",
       "    }\n",
       "\n",
       "    .dataframe thead th {\n",
       "        text-align: right;\n",
       "    }\n",
       "</style>\n",
       "<table border=\"1\" class=\"dataframe\">\n",
       "  <thead>\n",
       "    <tr style=\"text-align: right;\">\n",
       "      <th></th>\n",
       "      <th>discount_rate</th>\n",
       "      <th>coupon_rate</th>\n",
       "    </tr>\n",
       "    <tr>\n",
       "      <th>date</th>\n",
       "      <th></th>\n",
       "      <th></th>\n",
       "    </tr>\n",
       "  </thead>\n",
       "  <tbody>\n",
       "    <tr>\n",
       "      <th>2022-11-01</th>\n",
       "      <td>23.85</td>\n",
       "      <td>1.50</td>\n",
       "    </tr>\n",
       "    <tr>\n",
       "      <th>2022-11-02</th>\n",
       "      <td>20.76</td>\n",
       "      <td>0.94</td>\n",
       "    </tr>\n",
       "    <tr>\n",
       "      <th>2022-11-03</th>\n",
       "      <td>21.85</td>\n",
       "      <td>0.92</td>\n",
       "    </tr>\n",
       "    <tr>\n",
       "      <th>2022-11-04</th>\n",
       "      <td>20.17</td>\n",
       "      <td>0.88</td>\n",
       "    </tr>\n",
       "    <tr>\n",
       "      <th>2022-11-05</th>\n",
       "      <td>17.85</td>\n",
       "      <td>0.41</td>\n",
       "    </tr>\n",
       "  </tbody>\n",
       "</table>\n",
       "</div>"
      ],
      "text/plain": [
       "            discount_rate  coupon_rate\n",
       "date                                  \n",
       "2022-11-01          23.85         1.50\n",
       "2022-11-02          20.76         0.94\n",
       "2022-11-03          21.85         0.92\n",
       "2022-11-04          20.17         0.88\n",
       "2022-11-05          17.85         0.41"
      ]
     },
     "execution_count": 28,
     "metadata": {},
     "output_type": "execute_result"
    }
   ],
   "source": [
    "# Split the Regressor Data into training and test\n",
    "test_days = 30 # Number of days to reserve for testing\n",
    "exog_train, exog_test = df.iloc[:-test_days,1:3], df.iloc[-test_days:,1:3]\n",
    "exog_test.head()"
   ]
  },
  {
   "cell_type": "code",
   "execution_count": 65,
   "metadata": {},
   "outputs": [
    {
     "data": {
      "text/plain": [
       "date\n",
       "2018-01-01     6270839.0\n",
       "2018-01-02     8922076.0\n",
       "2018-01-03     8446101.0\n",
       "2018-01-04     7785798.0\n",
       "2018-01-05     6375303.0\n",
       "                 ...    \n",
       "2022-10-27    13714667.0\n",
       "2022-10-28    12100780.0\n",
       "2022-10-29    11849363.0\n",
       "2022-10-30    14561144.0\n",
       "2022-10-31    12689026.0\n",
       "Freq: D, Name: y, Length: 1765, dtype: float64"
      ]
     },
     "execution_count": 65,
     "metadata": {},
     "output_type": "execute_result"
    }
   ],
   "source": [
    "train['y']"
   ]
  },
  {
   "cell_type": "code",
   "execution_count": 66,
   "metadata": {},
   "outputs": [
    {
     "data": {
      "text/html": [
       "<div>\n",
       "<style scoped>\n",
       "    .dataframe tbody tr th:only-of-type {\n",
       "        vertical-align: middle;\n",
       "    }\n",
       "\n",
       "    .dataframe tbody tr th {\n",
       "        vertical-align: top;\n",
       "    }\n",
       "\n",
       "    .dataframe thead th {\n",
       "        text-align: right;\n",
       "    }\n",
       "</style>\n",
       "<table border=\"1\" class=\"dataframe\">\n",
       "  <thead>\n",
       "    <tr style=\"text-align: right;\">\n",
       "      <th></th>\n",
       "      <th>discount_rate</th>\n",
       "      <th>coupon_rate</th>\n",
       "    </tr>\n",
       "    <tr>\n",
       "      <th>date</th>\n",
       "      <th></th>\n",
       "      <th></th>\n",
       "    </tr>\n",
       "  </thead>\n",
       "  <tbody>\n",
       "    <tr>\n",
       "      <th>2018-01-01</th>\n",
       "      <td>34.27</td>\n",
       "      <td>1.09</td>\n",
       "    </tr>\n",
       "    <tr>\n",
       "      <th>2018-01-02</th>\n",
       "      <td>30.87</td>\n",
       "      <td>1.08</td>\n",
       "    </tr>\n",
       "    <tr>\n",
       "      <th>2018-01-03</th>\n",
       "      <td>28.11</td>\n",
       "      <td>1.01</td>\n",
       "    </tr>\n",
       "    <tr>\n",
       "      <th>2018-01-04</th>\n",
       "      <td>27.32</td>\n",
       "      <td>0.96</td>\n",
       "    </tr>\n",
       "    <tr>\n",
       "      <th>2018-01-05</th>\n",
       "      <td>25.70</td>\n",
       "      <td>0.90</td>\n",
       "    </tr>\n",
       "    <tr>\n",
       "      <th>...</th>\n",
       "      <td>...</td>\n",
       "      <td>...</td>\n",
       "    </tr>\n",
       "    <tr>\n",
       "      <th>2022-10-27</th>\n",
       "      <td>20.81</td>\n",
       "      <td>0.61</td>\n",
       "    </tr>\n",
       "    <tr>\n",
       "      <th>2022-10-28</th>\n",
       "      <td>21.44</td>\n",
       "      <td>0.55</td>\n",
       "    </tr>\n",
       "    <tr>\n",
       "      <th>2022-10-29</th>\n",
       "      <td>19.81</td>\n",
       "      <td>0.36</td>\n",
       "    </tr>\n",
       "    <tr>\n",
       "      <th>2022-10-30</th>\n",
       "      <td>20.41</td>\n",
       "      <td>0.34</td>\n",
       "    </tr>\n",
       "    <tr>\n",
       "      <th>2022-10-31</th>\n",
       "      <td>19.49</td>\n",
       "      <td>0.35</td>\n",
       "    </tr>\n",
       "  </tbody>\n",
       "</table>\n",
       "<p>1765 rows × 2 columns</p>\n",
       "</div>"
      ],
      "text/plain": [
       "            discount_rate  coupon_rate\n",
       "date                                  \n",
       "2018-01-01          34.27         1.09\n",
       "2018-01-02          30.87         1.08\n",
       "2018-01-03          28.11         1.01\n",
       "2018-01-04          27.32         0.96\n",
       "2018-01-05          25.70         0.90\n",
       "...                   ...          ...\n",
       "2022-10-27          20.81         0.61\n",
       "2022-10-28          21.44         0.55\n",
       "2022-10-29          19.81         0.36\n",
       "2022-10-30          20.41         0.34\n",
       "2022-10-31          19.49         0.35\n",
       "\n",
       "[1765 rows x 2 columns]"
      ]
     },
     "execution_count": 66,
     "metadata": {},
     "output_type": "execute_result"
    }
   ],
   "source": [
    "exog_train"
   ]
  },
  {
   "cell_type": "code",
   "execution_count": null,
   "metadata": {
    "colab": {
     "base_uri": "https://localhost:8080/",
     "height": 629
    },
    "executionInfo": {
     "elapsed": 250379,
     "status": "ok",
     "timestamp": 1706963965686,
     "user": {
      "displayName": "Diogo Resende",
      "userId": "05706604408624562002"
     },
     "user_tz": -60
    },
    "id": "GZxumknkEnWk",
    "outputId": "fa309e3b-7e9c-4964-dbf4-47b8c3091fd4"
   },
   "outputs": [
    {
     "data": {
      "text/html": [
       "<table class=\"simpletable\">\n",
       "<caption>SARIMAX Results</caption>\n",
       "<tr>\n",
       "  <th>Dep. Variable:</th>                 <td>y</td>               <th>  No. Observations:  </th>    <td>1765</td>   \n",
       "</tr>\n",
       "<tr>\n",
       "  <th>Model:</th>           <td>SARIMAX(2, 1, 2)x(2, 0, 2, 7)</td> <th>  Log Likelihood     </th> <td>-28613.022</td>\n",
       "</tr>\n",
       "<tr>\n",
       "  <th>Date:</th>                  <td>Fri, 23 May 2025</td>        <th>  AIC                </th>  <td>57250.045</td>\n",
       "</tr>\n",
       "<tr>\n",
       "  <th>Time:</th>                      <td>04:44:26</td>            <th>  BIC                </th>  <td>57315.749</td>\n",
       "</tr>\n",
       "<tr>\n",
       "  <th>Sample:</th>                   <td>01-01-2018</td>           <th>  HQIC               </th>  <td>57274.324</td>\n",
       "</tr>\n",
       "<tr>\n",
       "  <th></th>                         <td>- 10-31-2022</td>          <th>                     </th>      <td> </td>    \n",
       "</tr>\n",
       "<tr>\n",
       "  <th>Covariance Type:</th>              <td>opg</td>              <th>                     </th>      <td> </td>    \n",
       "</tr>\n",
       "</table>\n",
       "<table class=\"simpletable\">\n",
       "<tr>\n",
       "        <td></td>           <th>coef</th>     <th>std err</th>      <th>z</th>      <th>P>|z|</th>  <th>[0.025</th>    <th>0.975]</th>  \n",
       "</tr>\n",
       "<tr>\n",
       "  <th>intercept</th>     <td> 1.641e+04</td> <td> 7882.494</td> <td>    2.082</td> <td> 0.037</td> <td>  961.315</td> <td> 3.19e+04</td>\n",
       "</tr>\n",
       "<tr>\n",
       "  <th>discount_rate</th> <td>  4.03e+05</td> <td> 2.35e+04</td> <td>   17.137</td> <td> 0.000</td> <td> 3.57e+05</td> <td> 4.49e+05</td>\n",
       "</tr>\n",
       "<tr>\n",
       "  <th>coupon_rate</th>   <td> 9.229e+05</td> <td>  6.1e+04</td> <td>   15.134</td> <td> 0.000</td> <td> 8.03e+05</td> <td> 1.04e+06</td>\n",
       "</tr>\n",
       "<tr>\n",
       "  <th>ar.L1</th>         <td>   -0.6527</td> <td>    0.156</td> <td>   -4.193</td> <td> 0.000</td> <td>   -0.958</td> <td>   -0.348</td>\n",
       "</tr>\n",
       "<tr>\n",
       "  <th>ar.L2</th>         <td>    0.1827</td> <td>    0.049</td> <td>    3.763</td> <td> 0.000</td> <td>    0.088</td> <td>    0.278</td>\n",
       "</tr>\n",
       "<tr>\n",
       "  <th>ma.L1</th>         <td>    0.1067</td> <td>    0.155</td> <td>    0.689</td> <td> 0.491</td> <td>   -0.197</td> <td>    0.410</td>\n",
       "</tr>\n",
       "<tr>\n",
       "  <th>ma.L2</th>         <td>   -0.6922</td> <td>    0.124</td> <td>   -5.560</td> <td> 0.000</td> <td>   -0.936</td> <td>   -0.448</td>\n",
       "</tr>\n",
       "<tr>\n",
       "  <th>ar.S.L7</th>       <td>    0.0525</td> <td>    0.187</td> <td>    0.280</td> <td> 0.779</td> <td>   -0.315</td> <td>    0.420</td>\n",
       "</tr>\n",
       "<tr>\n",
       "  <th>ar.S.L14</th>      <td>    0.8998</td> <td>    0.178</td> <td>    5.059</td> <td> 0.000</td> <td>    0.551</td> <td>    1.248</td>\n",
       "</tr>\n",
       "<tr>\n",
       "  <th>ma.S.L7</th>       <td>    0.0181</td> <td>    0.183</td> <td>    0.099</td> <td> 0.921</td> <td>   -0.340</td> <td>    0.376</td>\n",
       "</tr>\n",
       "<tr>\n",
       "  <th>ma.S.L14</th>      <td>   -0.8500</td> <td>    0.161</td> <td>   -5.283</td> <td> 0.000</td> <td>   -1.165</td> <td>   -0.535</td>\n",
       "</tr>\n",
       "<tr>\n",
       "  <th>sigma2</th>        <td> 7.655e+12</td> <td>    0.016</td> <td> 4.78e+14</td> <td> 0.000</td> <td> 7.65e+12</td> <td> 7.65e+12</td>\n",
       "</tr>\n",
       "</table>\n",
       "<table class=\"simpletable\">\n",
       "<tr>\n",
       "  <th>Ljung-Box (L1) (Q):</th>     <td>0.02</td> <th>  Jarque-Bera (JB):  </th> <td>1075228.53</td>\n",
       "</tr>\n",
       "<tr>\n",
       "  <th>Prob(Q):</th>                <td>0.88</td> <th>  Prob(JB):          </th>    <td>0.00</td>   \n",
       "</tr>\n",
       "<tr>\n",
       "  <th>Heteroskedasticity (H):</th> <td>2.05</td> <th>  Skew:              </th>    <td>5.53</td>   \n",
       "</tr>\n",
       "<tr>\n",
       "  <th>Prob(H) (two-sided):</th>    <td>0.00</td> <th>  Kurtosis:          </th>   <td>123.44</td>  \n",
       "</tr>\n",
       "</table><br/><br/>Warnings:<br/>[1] Covariance matrix calculated using the outer product of gradients (complex-step).<br/>[2] Covariance matrix is singular or near-singular, with condition number 1.33e+29. Standard errors may be unstable."
      ],
      "text/plain": [
       "<class 'statsmodels.iolib.summary.Summary'>\n",
       "\"\"\"\n",
       "                                     SARIMAX Results                                     \n",
       "=========================================================================================\n",
       "Dep. Variable:                                 y   No. Observations:                 1765\n",
       "Model:             SARIMAX(2, 1, 2)x(2, 0, 2, 7)   Log Likelihood              -28613.022\n",
       "Date:                           Fri, 23 May 2025   AIC                          57250.045\n",
       "Time:                                   04:44:26   BIC                          57315.749\n",
       "Sample:                               01-01-2018   HQIC                         57274.324\n",
       "                                    - 10-31-2022                                         \n",
       "Covariance Type:                             opg                                         \n",
       "=================================================================================\n",
       "                    coef    std err          z      P>|z|      [0.025      0.975]\n",
       "---------------------------------------------------------------------------------\n",
       "intercept      1.641e+04   7882.494      2.082      0.037     961.315    3.19e+04\n",
       "discount_rate   4.03e+05   2.35e+04     17.137      0.000    3.57e+05    4.49e+05\n",
       "coupon_rate    9.229e+05    6.1e+04     15.134      0.000    8.03e+05    1.04e+06\n",
       "ar.L1            -0.6527      0.156     -4.193      0.000      -0.958      -0.348\n",
       "ar.L2             0.1827      0.049      3.763      0.000       0.088       0.278\n",
       "ma.L1             0.1067      0.155      0.689      0.491      -0.197       0.410\n",
       "ma.L2            -0.6922      0.124     -5.560      0.000      -0.936      -0.448\n",
       "ar.S.L7           0.0525      0.187      0.280      0.779      -0.315       0.420\n",
       "ar.S.L14          0.8998      0.178      5.059      0.000       0.551       1.248\n",
       "ma.S.L7           0.0181      0.183      0.099      0.921      -0.340       0.376\n",
       "ma.S.L14         -0.8500      0.161     -5.283      0.000      -1.165      -0.535\n",
       "sigma2         7.655e+12      0.016   4.78e+14      0.000    7.65e+12    7.65e+12\n",
       "===================================================================================\n",
       "Ljung-Box (L1) (Q):                   0.02   Jarque-Bera (JB):           1075228.53\n",
       "Prob(Q):                              0.88   Prob(JB):                         0.00\n",
       "Heteroskedasticity (H):               2.05   Skew:                             5.53\n",
       "Prob(H) (two-sided):                  0.00   Kurtosis:                       123.44\n",
       "===================================================================================\n",
       "\n",
       "Warnings:\n",
       "[1] Covariance matrix calculated using the outer product of gradients (complex-step).\n",
       "[2] Covariance matrix is singular or near-singular, with condition number 1.33e+29. Standard errors may be unstable.\n",
       "\"\"\""
      ]
     },
     "execution_count": 29,
     "metadata": {},
     "output_type": "execute_result"
    }
   ],
   "source": [
    "# auto_arima() from pmdarima - used to automatically select the optimal parameters for an ARIMA model based on the provided time series data.\n",
    "# m = The number of periods in each season.\n",
    "# X =  exogenous variables.\n",
    "model_sarimax = auto_arima(train['y'],\n",
    "                           m = 7,\n",
    "                           X = exog_train\n",
    "                           )\n",
    "model_sarimax.summary()"
   ]
  },
  {
   "cell_type": "markdown",
   "metadata": {},
   "source": [
    "AR --> y1(t)=0.5 * y(t-1) + 0.9 y(t-2)  + ....      --> 9\n",
    "\n",
    "S --> y2(t) = 0.5 y(t-365) + 0.1 y(t - 365*2) - ......  --> +2\n",
    "  \n",
    "X --> y3(t) bla bla bla   --> +1\n",
    "\n",
    "final y(t) = AR y(t) + S y(t) + X y(t) = 12\n",
    "\n",
    "\n",
    "\n",
    "\n",
    "\n",
    " --------    MA --> y(t) = 0.1 e(t-1) + 0.2 * e(t-2)  --> -1\n",
    "\n",
    "\n",
    " final final y(t) = final y(t) + MA y(t) = 12 - 1 = 11\n"
   ]
  },
  {
   "cell_type": "code",
   "execution_count": 30,
   "metadata": {
    "colab": {
     "base_uri": "https://localhost:8080/"
    },
    "executionInfo": {
     "elapsed": 29,
     "status": "ok",
     "timestamp": 1706963965686,
     "user": {
      "displayName": "Diogo Resende",
      "userId": "05706604408624562002"
     },
     "user_tz": -60
    },
    "id": "aOcA3FH3EnW5",
    "outputId": "009e4c8e-f72f-456e-843a-9ee4c911511a"
   },
   "outputs": [
    {
     "data": {
      "text/plain": [
       "2022-11-01    1.675202e+07\n",
       "2022-11-02    1.494541e+07\n",
       "2022-11-03    1.488398e+07\n",
       "2022-11-04    1.296372e+07\n",
       "2022-11-05    1.205416e+07\n",
       "2022-11-06    1.394966e+07\n",
       "2022-11-07    1.341710e+07\n",
       "2022-11-08    1.328236e+07\n",
       "2022-11-09    1.441165e+07\n",
       "2022-11-10    2.077573e+07\n",
       "2022-11-11    2.121825e+07\n",
       "2022-11-12    1.346294e+07\n",
       "2022-11-13    1.489139e+07\n",
       "2022-11-14    1.299947e+07\n",
       "2022-11-15    1.348097e+07\n",
       "2022-11-16    1.398062e+07\n",
       "2022-11-17    1.803911e+07\n",
       "2022-11-18    1.675100e+07\n",
       "2022-11-19    1.712306e+07\n",
       "2022-11-20    1.980822e+07\n",
       "2022-11-21    1.847932e+07\n",
       "2022-11-22    1.908257e+07\n",
       "2022-11-23    1.913661e+07\n",
       "2022-11-24    2.068937e+07\n",
       "2022-11-25    1.926306e+07\n",
       "2022-11-26    1.851280e+07\n",
       "2022-11-27    2.073309e+07\n",
       "2022-11-28    2.608046e+07\n",
       "2022-11-29    1.588336e+07\n",
       "2022-11-30    1.480008e+07\n",
       "Freq: D, dtype: float64"
      ]
     },
     "execution_count": 30,
     "metadata": {},
     "output_type": "execute_result"
    }
   ],
   "source": [
    "# Use the fitted SARIMAX model to forecast future values.\n",
    "# set the number of periods to forecast to the length of 'test'\n",
    "# X - representing the exogenous variables for forecasting\n",
    "predictions_sarimax = model_sarimax.predict(n_periods = len(test),\n",
    "                                            X = exog_test)\n",
    "predictions_sarimax"
   ]
  },
  {
   "cell_type": "code",
   "execution_count": 31,
   "metadata": {
    "colab": {
     "base_uri": "https://localhost:8080/",
     "height": 445
    },
    "executionInfo": {
     "elapsed": 978,
     "status": "ok",
     "timestamp": 1706963966640,
     "user": {
      "displayName": "Diogo Resende",
      "userId": "05706604408624562002"
     },
     "user_tz": -60
    },
    "id": "hLRn6NvJEnW6",
    "outputId": "61b5c421-d049-42b0-c317-ac82feae5cde"
   },
   "outputs": [
    {
     "data": {
      "image/png": "[encoded data removed]",
      "text/plain": [
       "<Figure size 1000x400 with 1 Axes>"
      ]
     },
     "metadata": {},
     "output_type": "display_data"
    },
    {
     "name": "stdout",
     "output_type": "stream",
     "text": [
      "The MAE is 5716464.90\n",
      "The RMSE is 10394494.40\n",
      "The MAPE is 19.36 %\n"
     ]
    }
   ],
   "source": [
    "# Model assessment\n",
    "model_assessment(train['y']['2022':], test['y'], predictions_sarimax, \"SARIMAX\")"
   ]
  }
 ],
 "metadata": {
  "colab": {
   "provenance": []
  },
  "kernelspec": {
   "display_name": "Python 3 (ipykernel)",
   "language": "python",
   "name": "python3"
  },
  "language_info": {
   "codemirror_mode": {
    "name": "ipython",
    "version": 3
   },
   "file_extension": ".py",
   "mimetype": "text/x-python",
   "name": "python",
   "nbconvert_exporter": "python",
   "pygments_lexer": "ipython3",
   "version": "3.10.0"
  }
 },
 "nbformat": 4,
 "nbformat_minor": 4
}
