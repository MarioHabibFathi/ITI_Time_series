{
 "cells": [
  {
   "cell_type": "markdown",
   "metadata": {
    "id": "TrUKIxWVs2h7"
   },
   "source": [
    "# Useful Functions"
   ]
  },
  {
   "cell_type": "code",
   "execution_count": 1,
   "metadata": {
    "id": "pMmMZ2WZs5sv"
   },
   "outputs": [],
   "source": [
    "# Function to assess model and visualize output\n",
    "def model_assessment(train, test, predictions, chart_title):\n",
    "  # Set the size of the plot to 10 inches by 4 inches\n",
    "  plt.figure(figsize = (10,4))\n",
    "  # Plot the train, test, and forecast data\n",
    "  plt.plot(train, label = 'Train')\n",
    "  plt.plot(test, label = 'Test')\n",
    "  plt.plot(predictions, label = \"Forecast\")\n",
    "  # add title and legend to the plot\n",
    "  plt.title(f\"Train, Test and Predictions with {chart_title}\")\n",
    "  plt.legend()\n",
    "  plt.show()\n",
    "\n",
    "  # Calculating the MAE, RMSE, and MAPE\n",
    "  mae = mean_absolute_error(test, predictions)\n",
    "  rmse = mean_squared_error(test, predictions)\n",
    "  mape = mean_absolute_percentage_error(test, predictions)\n",
    "\n",
    "  # Print the calculated error metrics\n",
    "  print(f\"The MAE is {mae:.2f}\")\n",
    "  print(f\"The RMSE is {rmse:.2f}\")\n",
    "  print(f\"The MAPE is {100 * mape:.2f} %\")"
   ]
  },
  {
   "cell_type": "code",
   "execution_count": 2,
   "metadata": {
    "id": "THGT63e3s6JV"
   },
   "outputs": [],
   "source": [
    "# Function to plot the future\n",
    "def plot_future(y, forecast, title):\n",
    "  # Set the size of the plot to 10 inches by 4 inches\n",
    "  plt.figure(figsize = (10,4))\n",
    "  # Plot the train and forecast data\n",
    "  plt.plot(y, label = 'Train')\n",
    "  plt.plot(forecast, label = \"Forecast\")\n",
    "  # add title and legend to the plot\n",
    "  plt.title(f\"Train and Forecast with {title}\")\n",
    "  plt.legend()\n",
    "  plt.show()"
   ]
  },
  {
   "cell_type": "markdown",
   "metadata": {
    "id": "dfTClcTk4uVl"
   },
   "source": [
    "# Libraries and Data"
   ]
  },
  {
   "cell_type": "code",
   "execution_count": 69,
   "metadata": {
    "colab": {
     "base_uri": "https://localhost:8080/"
    },
    "executionInfo": {
     "elapsed": 22964,
     "status": "ok",
     "timestamp": 1706963318958,
     "user": {
      "displayName": "Diogo Resende",
      "userId": "05706604408624562002"
     },
     "user_tz": -60
    },
    "id": "EZQdYvSv4hfY",
    "outputId": "6cb205e1-0f3a-4bd5-b8eb-2bc47a98c888"
   },
   "outputs": [],
   "source": [
    "# from google.colab import drive\n",
    "# drive.mount('/content/drive')"
   ]
  },
  {
   "cell_type": "code",
   "execution_count": 70,
   "metadata": {
    "colab": {
     "base_uri": "https://localhost:8080/"
    },
    "executionInfo": {
     "elapsed": 478,
     "status": "ok",
     "timestamp": 1706965646504,
     "user": {
      "displayName": "Diogo Resende",
      "userId": "05706604408624562002"
     },
     "user_tz": -60
    },
    "id": "fhjNDZ0o4xzt",
    "outputId": "bf6ad752-bf21-48cb-a8fe-3454d224a380"
   },
   "outputs": [],
   "source": [
    "# %cd /content/drive/MyDrive/Python - Time Series Forecasting/Time Series Analysis/ARIMA, SARIMA and SARIMAX"
   ]
  },
  {
   "cell_type": "code",
   "execution_count": 3,
   "metadata": {
    "colab": {
     "base_uri": "https://localhost:8080/"
    },
    "executionInfo": {
     "elapsed": 17689,
     "status": "ok",
     "timestamp": 1706965667495,
     "user": {
      "displayName": "Diogo Resende",
      "userId": "05706604408624562002"
     },
     "user_tz": -60
    },
    "id": "ytQxyuRltaK1",
    "outputId": "011f3b49-53e5-4a11-ce98-1aab0be7780e"
   },
   "outputs": [
    {
     "name": "stdout",
     "output_type": "stream",
     "text": [
      "Requirement already satisfied: pmdarima in c:\\users\\marha\\anaconda3\\envs\\tf_gpu\\lib\\site-packages (2.0.4)\n",
      "Requirement already satisfied: scipy>=1.3.2 in c:\\users\\marha\\anaconda3\\envs\\tf_gpu\\lib\\site-packages (from pmdarima) (1.15.2)\n",
      "Requirement already satisfied: urllib3 in c:\\users\\marha\\anaconda3\\envs\\tf_gpu\\lib\\site-packages (from pmdarima) (1.26.16)\n",
      "Requirement already satisfied: scikit-learn>=0.22 in c:\\users\\marha\\anaconda3\\envs\\tf_gpu\\lib\\site-packages (from pmdarima) (1.6.1)\n",
      "Requirement already satisfied: joblib>=0.11 in c:\\users\\marha\\anaconda3\\envs\\tf_gpu\\lib\\site-packages (from pmdarima) (1.5.0)\n",
      "Requirement already satisfied: setuptools!=50.0.0,>=38.6.0 in c:\\users\\marha\\anaconda3\\envs\\tf_gpu\\lib\\site-packages (from pmdarima) (66.0.0)\n",
      "Requirement already satisfied: packaging>=17.1 in c:\\users\\marha\\appdata\\roaming\\python\\python310\\site-packages (from pmdarima) (24.2)\n",
      "Requirement already satisfied: pandas>=0.19 in c:\\users\\marha\\anaconda3\\envs\\tf_gpu\\lib\\site-packages (from pmdarima) (1.5.2)\n",
      "Requirement already satisfied: numpy>=1.21.2 in c:\\users\\marha\\anaconda3\\envs\\tf_gpu\\lib\\site-packages (from pmdarima) (1.25.0)\n",
      "Requirement already satisfied: statsmodels>=0.13.2 in c:\\users\\marha\\anaconda3\\envs\\tf_gpu\\lib\\site-packages (from pmdarima) (0.14.4)\n",
      "Requirement already satisfied: Cython!=0.29.18,!=0.29.31,>=0.29 in c:\\users\\marha\\anaconda3\\envs\\tf_gpu\\lib\\site-packages (from pmdarima) (3.1.1)\n",
      "Requirement already satisfied: python-dateutil>=2.8.1 in c:\\users\\marha\\appdata\\roaming\\python\\python310\\site-packages (from pandas>=0.19->pmdarima) (2.9.0.post0)\n",
      "Requirement already satisfied: pytz>=2020.1 in c:\\users\\marha\\anaconda3\\envs\\tf_gpu\\lib\\site-packages (from pandas>=0.19->pmdarima) (2022.7)\n",
      "Requirement already satisfied: threadpoolctl>=3.1.0 in c:\\users\\marha\\anaconda3\\envs\\tf_gpu\\lib\\site-packages (from scikit-learn>=0.22->pmdarima) (3.5.0)\n",
      "Requirement already satisfied: patsy>=0.5.6 in c:\\users\\marha\\anaconda3\\envs\\tf_gpu\\lib\\site-packages (from statsmodels>=0.13.2->pmdarima) (1.0.1)\n",
      "Requirement already satisfied: six>=1.5 in c:\\users\\marha\\appdata\\roaming\\python\\python310\\site-packages (from python-dateutil>=2.8.1->pandas>=0.19->pmdarima) (1.17.0)\n"
     ]
    },
    {
     "name": "stderr",
     "output_type": "stream",
     "text": [
      "WARNING: Ignoring invalid distribution -rotobuf (c:\\users\\marha\\appdata\\roaming\\python\\python310\\site-packages)\n",
      "WARNING: Ignoring invalid distribution -illow (c:\\users\\marha\\appdata\\roaming\\python\\python310\\site-packages)\n",
      "WARNING: Ignoring invalid distribution -entencepiece (c:\\users\\marha\\appdata\\roaming\\python\\python310\\site-packages)\n",
      "WARNING: Ignoring invalid distribution -umpy (c:\\users\\marha\\anaconda3\\envs\\tf_gpu\\lib\\site-packages)\n",
      "WARNING: Ignoring invalid distribution -rotobuf (c:\\users\\marha\\appdata\\roaming\\python\\python310\\site-packages)\n",
      "WARNING: Ignoring invalid distribution -illow (c:\\users\\marha\\appdata\\roaming\\python\\python310\\site-packages)\n",
      "WARNING: Ignoring invalid distribution -entencepiece (c:\\users\\marha\\appdata\\roaming\\python\\python310\\site-packages)\n",
      "WARNING: Ignoring invalid distribution -umpy (c:\\users\\marha\\anaconda3\\envs\\tf_gpu\\lib\\site-packages)\n",
      "WARNING: Ignoring invalid distribution -rotobuf (c:\\users\\marha\\appdata\\roaming\\python\\python310\\site-packages)\n",
      "WARNING: Ignoring invalid distribution -illow (c:\\users\\marha\\appdata\\roaming\\python\\python310\\site-packages)\n",
      "WARNING: Ignoring invalid distribution -entencepiece (c:\\users\\marha\\appdata\\roaming\\python\\python310\\site-packages)\n",
      "WARNING: Ignoring invalid distribution -umpy (c:\\users\\marha\\anaconda3\\envs\\tf_gpu\\lib\\site-packages)\n",
      "WARNING: Ignoring invalid distribution -rotobuf (c:\\users\\marha\\appdata\\roaming\\python\\python310\\site-packages)\n",
      "WARNING: Ignoring invalid distribution -illow (c:\\users\\marha\\appdata\\roaming\\python\\python310\\site-packages)\n",
      "WARNING: Ignoring invalid distribution -entencepiece (c:\\users\\marha\\appdata\\roaming\\python\\python310\\site-packages)\n",
      "WARNING: Ignoring invalid distribution -umpy (c:\\users\\marha\\anaconda3\\envs\\tf_gpu\\lib\\site-packages)\n",
      "WARNING: Ignoring invalid distribution -rotobuf (c:\\users\\marha\\appdata\\roaming\\python\\python310\\site-packages)\n",
      "WARNING: Ignoring invalid distribution -illow (c:\\users\\marha\\appdata\\roaming\\python\\python310\\site-packages)\n",
      "WARNING: Ignoring invalid distribution -entencepiece (c:\\users\\marha\\appdata\\roaming\\python\\python310\\site-packages)\n",
      "WARNING: Ignoring invalid distribution -umpy (c:\\users\\marha\\anaconda3\\envs\\tf_gpu\\lib\\site-packages)\n",
      "WARNING: Ignoring invalid distribution -rotobuf (c:\\users\\marha\\appdata\\roaming\\python\\python310\\site-packages)\n",
      "WARNING: Ignoring invalid distribution -illow (c:\\users\\marha\\appdata\\roaming\\python\\python310\\site-packages)\n",
      "WARNING: Ignoring invalid distribution -entencepiece (c:\\users\\marha\\appdata\\roaming\\python\\python310\\site-packages)\n",
      "WARNING: Ignoring invalid distribution -umpy (c:\\users\\marha\\anaconda3\\envs\\tf_gpu\\lib\\site-packages)\n"
     ]
    }
   ],
   "source": [
    "!pip install pmdarima"
   ]
  },
  {
   "cell_type": "code",
   "execution_count": 3,
   "metadata": {
    "id": "gHgFNVA9456y"
   },
   "outputs": [],
   "source": [
    "# Libraries\n",
    "import pandas as pd\n",
    "import matplotlib.pyplot as plt\n",
    "from statsmodels.graphics.tsaplots import month_plot, quarter_plot\n",
    "from statsmodels.graphics.tsaplots import plot_acf, plot_pacf\n",
    "from statsmodels.tsa.seasonal import seasonal_decompose\n",
    "from sklearn.metrics import mean_absolute_error, mean_squared_error, mean_absolute_percentage_error\n",
    "from pmdarima import auto_arima, ARIMA, model_selection\n",
    "import numpy as np\n",
    "from sklearn.model_selection import ParameterGrid"
   ]
  },
  {
   "cell_type": "code",
   "execution_count": 4,
   "metadata": {
    "colab": {
     "base_uri": "https://localhost:8080/",
     "height": 237
    },
    "executionInfo": {
     "elapsed": 50,
     "status": "ok",
     "timestamp": 1706965671018,
     "user": {
      "displayName": "Diogo Resende",
      "userId": "05706604408624562002"
     },
     "user_tz": -60
    },
    "id": "AKzg2C7-DzqS",
    "outputId": "504ff490-a637-44be-b5f4-b2a2cab719e1"
   },
   "outputs": [
    {
     "data": {
      "text/html": [
       "<div>\n",
       "<style scoped>\n",
       "    .dataframe tbody tr th:only-of-type {\n",
       "        vertical-align: middle;\n",
       "    }\n",
       "\n",
       "    .dataframe tbody tr th {\n",
       "        vertical-align: top;\n",
       "    }\n",
       "\n",
       "    .dataframe thead th {\n",
       "        text-align: right;\n",
       "    }\n",
       "</style>\n",
       "<table border=\"1\" class=\"dataframe\">\n",
       "  <thead>\n",
       "    <tr style=\"text-align: right;\">\n",
       "      <th></th>\n",
       "      <th>Open</th>\n",
       "      <th>High</th>\n",
       "      <th>Low</th>\n",
       "      <th>Close</th>\n",
       "      <th>Adj Close</th>\n",
       "      <th>Volume</th>\n",
       "    </tr>\n",
       "    <tr>\n",
       "      <th>Date</th>\n",
       "      <th></th>\n",
       "      <th></th>\n",
       "      <th></th>\n",
       "      <th></th>\n",
       "      <th></th>\n",
       "      <th></th>\n",
       "    </tr>\n",
       "  </thead>\n",
       "  <tbody>\n",
       "    <tr>\n",
       "      <th>1997-05-15</th>\n",
       "      <td>2.437500</td>\n",
       "      <td>2.500000</td>\n",
       "      <td>1.927083</td>\n",
       "      <td>1.958333</td>\n",
       "      <td>1.958333</td>\n",
       "      <td>72156000</td>\n",
       "    </tr>\n",
       "    <tr>\n",
       "      <th>1997-05-16</th>\n",
       "      <td>1.968750</td>\n",
       "      <td>1.979167</td>\n",
       "      <td>1.708333</td>\n",
       "      <td>1.729167</td>\n",
       "      <td>1.729167</td>\n",
       "      <td>14700000</td>\n",
       "    </tr>\n",
       "    <tr>\n",
       "      <th>1997-05-19</th>\n",
       "      <td>1.760417</td>\n",
       "      <td>1.770833</td>\n",
       "      <td>1.625000</td>\n",
       "      <td>1.708333</td>\n",
       "      <td>1.708333</td>\n",
       "      <td>6106800</td>\n",
       "    </tr>\n",
       "    <tr>\n",
       "      <th>1997-05-20</th>\n",
       "      <td>1.729167</td>\n",
       "      <td>1.750000</td>\n",
       "      <td>1.635417</td>\n",
       "      <td>1.635417</td>\n",
       "      <td>1.635417</td>\n",
       "      <td>5467200</td>\n",
       "    </tr>\n",
       "    <tr>\n",
       "      <th>1997-05-21</th>\n",
       "      <td>1.635417</td>\n",
       "      <td>1.645833</td>\n",
       "      <td>1.375000</td>\n",
       "      <td>1.427083</td>\n",
       "      <td>1.427083</td>\n",
       "      <td>18853200</td>\n",
       "    </tr>\n",
       "  </tbody>\n",
       "</table>\n",
       "</div>"
      ],
      "text/plain": [
       "                Open      High       Low     Close  Adj Close    Volume\n",
       "Date                                                                   \n",
       "1997-05-15  2.437500  2.500000  1.927083  1.958333   1.958333  72156000\n",
       "1997-05-16  1.968750  1.979167  1.708333  1.729167   1.729167  14700000\n",
       "1997-05-19  1.760417  1.770833  1.625000  1.708333   1.708333   6106800\n",
       "1997-05-20  1.729167  1.750000  1.635417  1.635417   1.635417   5467200\n",
       "1997-05-21  1.635417  1.645833  1.375000  1.427083   1.427083  18853200"
      ]
     },
     "execution_count": 4,
     "metadata": {},
     "output_type": "execute_result"
    }
   ],
   "source": [
    "# Loading the daily revenue data and set the date as uindex\n",
    "df = pd.read_csv(\"Amazon.csv\",\n",
    "                 index_col = \"Date\",\n",
    "                 parse_dates = True,\n",
    "                 dayfirst = True)\n",
    "df.head()"
   ]
  },
  {
   "cell_type": "code",
   "execution_count": 5,
   "metadata": {},
   "outputs": [
    {
     "data": {
      "text/plain": [
       "(5842, 6)"
      ]
     },
     "execution_count": 5,
     "metadata": {},
     "output_type": "execute_result"
    }
   ],
   "source": [
    "df.shape"
   ]
  },
  {
   "cell_type": "code",
   "execution_count": 6,
   "metadata": {
    "colab": {
     "base_uri": "https://localhost:8080/"
    },
    "executionInfo": {
     "elapsed": 45,
     "status": "ok",
     "timestamp": 1706965671018,
     "user": {
      "displayName": "Diogo Resende",
      "userId": "05706604408624562002"
     },
     "user_tz": -60
    },
    "id": "UG1xWf5P5Kjn",
    "outputId": "c2258482-0ef8-4526-e78d-bb3b8e9f1030"
   },
   "outputs": [
    {
     "name": "stdout",
     "output_type": "stream",
     "text": [
      "<class 'pandas.core.frame.DataFrame'>\n",
      "DatetimeIndex: 5842 entries, 1997-05-15 to 2020-07-31\n",
      "Data columns (total 6 columns):\n",
      " #   Column     Non-Null Count  Dtype  \n",
      "---  ------     --------------  -----  \n",
      " 0   Open       5842 non-null   float64\n",
      " 1   High       5842 non-null   float64\n",
      " 2   Low        5842 non-null   float64\n",
      " 3   Close      5842 non-null   float64\n",
      " 4   Adj Close  5842 non-null   float64\n",
      " 5   Volume     5842 non-null   int64  \n",
      "dtypes: float64(5), int64(1)\n",
      "memory usage: 319.5 KB\n"
     ]
    }
   ],
   "source": [
    "# Information about the df\n",
    "df.info()"
   ]
  },
  {
   "cell_type": "markdown",
   "metadata": {},
   "source": [
    "There is no preprocessing that can happen here because the data is of type float and int"
   ]
  },
  {
   "cell_type": "code",
   "execution_count": 74,
   "metadata": {
    "id": "-0p3JmoufqMR"
   },
   "outputs": [],
   "source": [
    "# Remove the comma in revenue and convert it as float\n",
    "df['revenue'] = df['revenue'].str.replace(\",\", \"\").astype(float)"
   ]
  },
  {
   "cell_type": "code",
   "execution_count": 7,
   "metadata": {
    "id": "9QY7F3c5f-Wq"
   },
   "outputs": [],
   "source": [
    "# Set the dataframe to have daily frequency, it will give a lot of null value\n",
    "df_freq_d = df.asfreq(\"D\")"
   ]
  },
  {
   "cell_type": "markdown",
   "metadata": {},
   "source": [
    "We will consider the close as y value"
   ]
  },
  {
   "cell_type": "code",
   "execution_count": 8,
   "metadata": {
    "colab": {
     "base_uri": "https://localhost:8080/",
     "height": 237
    },
    "executionInfo": {
     "elapsed": 35,
     "status": "ok",
     "timestamp": 1706965671020,
     "user": {
      "displayName": "Diogo Resende",
      "userId": "05706604408624562002"
     },
     "user_tz": -60
    },
    "id": "OaJdX79jgGPe",
    "outputId": "9d1685ca-dc6e-4dc6-e582-ca1af3ab8d60",
    "scrolled": true
   },
   "outputs": [
    {
     "data": {
      "text/html": [
       "<div>\n",
       "<style scoped>\n",
       "    .dataframe tbody tr th:only-of-type {\n",
       "        vertical-align: middle;\n",
       "    }\n",
       "\n",
       "    .dataframe tbody tr th {\n",
       "        vertical-align: top;\n",
       "    }\n",
       "\n",
       "    .dataframe thead th {\n",
       "        text-align: right;\n",
       "    }\n",
       "</style>\n",
       "<table border=\"1\" class=\"dataframe\">\n",
       "  <thead>\n",
       "    <tr style=\"text-align: right;\">\n",
       "      <th></th>\n",
       "      <th>Open</th>\n",
       "      <th>High</th>\n",
       "      <th>Low</th>\n",
       "      <th>y</th>\n",
       "      <th>Adj Close</th>\n",
       "      <th>Volume</th>\n",
       "    </tr>\n",
       "    <tr>\n",
       "      <th>Date</th>\n",
       "      <th></th>\n",
       "      <th></th>\n",
       "      <th></th>\n",
       "      <th></th>\n",
       "      <th></th>\n",
       "      <th></th>\n",
       "    </tr>\n",
       "  </thead>\n",
       "  <tbody>\n",
       "    <tr>\n",
       "      <th>1997-05-15</th>\n",
       "      <td>2.437500</td>\n",
       "      <td>2.500000</td>\n",
       "      <td>1.927083</td>\n",
       "      <td>1.958333</td>\n",
       "      <td>1.958333</td>\n",
       "      <td>72156000.0</td>\n",
       "    </tr>\n",
       "    <tr>\n",
       "      <th>1997-05-16</th>\n",
       "      <td>1.968750</td>\n",
       "      <td>1.979167</td>\n",
       "      <td>1.708333</td>\n",
       "      <td>1.729167</td>\n",
       "      <td>1.729167</td>\n",
       "      <td>14700000.0</td>\n",
       "    </tr>\n",
       "    <tr>\n",
       "      <th>1997-05-17</th>\n",
       "      <td>NaN</td>\n",
       "      <td>NaN</td>\n",
       "      <td>NaN</td>\n",
       "      <td>NaN</td>\n",
       "      <td>NaN</td>\n",
       "      <td>NaN</td>\n",
       "    </tr>\n",
       "    <tr>\n",
       "      <th>1997-05-18</th>\n",
       "      <td>NaN</td>\n",
       "      <td>NaN</td>\n",
       "      <td>NaN</td>\n",
       "      <td>NaN</td>\n",
       "      <td>NaN</td>\n",
       "      <td>NaN</td>\n",
       "    </tr>\n",
       "    <tr>\n",
       "      <th>1997-05-19</th>\n",
       "      <td>1.760417</td>\n",
       "      <td>1.770833</td>\n",
       "      <td>1.625000</td>\n",
       "      <td>1.708333</td>\n",
       "      <td>1.708333</td>\n",
       "      <td>6106800.0</td>\n",
       "    </tr>\n",
       "  </tbody>\n",
       "</table>\n",
       "</div>"
      ],
      "text/plain": [
       "                Open      High       Low         y  Adj Close      Volume\n",
       "Date                                                                     \n",
       "1997-05-15  2.437500  2.500000  1.927083  1.958333   1.958333  72156000.0\n",
       "1997-05-16  1.968750  1.979167  1.708333  1.729167   1.729167  14700000.0\n",
       "1997-05-17       NaN       NaN       NaN       NaN        NaN         NaN\n",
       "1997-05-18       NaN       NaN       NaN       NaN        NaN         NaN\n",
       "1997-05-19  1.760417  1.770833  1.625000  1.708333   1.708333   6106800.0"
      ]
     },
     "execution_count": 8,
     "metadata": {},
     "output_type": "execute_result"
    }
   ],
   "source": [
    "# Change the time Series variable name\n",
    "df_freq_d = df_freq_d.rename(columns = {'Close': 'y'})\n",
    "df_freq_d.head()"
   ]
  },
  {
   "cell_type": "code",
   "execution_count": 9,
   "metadata": {},
   "outputs": [
    {
     "data": {
      "text/plain": [
       "(8479, 6)"
      ]
     },
     "execution_count": 9,
     "metadata": {},
     "output_type": "execute_result"
    }
   ],
   "source": [
    "df_freq_d.shape"
   ]
  },
  {
   "cell_type": "markdown",
   "metadata": {},
   "source": [
    "Here after using the frequency of Day, it was having many NaN values because of the weekends days [Saturday, Sunday] and we find that the shape has increased from 5842 to 8479, so we will use the B day instead"
   ]
  },
  {
   "cell_type": "code",
   "execution_count": 10,
   "metadata": {},
   "outputs": [],
   "source": [
    "df_freq_B = df.asfreq(\"B\")"
   ]
  },
  {
   "cell_type": "code",
   "execution_count": 11,
   "metadata": {},
   "outputs": [
    {
     "data": {
      "text/plain": [
       "(6057, 6)"
      ]
     },
     "execution_count": 11,
     "metadata": {},
     "output_type": "execute_result"
    }
   ],
   "source": [
    "df_freq_B.shape"
   ]
  },
  {
   "cell_type": "code",
   "execution_count": 12,
   "metadata": {},
   "outputs": [
    {
     "data": {
      "text/plain": [
       "Open         215\n",
       "High         215\n",
       "Low          215\n",
       "Close        215\n",
       "Adj Close    215\n",
       "Volume       215\n",
       "dtype: int64"
      ]
     },
     "execution_count": 12,
     "metadata": {},
     "output_type": "execute_result"
    }
   ],
   "source": [
    "df_freq_B.isnull().sum()"
   ]
  },
  {
   "cell_type": "code",
   "execution_count": 13,
   "metadata": {},
   "outputs": [
    {
     "data": {
      "text/html": [
       "<div>\n",
       "<style scoped>\n",
       "    .dataframe tbody tr th:only-of-type {\n",
       "        vertical-align: middle;\n",
       "    }\n",
       "\n",
       "    .dataframe tbody tr th {\n",
       "        vertical-align: top;\n",
       "    }\n",
       "\n",
       "    .dataframe thead th {\n",
       "        text-align: right;\n",
       "    }\n",
       "</style>\n",
       "<table border=\"1\" class=\"dataframe\">\n",
       "  <thead>\n",
       "    <tr style=\"text-align: right;\">\n",
       "      <th></th>\n",
       "      <th>Open</th>\n",
       "      <th>High</th>\n",
       "      <th>Low</th>\n",
       "      <th>Close</th>\n",
       "      <th>Adj Close</th>\n",
       "      <th>Volume</th>\n",
       "    </tr>\n",
       "    <tr>\n",
       "      <th>Date</th>\n",
       "      <th></th>\n",
       "      <th></th>\n",
       "      <th></th>\n",
       "      <th></th>\n",
       "      <th></th>\n",
       "      <th></th>\n",
       "    </tr>\n",
       "  </thead>\n",
       "  <tbody>\n",
       "    <tr>\n",
       "      <th>1997-05-15</th>\n",
       "      <td>2.437500</td>\n",
       "      <td>2.500000</td>\n",
       "      <td>1.927083</td>\n",
       "      <td>1.958333</td>\n",
       "      <td>1.958333</td>\n",
       "      <td>72156000.0</td>\n",
       "    </tr>\n",
       "    <tr>\n",
       "      <th>1997-05-16</th>\n",
       "      <td>1.968750</td>\n",
       "      <td>1.979167</td>\n",
       "      <td>1.708333</td>\n",
       "      <td>1.729167</td>\n",
       "      <td>1.729167</td>\n",
       "      <td>14700000.0</td>\n",
       "    </tr>\n",
       "    <tr>\n",
       "      <th>1997-05-19</th>\n",
       "      <td>1.760417</td>\n",
       "      <td>1.770833</td>\n",
       "      <td>1.625000</td>\n",
       "      <td>1.708333</td>\n",
       "      <td>1.708333</td>\n",
       "      <td>6106800.0</td>\n",
       "    </tr>\n",
       "    <tr>\n",
       "      <th>1997-05-20</th>\n",
       "      <td>1.729167</td>\n",
       "      <td>1.750000</td>\n",
       "      <td>1.635417</td>\n",
       "      <td>1.635417</td>\n",
       "      <td>1.635417</td>\n",
       "      <td>5467200.0</td>\n",
       "    </tr>\n",
       "    <tr>\n",
       "      <th>1997-05-21</th>\n",
       "      <td>1.635417</td>\n",
       "      <td>1.645833</td>\n",
       "      <td>1.375000</td>\n",
       "      <td>1.427083</td>\n",
       "      <td>1.427083</td>\n",
       "      <td>18853200.0</td>\n",
       "    </tr>\n",
       "  </tbody>\n",
       "</table>\n",
       "</div>"
      ],
      "text/plain": [
       "                Open      High       Low     Close  Adj Close      Volume\n",
       "Date                                                                     \n",
       "1997-05-15  2.437500  2.500000  1.927083  1.958333   1.958333  72156000.0\n",
       "1997-05-16  1.968750  1.979167  1.708333  1.729167   1.729167  14700000.0\n",
       "1997-05-19  1.760417  1.770833  1.625000  1.708333   1.708333   6106800.0\n",
       "1997-05-20  1.729167  1.750000  1.635417  1.635417   1.635417   5467200.0\n",
       "1997-05-21  1.635417  1.645833  1.375000  1.427083   1.427083  18853200.0"
      ]
     },
     "execution_count": 13,
     "metadata": {},
     "output_type": "execute_result"
    }
   ],
   "source": [
    "df_freq_B.head()"
   ]
  },
  {
   "cell_type": "markdown",
   "metadata": {},
   "source": [
    "The reason the size became 6057 and not 5842 was because many business days could be off due to official holidays and/or extraordinary event"
   ]
  },
  {
   "cell_type": "code",
   "execution_count": 14,
   "metadata": {},
   "outputs": [
    {
     "name": "stdout",
     "output_type": "stream",
     "text": [
      "DatetimeIndex(['1997-05-26', '1997-07-04', '1997-09-01', '1997-11-27',\n",
      "               '1997-12-25', '1998-01-01', '1998-01-19', '1998-02-16',\n",
      "               '1998-04-10', '1998-05-25',\n",
      "               ...\n",
      "               '2019-07-04', '2019-09-02', '2019-11-28', '2019-12-25',\n",
      "               '2020-01-01', '2020-01-20', '2020-02-17', '2020-04-10',\n",
      "               '2020-05-25', '2020-07-03'],\n",
      "              dtype='datetime64[ns]', name='Date', length=215, freq=None)\n",
      "215\n"
     ]
    }
   ],
   "source": [
    "# Here we see which days were added and at the same time were holiday and/or extraordinary event\n",
    "df_original = pd.read_csv(\"Amazon.csv\", index_col=\"Date\", parse_dates=True, dayfirst=True)\n",
    "df_full = df_original.asfreq(\"B\")\n",
    "\n",
    "missing_dates = df_full[df_full['Open'].isna()].index\n",
    "print(missing_dates)\n",
    "print(len(missing_dates))"
   ]
  },
  {
   "cell_type": "markdown",
   "metadata": {
    "id": "73t71THXfZ31"
   },
   "source": [
    "A list of commonly used `.asfreq()` aliases:\n",
    "\n",
    "Time-based frequencies:\n",
    "\n",
    "- 'D': Calendar day frequency\n",
    "- 'B': Business day frequency\n",
    "- 'W': Weekly frequency\n",
    "- 'W-MON', 'W-TUE', ..., 'W-SUN': Weekly frequency (anchored on a specific day)\n",
    "- 'M': Month end frequency\n",
    "- 'MS': Month start frequency\n",
    "- 'Q': Quarter end frequency\n",
    "- 'QS': Quarter start frequency\n",
    "- 'A' or 'Y': Year end frequency\n",
    "- 'BA' or 'BY': Business year end frequency\n",
    "- 'AS' or 'YS': Year start frequency\n",
    "- 'BAS' or 'BYS': Business year start frequency\n",
    "\n",
    "\n",
    "Hourly, minutely, and secondly frequencies:\n",
    "\n",
    "- 'H': Hourly frequency\n",
    "- 'T' or 'min': Minutely frequency\n",
    "- 'S': Secondly frequency\n",
    "\n",
    "\n",
    "You can also use multiples, like:\n",
    "\n",
    "- '2D': Every 2 days\n",
    "- '4H': Every 4 hours\n",
    "- '15T' or '15min': Every 15 minutes"
   ]
  },
  {
   "cell_type": "markdown",
   "metadata": {
    "id": "JKWng1hbAa05"
   },
   "source": [
    "# Exploratory Data Analysis"
   ]
  },
  {
   "cell_type": "code",
   "execution_count": 15,
   "metadata": {
    "colab": {
     "base_uri": "https://localhost:8080/",
     "height": 472
    },
    "executionInfo": {
     "elapsed": 931,
     "status": "ok",
     "timestamp": 1706965671920,
     "user": {
      "displayName": "Diogo Resende",
      "userId": "05706604408624562002"
     },
     "user_tz": -60
    },
    "id": "CXcmxcaNIqf3",
    "outputId": "d4404c44-6be2-4c72-ffff-e70bf40f358c"
   },
   "outputs": [
    {
     "data": {
      "image/png": "[encoded data removed]",
      "text/plain": [
       "<Figure size 640x480 with 1 Axes>"
      ]
     },
     "metadata": {},
     "output_type": "display_data"
    }
   ],
   "source": [
    "# Daily revenues line plot\n",
    "df_freq_d['y'].plot(title = 'Daily Revenues')\n",
    "plt.show()"
   ]
  },
  {
   "cell_type": "code",
   "execution_count": 16,
   "metadata": {},
   "outputs": [
    {
     "data": {
      "text/html": [
       "<div>\n",
       "<style scoped>\n",
       "    .dataframe tbody tr th:only-of-type {\n",
       "        vertical-align: middle;\n",
       "    }\n",
       "\n",
       "    .dataframe tbody tr th {\n",
       "        vertical-align: top;\n",
       "    }\n",
       "\n",
       "    .dataframe thead th {\n",
       "        text-align: right;\n",
       "    }\n",
       "</style>\n",
       "<table border=\"1\" class=\"dataframe\">\n",
       "  <thead>\n",
       "    <tr style=\"text-align: right;\">\n",
       "      <th></th>\n",
       "      <th>Open</th>\n",
       "      <th>High</th>\n",
       "      <th>Low</th>\n",
       "      <th>y</th>\n",
       "      <th>Adj Close</th>\n",
       "      <th>Volume</th>\n",
       "    </tr>\n",
       "    <tr>\n",
       "      <th>Date</th>\n",
       "      <th></th>\n",
       "      <th></th>\n",
       "      <th></th>\n",
       "      <th></th>\n",
       "      <th></th>\n",
       "      <th></th>\n",
       "    </tr>\n",
       "  </thead>\n",
       "  <tbody>\n",
       "    <tr>\n",
       "      <th>1997-05-15</th>\n",
       "      <td>2.437500</td>\n",
       "      <td>2.500000</td>\n",
       "      <td>1.927083</td>\n",
       "      <td>1.958333</td>\n",
       "      <td>1.958333</td>\n",
       "      <td>72156000.0</td>\n",
       "    </tr>\n",
       "    <tr>\n",
       "      <th>1997-05-16</th>\n",
       "      <td>1.968750</td>\n",
       "      <td>1.979167</td>\n",
       "      <td>1.708333</td>\n",
       "      <td>1.729167</td>\n",
       "      <td>1.729167</td>\n",
       "      <td>14700000.0</td>\n",
       "    </tr>\n",
       "    <tr>\n",
       "      <th>1997-05-17</th>\n",
       "      <td>NaN</td>\n",
       "      <td>NaN</td>\n",
       "      <td>NaN</td>\n",
       "      <td>NaN</td>\n",
       "      <td>NaN</td>\n",
       "      <td>NaN</td>\n",
       "    </tr>\n",
       "    <tr>\n",
       "      <th>1997-05-18</th>\n",
       "      <td>NaN</td>\n",
       "      <td>NaN</td>\n",
       "      <td>NaN</td>\n",
       "      <td>NaN</td>\n",
       "      <td>NaN</td>\n",
       "      <td>NaN</td>\n",
       "    </tr>\n",
       "    <tr>\n",
       "      <th>1997-05-19</th>\n",
       "      <td>1.760417</td>\n",
       "      <td>1.770833</td>\n",
       "      <td>1.625000</td>\n",
       "      <td>1.708333</td>\n",
       "      <td>1.708333</td>\n",
       "      <td>6106800.0</td>\n",
       "    </tr>\n",
       "  </tbody>\n",
       "</table>\n",
       "</div>"
      ],
      "text/plain": [
       "                Open      High       Low         y  Adj Close      Volume\n",
       "Date                                                                     \n",
       "1997-05-15  2.437500  2.500000  1.927083  1.958333   1.958333  72156000.0\n",
       "1997-05-16  1.968750  1.979167  1.708333  1.729167   1.729167  14700000.0\n",
       "1997-05-17       NaN       NaN       NaN       NaN        NaN         NaN\n",
       "1997-05-18       NaN       NaN       NaN       NaN        NaN         NaN\n",
       "1997-05-19  1.760417  1.770833  1.625000  1.708333   1.708333   6106800.0"
      ]
     },
     "execution_count": 16,
     "metadata": {},
     "output_type": "execute_result"
    }
   ],
   "source": [
    "df_freq_d.head()"
   ]
  },
  {
   "cell_type": "code",
   "execution_count": 17,
   "metadata": {},
   "outputs": [
    {
     "data": {
      "image/png": "[encoded data removed]",
      "text/plain": [
       "<Figure size 640x480 with 1 Axes>"
      ]
     },
     "metadata": {},
     "output_type": "display_data"
    }
   ],
   "source": [
    "df_freq_B = df_freq_B.rename(columns = {'Close': 'y'})\n",
    "df_freq_B['y'].plot(title = 'Business Day Revenues')\n",
    "plt.show()"
   ]
  },
  {
   "cell_type": "code",
   "execution_count": 18,
   "metadata": {},
   "outputs": [
    {
     "data": {
      "text/html": [
       "<div>\n",
       "<style scoped>\n",
       "    .dataframe tbody tr th:only-of-type {\n",
       "        vertical-align: middle;\n",
       "    }\n",
       "\n",
       "    .dataframe tbody tr th {\n",
       "        vertical-align: top;\n",
       "    }\n",
       "\n",
       "    .dataframe thead th {\n",
       "        text-align: right;\n",
       "    }\n",
       "</style>\n",
       "<table border=\"1\" class=\"dataframe\">\n",
       "  <thead>\n",
       "    <tr style=\"text-align: right;\">\n",
       "      <th></th>\n",
       "      <th>Open</th>\n",
       "      <th>High</th>\n",
       "      <th>Low</th>\n",
       "      <th>y</th>\n",
       "      <th>Adj Close</th>\n",
       "      <th>Volume</th>\n",
       "    </tr>\n",
       "    <tr>\n",
       "      <th>Date</th>\n",
       "      <th></th>\n",
       "      <th></th>\n",
       "      <th></th>\n",
       "      <th></th>\n",
       "      <th></th>\n",
       "      <th></th>\n",
       "    </tr>\n",
       "  </thead>\n",
       "  <tbody>\n",
       "    <tr>\n",
       "      <th>1997-05-15</th>\n",
       "      <td>2.437500</td>\n",
       "      <td>2.500000</td>\n",
       "      <td>1.927083</td>\n",
       "      <td>1.958333</td>\n",
       "      <td>1.958333</td>\n",
       "      <td>72156000.0</td>\n",
       "    </tr>\n",
       "    <tr>\n",
       "      <th>1997-05-16</th>\n",
       "      <td>1.968750</td>\n",
       "      <td>1.979167</td>\n",
       "      <td>1.708333</td>\n",
       "      <td>1.729167</td>\n",
       "      <td>1.729167</td>\n",
       "      <td>14700000.0</td>\n",
       "    </tr>\n",
       "    <tr>\n",
       "      <th>1997-05-19</th>\n",
       "      <td>1.760417</td>\n",
       "      <td>1.770833</td>\n",
       "      <td>1.625000</td>\n",
       "      <td>1.708333</td>\n",
       "      <td>1.708333</td>\n",
       "      <td>6106800.0</td>\n",
       "    </tr>\n",
       "    <tr>\n",
       "      <th>1997-05-20</th>\n",
       "      <td>1.729167</td>\n",
       "      <td>1.750000</td>\n",
       "      <td>1.635417</td>\n",
       "      <td>1.635417</td>\n",
       "      <td>1.635417</td>\n",
       "      <td>5467200.0</td>\n",
       "    </tr>\n",
       "    <tr>\n",
       "      <th>1997-05-21</th>\n",
       "      <td>1.635417</td>\n",
       "      <td>1.645833</td>\n",
       "      <td>1.375000</td>\n",
       "      <td>1.427083</td>\n",
       "      <td>1.427083</td>\n",
       "      <td>18853200.0</td>\n",
       "    </tr>\n",
       "  </tbody>\n",
       "</table>\n",
       "</div>"
      ],
      "text/plain": [
       "                Open      High       Low         y  Adj Close      Volume\n",
       "Date                                                                     \n",
       "1997-05-15  2.437500  2.500000  1.927083  1.958333   1.958333  72156000.0\n",
       "1997-05-16  1.968750  1.979167  1.708333  1.729167   1.729167  14700000.0\n",
       "1997-05-19  1.760417  1.770833  1.625000  1.708333   1.708333   6106800.0\n",
       "1997-05-20  1.729167  1.750000  1.635417  1.635417   1.635417   5467200.0\n",
       "1997-05-21  1.635417  1.645833  1.375000  1.427083   1.427083  18853200.0"
      ]
     },
     "execution_count": 18,
     "metadata": {},
     "output_type": "execute_result"
    }
   ],
   "source": [
    "df_freq_B.head()"
   ]
  },
  {
   "cell_type": "code",
   "execution_count": 19,
   "metadata": {
    "colab": {
     "base_uri": "https://localhost:8080/",
     "height": 445
    },
    "executionInfo": {
     "elapsed": 589,
     "status": "ok",
     "timestamp": 1706965672495,
     "user": {
      "displayName": "Diogo Resende",
      "userId": "05706604408624562002"
     },
     "user_tz": -60
    },
    "id": "N_U16JVmwNM1",
    "outputId": "da49cf80-3dcc-4a25-a82c-1fdd74bf9b0c"
   },
   "outputs": [
    {
     "data": {
      "image/png": "[encoded data removed]",
      "text/plain": [
       "<Figure size 640x480 with 1 Axes>"
      ]
     },
     "metadata": {},
     "output_type": "display_data"
    }
   ],
   "source": [
    "# month_plot() - To visualize the average value for each month across multiple years in a time series\n",
    "# red lines - Represents the mean value for each month\n",
    "\n",
    "# Plotting the monthly seasonality of revenue values\n",
    "month_plot(df_freq_d['y'].resample('M').mean(),\n",
    "           ylabel = 'Revenue')\n",
    "plt.show()"
   ]
  },
  {
   "cell_type": "code",
   "execution_count": 20,
   "metadata": {},
   "outputs": [
    {
     "data": {
      "image/png": "[encoded data removed]",
      "text/plain": [
       "<Figure size 640x480 with 1 Axes>"
      ]
     },
     "metadata": {},
     "output_type": "display_data"
    }
   ],
   "source": [
    "month_plot(df_freq_B['y'].resample('M').mean(),\n",
    "           ylabel = 'Revenue')\n",
    "plt.show()"
   ]
  },
  {
   "cell_type": "code",
   "execution_count": 21,
   "metadata": {
    "colab": {
     "base_uri": "https://localhost:8080/",
     "height": 445
    },
    "executionInfo": {
     "elapsed": 830,
     "status": "ok",
     "timestamp": 1706965673303,
     "user": {
      "displayName": "Diogo Resende",
      "userId": "05706604408624562002"
     },
     "user_tz": -60
    },
    "id": "wrMEvQykxAnd",
    "outputId": "711dcefd-7d3b-4b5b-970d-50361c733632"
   },
   "outputs": [
    {
     "data": {
      "image/png": "[encoded data removed]",
      "text/plain": [
       "<Figure size 640x480 with 1 Axes>"
      ]
     },
     "metadata": {},
     "output_type": "display_data"
    }
   ],
   "source": [
    "# quarter_plot() - To visualize seasonal patterns at a quarterly level.\n",
    "# Q1 (january, february, march), Q2 (april, may, june), Q3 (july, august, september), Q4 (october, november, december)\n",
    "\n",
    "# Plotting the quarterly seasonality of revenue values\n",
    "# .resample('Q') - to convert the time series data into quarterly seasonality\n",
    "quarter_plot(df_freq_d['y'].resample('Q').mean(),\n",
    "           ylabel = 'Revenue')\n",
    "plt.show()"
   ]
  },
  {
   "cell_type": "code",
   "execution_count": 22,
   "metadata": {},
   "outputs": [
    {
     "data": {
      "image/png": "[encoded data removed]",
      "text/plain": [
       "<Figure size 640x480 with 1 Axes>"
      ]
     },
     "metadata": {},
     "output_type": "display_data"
    }
   ],
   "source": [
    "quarter_plot(df_freq_B['y'].resample('Q').mean(),\n",
    "           ylabel = 'Revenue')\n",
    "plt.show()"
   ]
  },
  {
   "cell_type": "markdown",
   "metadata": {},
   "source": [
    "We can see there is no clear difference between the two, the reason any null values are automatically being ignored"
   ]
  },
  {
   "cell_type": "markdown",
   "metadata": {
    "id": "6wdcLd0LfvST"
   },
   "source": [
    "`seasonal_decompose` - To decompose a time series into its constituent parts to better understand the underlying patterns.\n",
    "\n",
    "components\n",
    "\n",
    "- Trend: The overall direction of the series (increasing, decreasing, or stable).\n",
    "- Seasonal: Repeating patterns at fixed intervals (e.g., daily, weekly, monthly).\n",
    "- Residual: The remaining variation after removing trend and seasonal components."
   ]
  },
  {
   "cell_type": "code",
   "execution_count": 23,
   "metadata": {
    "colab": {
     "base_uri": "https://localhost:8080/",
     "height": 716
    },
    "executionInfo": {
     "elapsed": 2111,
     "status": "ok",
     "timestamp": 1706965675388,
     "user": {
      "displayName": "Diogo Resende",
      "userId": "05706604408624562002"
     },
     "user_tz": -60
    },
    "id": "L0tqOeNZ0Z4u",
    "outputId": "7c4ee81e-c235-43d3-c5da-642c2b9033dd"
   },
   "outputs": [
    {
     "data": {
      "image/png": "[encoded data removed]",
      "text/plain": [
       "<Figure size 1000x800 with 4 Axes>"
      ]
     },
     "metadata": {},
     "output_type": "display_data"
    }
   ],
   "source": [
    "# Seasonal Decomposition Plots for Revenue Data\n",
    "# Multiplicative model type, with daily seasonality (365 days)\n",
    "df = df.rename(columns = {'Close': 'y'})\n",
    "decomposition = seasonal_decompose(df['y'],\n",
    "                                   model = 'mul',\n",
    "                                   period = 365)\n",
    "fig = decomposition.plot()\n",
    "fig.set_size_inches(10,8)\n",
    "plt.show()"
   ]
  },
  {
   "cell_type": "markdown",
   "metadata": {
    "id": "FmyXhA2Bfzf8"
   },
   "source": [
    "Autocorrelation measures the correlation between a time series and a lagged version of itself.\n",
    "\n",
    "Purpose: To identify patterns or repeating cycles in a time series dataset.\n",
    "\n",
    "Interpretation:\n",
    "- Values range from -1 to 1.\n",
    "- 1 indicates perfect positive correlation.\n",
    "- -1 indicates perfect negative correlation.\n",
    "- 0 indicates no correlation.\n",
    "\n",
    "ACF Plot:\n",
    "- X-axis: Lag periods\n",
    "- Y-axis: Correlation coefficient\n",
    "\n",
    "Key Features:\n",
    "- At lag 0, autocorrelation is always 1 (a series is perfectly correlated with itself).\n",
    "- Significant spikes at certain lags indicate repeating patterns.\n"
   ]
  },
  {
   "cell_type": "code",
   "execution_count": 24,
   "metadata": {
    "colab": {
     "base_uri": "https://localhost:8080/",
     "height": 545
    },
    "executionInfo": {
     "elapsed": 909,
     "status": "ok",
     "timestamp": 1706965676279,
     "user": {
      "displayName": "Diogo Resende",
      "userId": "05706604408624562002"
     },
     "user_tz": -60
    },
    "id": "daANxB6I3sSf",
    "outputId": "1014971f-7843-4f80-e4b9-a57c25286414"
   },
   "outputs": [
    {
     "data": {
      "image/png": "[encoded data removed]",
      "text/plain": [
       "<Figure size 1000x600 with 1 Axes>"
      ]
     },
     "metadata": {},
     "output_type": "display_data"
    }
   ],
   "source": [
    "# Plot the autocorrelation (ACF) of revenue values\n",
    "fig, ax = plt.subplots(figsize = (10,6))\n",
    "plot_acf(df['y'], lags = 100, ax = ax)\n",
    "plt.show()"
   ]
  },
  {
   "cell_type": "markdown",
   "metadata": {
    "id": "1PGSBST6f1qr"
   },
   "source": [
    "PACF measures the correlation between a time series and its lag, after removing the effects of all shorter lags.\n",
    "\n",
    "Purpose: To identify the direct relationship between an observation and its lag, without intermediate effects.\n",
    "\n",
    "Main Difference between ACF and PACF:\n",
    "- ACF: Measures overall correlation at each lag, including indirect effects.\n",
    "- PACF: Measures direct correlation at each lag, excluding indirect effects."
   ]
  },
  {
   "cell_type": "code",
   "execution_count": 25,
   "metadata": {
    "colab": {
     "base_uri": "https://localhost:8080/",
     "height": 545
    },
    "executionInfo": {
     "elapsed": 30,
     "status": "ok",
     "timestamp": 1706965676280,
     "user": {
      "displayName": "Diogo Resende",
      "userId": "05706604408624562002"
     },
     "user_tz": -60
    },
    "id": "ilvIfn_H-Q6N",
    "outputId": "feb8deae-8754-484c-ed8f-4f7fd6971240"
   },
   "outputs": [
    {
     "data": {
      "image/png": "[encoded data removed]",
      "text/plain": [
       "<Figure size 1000x600 with 1 Axes>"
      ]
     },
     "metadata": {},
     "output_type": "display_data"
    }
   ],
   "source": [
    "# Plot the partial autocorrelation (PACF) of revenue values\n",
    "fig, ax = plt.subplots(figsize = (10,6))\n",
    "plot_pacf(df['y'], lags = 100, ax = ax)\n",
    "plt.show()"
   ]
  },
  {
   "cell_type": "markdown",
   "metadata": {
    "id": "8KseYH-0fpC_"
   },
   "source": [
    "`.resample()` offset aliases:\n",
    "- B = business day\n",
    "- D = calendar day\n",
    "- W = weekly\n",
    "- M = month end\n",
    "- BM = business month end\n",
    "- MS = month start\n",
    "- BMS = business month start\n",
    "- Q = quarter end\n",
    "- BQ = business quarter end\n",
    "- QS = quarter start\n",
    "- BQS = business quarter start\n",
    "- A = year end\n",
    "- BA = business year end\n",
    "- AS = year start\n",
    "- BAS = business year start\n",
    "- h = hourly\n",
    "- min = minutely\n",
    "- s = secondly\n",
    "- ms = milliseconds\n",
    "- us = microseconds"
   ]
  },
  {
   "cell_type": "markdown",
   "metadata": {
    "id": "jeBOOYf-ihVY"
   },
   "source": [
    "# Stationarity\n",
    "\n",
    "`adfuller` - used to perform the Augmented Dickey-Fuller test, which is a statistical test for testing the stationarity of a time series\n",
    "\n",
    " Stationarity implies that the statistical properties of the time series, such as mean and variance, do not change over time.\n",
    "\n",
    " The test evaluates a null hypothesis that the time series is non-stationary. If the p-value obtained from the test is less than a significance level (commonly 0.05), we reject the null hypothesis and conclude that the time series is stationary."
   ]
  },
  {
   "cell_type": "code",
   "execution_count": 26,
   "metadata": {
    "colab": {
     "base_uri": "https://localhost:8080/"
    },
    "executionInfo": {
     "elapsed": 1095,
     "status": "ok",
     "timestamp": 1706965677350,
     "user": {
      "displayName": "Diogo Resende",
      "userId": "05706604408624562002"
     },
     "user_tz": -60
    },
    "id": "R-stLvfZij6c",
    "outputId": "c6f3a13e-a30a-4d82-acd5-0005ba422294"
   },
   "outputs": [
    {
     "name": "stdout",
     "output_type": "stream",
     "text": [
      "p-value: 1.000000\n",
      "Evidence suggests that the time series is not stationary.\n"
     ]
    }
   ],
   "source": [
    "from statsmodels.tsa.stattools import adfuller\n",
    "\n",
    "# Perform Augmented Dickey-Fuller test\n",
    "# 'result' contains the test statistic and the p-value.\n",
    "result = adfuller(df.y)\n",
    "print('p-value: %f' % result[1])\n",
    "\n",
    "# Interpreting the results\n",
    "if result[1] < 0.05:\n",
    "    print(\"Evidence suggests that the time series is stationary.\")\n",
    "else:\n",
    "    print(\"Evidence suggests that the time series is not stationary.\")\n"
   ]
  },
  {
   "cell_type": "markdown",
   "metadata": {},
   "source": [
    "The reason is because it is highly non-stationary"
   ]
  },
  {
   "cell_type": "code",
   "execution_count": 27,
   "metadata": {
    "colab": {
     "base_uri": "https://localhost:8080/"
    },
    "executionInfo": {
     "elapsed": 38,
     "status": "ok",
     "timestamp": 1706965677351,
     "user": {
      "displayName": "Diogo Resende",
      "userId": "05706604408624562002"
     },
     "user_tz": -60
    },
    "id": "qTpXOYu4jvaN",
    "outputId": "b37e8473-3df5-4c2e-f30a-2cd0c50de056"
   },
   "outputs": [
    {
     "data": {
      "text/plain": [
       "Date\n",
       "1997-05-15           NaN\n",
       "1997-05-16     -0.229167\n",
       "1997-05-19     -0.020833\n",
       "1997-05-20     -0.072917\n",
       "1997-05-21     -0.208333\n",
       "                 ...    \n",
       "2020-07-27     46.300049\n",
       "2020-07-28    -54.879883\n",
       "2020-07-29     33.199951\n",
       "2020-07-30     18.349854\n",
       "2020-07-31    112.800049\n",
       "Name: y_diff, Length: 5842, dtype: float64"
      ]
     },
     "execution_count": 27,
     "metadata": {},
     "output_type": "execute_result"
    }
   ],
   "source": [
    "# Compute the first difference of the 'y' column in DataFrame 'df' and assign it to a new column 'y_diff'.\n",
    "# '.diff()' calculates the difference between consecutive elements along the specified axis (by default axis 0).\n",
    "# 'dropna()' removes any rows with NaN values resulting from differencing.\n",
    "df['y_diff'] = df.y.diff().dropna()\n",
    "df['y_diff']"
   ]
  },
  {
   "cell_type": "code",
   "execution_count": 28,
   "metadata": {
    "colab": {
     "base_uri": "https://localhost:8080/",
     "height": 465
    },
    "executionInfo": {
     "elapsed": 602,
     "status": "ok",
     "timestamp": 1706965677925,
     "user": {
      "displayName": "Diogo Resende",
      "userId": "05706604408624562002"
     },
     "user_tz": -60
    },
    "id": "MbSBjLVOjyZA",
    "outputId": "726154d6-2378-4929-8071-91fe8ca454a3"
   },
   "outputs": [
    {
     "data": {
      "image/png": "[encoded data removed]",
      "text/plain": [
       "<Figure size 1400x700 with 2 Axes>"
      ]
     },
     "metadata": {},
     "output_type": "display_data"
    }
   ],
   "source": [
    "# Plotting the original and differenced series\n",
    "# Set the size of the plot to 14 inches by 7 inches\n",
    "plt.figure(figsize=(14, 7))\n",
    "\n",
    "# Subplot for the original series\n",
    "plt.subplot(2, 1, 1)  # 2 rows, 1 column, 1st subplot\n",
    "plt.plot(df.y, label='Original Series')\n",
    "plt.title('Original Time Series')\n",
    "plt.legend()\n",
    "\n",
    "# Subplot for the differenced series\n",
    "plt.subplot(2, 1, 2)  # 2 rows, 1 column, 2nd subplot\n",
    "plt.plot(df['y_diff'], label='Differenced Series', color='orange')\n",
    "plt.title('Differenced Time Series')\n",
    "plt.legend()\n",
    "\n",
    "# Adjust layout to prevent overlapping of titles and labels\n",
    "plt.tight_layout()\n",
    "plt.show()"
   ]
  },
  {
   "cell_type": "markdown",
   "metadata": {},
   "source": [
    "The biggest difference is at the last part of the data after 2018 when amazon value exceeded 1 Trillion $ "
   ]
  },
  {
   "cell_type": "code",
   "execution_count": 29,
   "metadata": {
    "colab": {
     "base_uri": "https://localhost:8080/"
    },
    "executionInfo": {
     "elapsed": 708,
     "status": "ok",
     "timestamp": 1706965678610,
     "user": {
      "displayName": "Diogo Resende",
      "userId": "05706604408624562002"
     },
     "user_tz": -60
    },
    "id": "jUrdkHkZkEAi",
    "outputId": "d7ec119b-4d28-43d6-ab3d-66d02dc663e4"
   },
   "outputs": [
    {
     "name": "stdout",
     "output_type": "stream",
     "text": [
      "p-value: 0.000000\n",
      "Evidence suggests that the time series is stationary.\n"
     ]
    }
   ],
   "source": [
    "# Perform ADF test without null values\n",
    "# 'result' contains the test statistic and the p-value.\n",
    "result = adfuller(df['y_diff'].dropna())\n",
    "print('p-value: %f' % result[1])\n",
    "\n",
    "# Interpreting the results\n",
    "if result[1] < 0.05:\n",
    "    print(\"Evidence suggests that the time series is stationary.\")\n",
    "else:\n",
    "    print(\"Evidence suggests that the time series is not stationary.\")\n",
    "\n",
    "\n",
    "    "
   ]
  },
  {
   "cell_type": "markdown",
   "metadata": {},
   "source": [
    "The reason is because it is highly stationary"
   ]
  },
  {
   "cell_type": "markdown",
   "metadata": {
    "id": "PAl2ZB8Sswq_"
   },
   "source": [
    "# ARIMA Model"
   ]
  },
  {
   "cell_type": "markdown",
   "metadata": {},
   "source": [
    "We took 600 days for testing which are around 10% of the data"
   ]
  },
  {
   "cell_type": "code",
   "execution_count": 30,
   "metadata": {
    "colab": {
     "base_uri": "https://localhost:8080/",
     "height": 1000
    },
    "executionInfo": {
     "elapsed": 11,
     "status": "ok",
     "timestamp": 1706963362250,
     "user": {
      "displayName": "Diogo Resende",
      "userId": "05706604408624562002"
     },
     "user_tz": -60
    },
    "id": "UCFtcxXItDW7",
    "outputId": "2bfedb8e-88de-4385-c086-9960da8fc2ab",
    "scrolled": true
   },
   "outputs": [
    {
     "data": {
      "text/html": [
       "<div>\n",
       "<style scoped>\n",
       "    .dataframe tbody tr th:only-of-type {\n",
       "        vertical-align: middle;\n",
       "    }\n",
       "\n",
       "    .dataframe tbody tr th {\n",
       "        vertical-align: top;\n",
       "    }\n",
       "\n",
       "    .dataframe thead th {\n",
       "        text-align: right;\n",
       "    }\n",
       "</style>\n",
       "<table border=\"1\" class=\"dataframe\">\n",
       "  <thead>\n",
       "    <tr style=\"text-align: right;\">\n",
       "      <th></th>\n",
       "      <th>Open</th>\n",
       "      <th>High</th>\n",
       "      <th>Low</th>\n",
       "      <th>y</th>\n",
       "      <th>Adj Close</th>\n",
       "      <th>Volume</th>\n",
       "      <th>y_diff</th>\n",
       "    </tr>\n",
       "    <tr>\n",
       "      <th>Date</th>\n",
       "      <th></th>\n",
       "      <th></th>\n",
       "      <th></th>\n",
       "      <th></th>\n",
       "      <th></th>\n",
       "      <th></th>\n",
       "      <th></th>\n",
       "    </tr>\n",
       "  </thead>\n",
       "  <tbody>\n",
       "    <tr>\n",
       "      <th>2018-03-15</th>\n",
       "      <td>1595.000000</td>\n",
       "      <td>1596.910034</td>\n",
       "      <td>1578.109985</td>\n",
       "      <td>1582.319946</td>\n",
       "      <td>1582.319946</td>\n",
       "      <td>4069700</td>\n",
       "      <td>-8.680054</td>\n",
       "    </tr>\n",
       "    <tr>\n",
       "      <th>2018-03-16</th>\n",
       "      <td>1583.449951</td>\n",
       "      <td>1589.439941</td>\n",
       "      <td>1567.500000</td>\n",
       "      <td>1571.680054</td>\n",
       "      <td>1571.680054</td>\n",
       "      <td>5425000</td>\n",
       "      <td>-10.639893</td>\n",
       "    </tr>\n",
       "    <tr>\n",
       "      <th>2018-03-19</th>\n",
       "      <td>1554.530029</td>\n",
       "      <td>1561.660034</td>\n",
       "      <td>1525.349976</td>\n",
       "      <td>1544.930054</td>\n",
       "      <td>1544.930054</td>\n",
       "      <td>6580800</td>\n",
       "      <td>-26.750000</td>\n",
       "    </tr>\n",
       "    <tr>\n",
       "      <th>2018-03-20</th>\n",
       "      <td>1550.339966</td>\n",
       "      <td>1587.000000</td>\n",
       "      <td>1545.410034</td>\n",
       "      <td>1586.510010</td>\n",
       "      <td>1586.510010</td>\n",
       "      <td>4581600</td>\n",
       "      <td>41.579956</td>\n",
       "    </tr>\n",
       "    <tr>\n",
       "      <th>2018-03-21</th>\n",
       "      <td>1586.449951</td>\n",
       "      <td>1590.000000</td>\n",
       "      <td>1563.170044</td>\n",
       "      <td>1581.859985</td>\n",
       "      <td>1581.859985</td>\n",
       "      <td>4750800</td>\n",
       "      <td>-4.650024</td>\n",
       "    </tr>\n",
       "    <tr>\n",
       "      <th>...</th>\n",
       "      <td>...</td>\n",
       "      <td>...</td>\n",
       "      <td>...</td>\n",
       "      <td>...</td>\n",
       "      <td>...</td>\n",
       "      <td>...</td>\n",
       "      <td>...</td>\n",
       "    </tr>\n",
       "    <tr>\n",
       "      <th>2020-07-27</th>\n",
       "      <td>3062.000000</td>\n",
       "      <td>3098.000000</td>\n",
       "      <td>3015.770020</td>\n",
       "      <td>3055.209961</td>\n",
       "      <td>3055.209961</td>\n",
       "      <td>4170500</td>\n",
       "      <td>46.300049</td>\n",
       "    </tr>\n",
       "    <tr>\n",
       "      <th>2020-07-28</th>\n",
       "      <td>3054.270020</td>\n",
       "      <td>3077.090088</td>\n",
       "      <td>2995.760010</td>\n",
       "      <td>3000.330078</td>\n",
       "      <td>3000.330078</td>\n",
       "      <td>3126700</td>\n",
       "      <td>-54.879883</td>\n",
       "    </tr>\n",
       "    <tr>\n",
       "      <th>2020-07-29</th>\n",
       "      <td>3030.989990</td>\n",
       "      <td>3039.159912</td>\n",
       "      <td>2996.770020</td>\n",
       "      <td>3033.530029</td>\n",
       "      <td>3033.530029</td>\n",
       "      <td>2974100</td>\n",
       "      <td>33.199951</td>\n",
       "    </tr>\n",
       "    <tr>\n",
       "      <th>2020-07-30</th>\n",
       "      <td>3014.000000</td>\n",
       "      <td>3092.000000</td>\n",
       "      <td>3005.000000</td>\n",
       "      <td>3051.879883</td>\n",
       "      <td>3051.879883</td>\n",
       "      <td>6128300</td>\n",
       "      <td>18.349854</td>\n",
       "    </tr>\n",
       "    <tr>\n",
       "      <th>2020-07-31</th>\n",
       "      <td>3244.000000</td>\n",
       "      <td>3246.820068</td>\n",
       "      <td>3151.000000</td>\n",
       "      <td>3164.679932</td>\n",
       "      <td>3164.679932</td>\n",
       "      <td>8085500</td>\n",
       "      <td>112.800049</td>\n",
       "    </tr>\n",
       "  </tbody>\n",
       "</table>\n",
       "<p>600 rows × 7 columns</p>\n",
       "</div>"
      ],
      "text/plain": [
       "                   Open         High          Low            y    Adj Close  \\\n",
       "Date                                                                          \n",
       "2018-03-15  1595.000000  1596.910034  1578.109985  1582.319946  1582.319946   \n",
       "2018-03-16  1583.449951  1589.439941  1567.500000  1571.680054  1571.680054   \n",
       "2018-03-19  1554.530029  1561.660034  1525.349976  1544.930054  1544.930054   \n",
       "2018-03-20  1550.339966  1587.000000  1545.410034  1586.510010  1586.510010   \n",
       "2018-03-21  1586.449951  1590.000000  1563.170044  1581.859985  1581.859985   \n",
       "...                 ...          ...          ...          ...          ...   \n",
       "2020-07-27  3062.000000  3098.000000  3015.770020  3055.209961  3055.209961   \n",
       "2020-07-28  3054.270020  3077.090088  2995.760010  3000.330078  3000.330078   \n",
       "2020-07-29  3030.989990  3039.159912  2996.770020  3033.530029  3033.530029   \n",
       "2020-07-30  3014.000000  3092.000000  3005.000000  3051.879883  3051.879883   \n",
       "2020-07-31  3244.000000  3246.820068  3151.000000  3164.679932  3164.679932   \n",
       "\n",
       "             Volume      y_diff  \n",
       "Date                             \n",
       "2018-03-15  4069700   -8.680054  \n",
       "2018-03-16  5425000  -10.639893  \n",
       "2018-03-19  6580800  -26.750000  \n",
       "2018-03-20  4581600   41.579956  \n",
       "2018-03-21  4750800   -4.650024  \n",
       "...             ...         ...  \n",
       "2020-07-27  4170500   46.300049  \n",
       "2020-07-28  3126700  -54.879883  \n",
       "2020-07-29  2974100   33.199951  \n",
       "2020-07-30  6128300   18.349854  \n",
       "2020-07-31  8085500  112.800049  \n",
       "\n",
       "[600 rows x 7 columns]"
      ]
     },
     "execution_count": 30,
     "metadata": {},
     "output_type": "execute_result"
    }
   ],
   "source": [
    "# Split the Data into training and test\n",
    "test_days = 600 # Number of days to reserve for testing\n",
    "train, test = df.iloc[:-test_days], df.iloc[-test_days:]\n",
    "test"
   ]
  },
  {
   "cell_type": "code",
   "execution_count": 31,
   "metadata": {
    "colab": {
     "base_uri": "https://localhost:8080/",
     "height": 545
    },
    "executionInfo": {
     "elapsed": 69557,
     "status": "ok",
     "timestamp": 1706963432167,
     "user": {
      "displayName": "Diogo Resende",
      "userId": "05706604408624562002"
     },
     "user_tz": -60
    },
    "id": "-KBH_JS4togv",
    "outputId": "be973e37-626a-4ffb-8ade-34e5713d3899",
    "scrolled": true
   },
   "outputs": [
    {
     "name": "stderr",
     "output_type": "stream",
     "text": [
      "C:\\Users\\marha\\anaconda3\\envs\\tf_gpu\\lib\\site-packages\\sklearn\\utils\\deprecation.py:151: FutureWarning: 'force_all_finite' was renamed to 'ensure_all_finite' in 1.6 and will be removed in 1.8.\n",
      "  warnings.warn(\n",
      "C:\\Users\\marha\\anaconda3\\envs\\tf_gpu\\lib\\site-packages\\sklearn\\utils\\deprecation.py:151: FutureWarning: 'force_all_finite' was renamed to 'ensure_all_finite' in 1.6 and will be removed in 1.8.\n",
      "  warnings.warn(\n",
      "C:\\Users\\marha\\anaconda3\\envs\\tf_gpu\\lib\\site-packages\\sklearn\\utils\\deprecation.py:151: FutureWarning: 'force_all_finite' was renamed to 'ensure_all_finite' in 1.6 and will be removed in 1.8.\n",
      "  warnings.warn(\n",
      "C:\\Users\\marha\\anaconda3\\envs\\tf_gpu\\lib\\site-packages\\sklearn\\utils\\deprecation.py:151: FutureWarning: 'force_all_finite' was renamed to 'ensure_all_finite' in 1.6 and will be removed in 1.8.\n",
      "  warnings.warn(\n",
      "C:\\Users\\marha\\anaconda3\\envs\\tf_gpu\\lib\\site-packages\\sklearn\\utils\\deprecation.py:151: FutureWarning: 'force_all_finite' was renamed to 'ensure_all_finite' in 1.6 and will be removed in 1.8.\n",
      "  warnings.warn(\n",
      "C:\\Users\\marha\\anaconda3\\envs\\tf_gpu\\lib\\site-packages\\sklearn\\utils\\deprecation.py:151: FutureWarning: 'force_all_finite' was renamed to 'ensure_all_finite' in 1.6 and will be removed in 1.8.\n",
      "  warnings.warn(\n",
      "C:\\Users\\marha\\anaconda3\\envs\\tf_gpu\\lib\\site-packages\\sklearn\\utils\\deprecation.py:151: FutureWarning: 'force_all_finite' was renamed to 'ensure_all_finite' in 1.6 and will be removed in 1.8.\n",
      "  warnings.warn(\n",
      "C:\\Users\\marha\\anaconda3\\envs\\tf_gpu\\lib\\site-packages\\sklearn\\utils\\deprecation.py:151: FutureWarning: 'force_all_finite' was renamed to 'ensure_all_finite' in 1.6 and will be removed in 1.8.\n",
      "  warnings.warn(\n",
      "C:\\Users\\marha\\anaconda3\\envs\\tf_gpu\\lib\\site-packages\\sklearn\\utils\\deprecation.py:151: FutureWarning: 'force_all_finite' was renamed to 'ensure_all_finite' in 1.6 and will be removed in 1.8.\n",
      "  warnings.warn(\n",
      "C:\\Users\\marha\\anaconda3\\envs\\tf_gpu\\lib\\site-packages\\sklearn\\utils\\deprecation.py:151: FutureWarning: 'force_all_finite' was renamed to 'ensure_all_finite' in 1.6 and will be removed in 1.8.\n",
      "  warnings.warn(\n",
      "C:\\Users\\marha\\anaconda3\\envs\\tf_gpu\\lib\\site-packages\\sklearn\\utils\\deprecation.py:151: FutureWarning: 'force_all_finite' was renamed to 'ensure_all_finite' in 1.6 and will be removed in 1.8.\n",
      "  warnings.warn(\n",
      "C:\\Users\\marha\\anaconda3\\envs\\tf_gpu\\lib\\site-packages\\sklearn\\utils\\deprecation.py:151: FutureWarning: 'force_all_finite' was renamed to 'ensure_all_finite' in 1.6 and will be removed in 1.8.\n",
      "  warnings.warn(\n",
      "C:\\Users\\marha\\anaconda3\\envs\\tf_gpu\\lib\\site-packages\\sklearn\\utils\\deprecation.py:151: FutureWarning: 'force_all_finite' was renamed to 'ensure_all_finite' in 1.6 and will be removed in 1.8.\n",
      "  warnings.warn(\n",
      "C:\\Users\\marha\\anaconda3\\envs\\tf_gpu\\lib\\site-packages\\sklearn\\utils\\deprecation.py:151: FutureWarning: 'force_all_finite' was renamed to 'ensure_all_finite' in 1.6 and will be removed in 1.8.\n",
      "  warnings.warn(\n",
      "C:\\Users\\marha\\anaconda3\\envs\\tf_gpu\\lib\\site-packages\\sklearn\\utils\\deprecation.py:151: FutureWarning: 'force_all_finite' was renamed to 'ensure_all_finite' in 1.6 and will be removed in 1.8.\n",
      "  warnings.warn(\n",
      "C:\\Users\\marha\\anaconda3\\envs\\tf_gpu\\lib\\site-packages\\sklearn\\utils\\deprecation.py:151: FutureWarning: 'force_all_finite' was renamed to 'ensure_all_finite' in 1.6 and will be removed in 1.8.\n",
      "  warnings.warn(\n",
      "C:\\Users\\marha\\anaconda3\\envs\\tf_gpu\\lib\\site-packages\\sklearn\\utils\\deprecation.py:151: FutureWarning: 'force_all_finite' was renamed to 'ensure_all_finite' in 1.6 and will be removed in 1.8.\n",
      "  warnings.warn(\n",
      "C:\\Users\\marha\\anaconda3\\envs\\tf_gpu\\lib\\site-packages\\sklearn\\utils\\deprecation.py:151: FutureWarning: 'force_all_finite' was renamed to 'ensure_all_finite' in 1.6 and will be removed in 1.8.\n",
      "  warnings.warn(\n",
      "C:\\Users\\marha\\anaconda3\\envs\\tf_gpu\\lib\\site-packages\\sklearn\\utils\\deprecation.py:151: FutureWarning: 'force_all_finite' was renamed to 'ensure_all_finite' in 1.6 and will be removed in 1.8.\n",
      "  warnings.warn(\n",
      "C:\\Users\\marha\\anaconda3\\envs\\tf_gpu\\lib\\site-packages\\sklearn\\utils\\deprecation.py:151: FutureWarning: 'force_all_finite' was renamed to 'ensure_all_finite' in 1.6 and will be removed in 1.8.\n",
      "  warnings.warn(\n",
      "C:\\Users\\marha\\anaconda3\\envs\\tf_gpu\\lib\\site-packages\\sklearn\\utils\\deprecation.py:151: FutureWarning: 'force_all_finite' was renamed to 'ensure_all_finite' in 1.6 and will be removed in 1.8.\n",
      "  warnings.warn(\n",
      "C:\\Users\\marha\\anaconda3\\envs\\tf_gpu\\lib\\site-packages\\sklearn\\utils\\deprecation.py:151: FutureWarning: 'force_all_finite' was renamed to 'ensure_all_finite' in 1.6 and will be removed in 1.8.\n",
      "  warnings.warn(\n",
      "C:\\Users\\marha\\anaconda3\\envs\\tf_gpu\\lib\\site-packages\\sklearn\\utils\\deprecation.py:151: FutureWarning: 'force_all_finite' was renamed to 'ensure_all_finite' in 1.6 and will be removed in 1.8.\n",
      "  warnings.warn(\n",
      "C:\\Users\\marha\\anaconda3\\envs\\tf_gpu\\lib\\site-packages\\sklearn\\utils\\deprecation.py:151: FutureWarning: 'force_all_finite' was renamed to 'ensure_all_finite' in 1.6 and will be removed in 1.8.\n",
      "  warnings.warn(\n",
      "C:\\Users\\marha\\anaconda3\\envs\\tf_gpu\\lib\\site-packages\\sklearn\\utils\\deprecation.py:151: FutureWarning: 'force_all_finite' was renamed to 'ensure_all_finite' in 1.6 and will be removed in 1.8.\n",
      "  warnings.warn(\n",
      "C:\\Users\\marha\\anaconda3\\envs\\tf_gpu\\lib\\site-packages\\sklearn\\utils\\deprecation.py:151: FutureWarning: 'force_all_finite' was renamed to 'ensure_all_finite' in 1.6 and will be removed in 1.8.\n",
      "  warnings.warn(\n"
     ]
    },
    {
     "data": {
      "text/html": [
       "<table class=\"simpletable\">\n",
       "<caption>SARIMAX Results</caption>\n",
       "<tr>\n",
       "  <th>Dep. Variable:</th>           <td>y</td>        <th>  No. Observations:  </th>    <td>5242</td>   \n",
       "</tr>\n",
       "<tr>\n",
       "  <th>Model:</th>           <td>SARIMAX(5, 2, 0)</td> <th>  Log Likelihood     </th> <td>-17039.849</td>\n",
       "</tr>\n",
       "<tr>\n",
       "  <th>Date:</th>            <td>Fri, 27 Jun 2025</td> <th>  AIC                </th>  <td>34091.699</td>\n",
       "</tr>\n",
       "<tr>\n",
       "  <th>Time:</th>                <td>01:38:34</td>     <th>  BIC                </th>  <td>34131.083</td>\n",
       "</tr>\n",
       "<tr>\n",
       "  <th>Sample:</th>                  <td>0</td>        <th>  HQIC               </th>  <td>34105.470</td>\n",
       "</tr>\n",
       "<tr>\n",
       "  <th></th>                      <td> - 5242</td>     <th>                     </th>      <td> </td>    \n",
       "</tr>\n",
       "<tr>\n",
       "  <th>Covariance Type:</th>        <td>opg</td>       <th>                     </th>      <td> </td>    \n",
       "</tr>\n",
       "</table>\n",
       "<table class=\"simpletable\">\n",
       "<tr>\n",
       "     <td></td>       <th>coef</th>     <th>std err</th>      <th>z</th>      <th>P>|z|</th>  <th>[0.025</th>    <th>0.975]</th>  \n",
       "</tr>\n",
       "<tr>\n",
       "  <th>ar.L1</th>  <td>   -0.8139</td> <td>    0.005</td> <td> -151.623</td> <td> 0.000</td> <td>   -0.824</td> <td>   -0.803</td>\n",
       "</tr>\n",
       "<tr>\n",
       "  <th>ar.L2</th>  <td>   -0.6549</td> <td>    0.007</td> <td>  -97.438</td> <td> 0.000</td> <td>   -0.668</td> <td>   -0.642</td>\n",
       "</tr>\n",
       "<tr>\n",
       "  <th>ar.L3</th>  <td>   -0.5318</td> <td>    0.007</td> <td>  -78.499</td> <td> 0.000</td> <td>   -0.545</td> <td>   -0.518</td>\n",
       "</tr>\n",
       "<tr>\n",
       "  <th>ar.L4</th>  <td>   -0.4009</td> <td>    0.007</td> <td>  -55.568</td> <td> 0.000</td> <td>   -0.415</td> <td>   -0.387</td>\n",
       "</tr>\n",
       "<tr>\n",
       "  <th>ar.L5</th>  <td>   -0.1899</td> <td>    0.005</td> <td>  -35.694</td> <td> 0.000</td> <td>   -0.200</td> <td>   -0.179</td>\n",
       "</tr>\n",
       "<tr>\n",
       "  <th>sigma2</th> <td>   39.0818</td> <td>    0.141</td> <td>  276.652</td> <td> 0.000</td> <td>   38.805</td> <td>   39.359</td>\n",
       "</tr>\n",
       "</table>\n",
       "<table class=\"simpletable\">\n",
       "<tr>\n",
       "  <th>Ljung-Box (L1) (Q):</th>     <td>1.96</td>  <th>  Jarque-Bera (JB):  </th> <td>766377.81</td>\n",
       "</tr>\n",
       "<tr>\n",
       "  <th>Prob(Q):</th>                <td>0.16</td>  <th>  Prob(JB):          </th>   <td>0.00</td>   \n",
       "</tr>\n",
       "<tr>\n",
       "  <th>Heteroskedasticity (H):</th> <td>17.94</td> <th>  Skew:              </th>   <td>1.71</td>   \n",
       "</tr>\n",
       "<tr>\n",
       "  <th>Prob(H) (two-sided):</th>    <td>0.00</td>  <th>  Kurtosis:          </th>   <td>62.15</td>  \n",
       "</tr>\n",
       "</table><br/><br/>Warnings:<br/>[1] Covariance matrix calculated using the outer product of gradients (complex-step)."
      ],
      "text/latex": [
       "\\begin{center}\n",
       "\\begin{tabular}{lclc}\n",
       "\\toprule\n",
       "\\textbf{Dep. Variable:}          &        y         & \\textbf{  No. Observations:  } &    5242     \\\\\n",
       "\\textbf{Model:}                  & SARIMAX(5, 2, 0) & \\textbf{  Log Likelihood     } & -17039.849  \\\\\n",
       "\\textbf{Date:}                   & Fri, 27 Jun 2025 & \\textbf{  AIC                } & 34091.699   \\\\\n",
       "\\textbf{Time:}                   &     01:38:34     & \\textbf{  BIC                } & 34131.083   \\\\\n",
       "\\textbf{Sample:}                 &        0         & \\textbf{  HQIC               } & 34105.470   \\\\\n",
       "\\textbf{}                        &      - 5242      & \\textbf{                     } &             \\\\\n",
       "\\textbf{Covariance Type:}        &       opg        & \\textbf{                     } &             \\\\\n",
       "\\bottomrule\n",
       "\\end{tabular}\n",
       "\\begin{tabular}{lcccccc}\n",
       "                & \\textbf{coef} & \\textbf{std err} & \\textbf{z} & \\textbf{P$> |$z$|$} & \\textbf{[0.025} & \\textbf{0.975]}  \\\\\n",
       "\\midrule\n",
       "\\textbf{ar.L1}  &      -0.8139  &        0.005     &  -151.623  &         0.000        &       -0.824    &       -0.803     \\\\\n",
       "\\textbf{ar.L2}  &      -0.6549  &        0.007     &   -97.438  &         0.000        &       -0.668    &       -0.642     \\\\\n",
       "\\textbf{ar.L3}  &      -0.5318  &        0.007     &   -78.499  &         0.000        &       -0.545    &       -0.518     \\\\\n",
       "\\textbf{ar.L4}  &      -0.4009  &        0.007     &   -55.568  &         0.000        &       -0.415    &       -0.387     \\\\\n",
       "\\textbf{ar.L5}  &      -0.1899  &        0.005     &   -35.694  &         0.000        &       -0.200    &       -0.179     \\\\\n",
       "\\textbf{sigma2} &      39.0818  &        0.141     &   276.652  &         0.000        &       38.805    &       39.359     \\\\\n",
       "\\bottomrule\n",
       "\\end{tabular}\n",
       "\\begin{tabular}{lclc}\n",
       "\\textbf{Ljung-Box (L1) (Q):}     &  1.96 & \\textbf{  Jarque-Bera (JB):  } & 766377.81  \\\\\n",
       "\\textbf{Prob(Q):}                &  0.16 & \\textbf{  Prob(JB):          } &    0.00    \\\\\n",
       "\\textbf{Heteroskedasticity (H):} & 17.94 & \\textbf{  Skew:              } &    1.71    \\\\\n",
       "\\textbf{Prob(H) (two-sided):}    &  0.00 & \\textbf{  Kurtosis:          } &   62.15    \\\\\n",
       "\\bottomrule\n",
       "\\end{tabular}\n",
       "%\\caption{SARIMAX Results}\n",
       "\\end{center}\n",
       "\n",
       "Warnings: \\newline\n",
       " [1] Covariance matrix calculated using the outer product of gradients (complex-step)."
      ],
      "text/plain": [
       "<class 'statsmodels.iolib.summary.Summary'>\n",
       "\"\"\"\n",
       "                               SARIMAX Results                                \n",
       "==============================================================================\n",
       "Dep. Variable:                      y   No. Observations:                 5242\n",
       "Model:               SARIMAX(5, 2, 0)   Log Likelihood              -17039.849\n",
       "Date:                Fri, 27 Jun 2025   AIC                          34091.699\n",
       "Time:                        01:38:34   BIC                          34131.083\n",
       "Sample:                             0   HQIC                         34105.470\n",
       "                               - 5242                                         \n",
       "Covariance Type:                  opg                                         \n",
       "==============================================================================\n",
       "                 coef    std err          z      P>|z|      [0.025      0.975]\n",
       "------------------------------------------------------------------------------\n",
       "ar.L1         -0.8139      0.005   -151.623      0.000      -0.824      -0.803\n",
       "ar.L2         -0.6549      0.007    -97.438      0.000      -0.668      -0.642\n",
       "ar.L3         -0.5318      0.007    -78.499      0.000      -0.545      -0.518\n",
       "ar.L4         -0.4009      0.007    -55.568      0.000      -0.415      -0.387\n",
       "ar.L5         -0.1899      0.005    -35.694      0.000      -0.200      -0.179\n",
       "sigma2        39.0818      0.141    276.652      0.000      38.805      39.359\n",
       "===================================================================================\n",
       "Ljung-Box (L1) (Q):                   1.96   Jarque-Bera (JB):            766377.81\n",
       "Prob(Q):                              0.16   Prob(JB):                         0.00\n",
       "Heteroskedasticity (H):              17.94   Skew:                             1.71\n",
       "Prob(H) (two-sided):                  0.00   Kurtosis:                        62.15\n",
       "===================================================================================\n",
       "\n",
       "Warnings:\n",
       "[1] Covariance matrix calculated using the outer product of gradients (complex-step).\n",
       "\"\"\""
      ]
     },
     "execution_count": 31,
     "metadata": {},
     "output_type": "execute_result"
    }
   ],
   "source": [
    "# auto_arima() from pmdarima - used to automatically select the optimal parameters for an ARIMA model based on the provided time series data.\n",
    "# 'seasonal=False' indicates that the model should not consider seasonal components.\n",
    "model = auto_arima(train['y'],\n",
    "                   seasonal = False)\n",
    "model.summary()"
   ]
  },
  {
   "cell_type": "code",
   "execution_count": 32,
   "metadata": {
    "colab": {
     "base_uri": "https://localhost:8080/"
    },
    "executionInfo": {
     "elapsed": 7,
     "status": "ok",
     "timestamp": 1706963432167,
     "user": {
      "displayName": "Diogo Resende",
      "userId": "05706604408624562002"
     },
     "user_tz": -60
    },
    "id": "EcaD6bGJud9m",
    "outputId": "d742bb62-d87b-4a02-9527-dcd340f84b60",
    "scrolled": true
   },
   "outputs": [
    {
     "name": "stderr",
     "output_type": "stream",
     "text": [
      "C:\\Users\\marha\\anaconda3\\envs\\tf_gpu\\lib\\site-packages\\statsmodels\\tsa\\base\\tsa_model.py:837: ValueWarning: No supported index is available. Prediction results will be given with an integer index beginning at `start`.\n",
      "  return get_prediction_index(\n",
      "C:\\Users\\marha\\anaconda3\\envs\\tf_gpu\\lib\\site-packages\\statsmodels\\tsa\\base\\tsa_model.py:837: FutureWarning: No supported index is available. In the next version, calling this method in a model without a supported index will result in an exception.\n",
      "  return get_prediction_index(\n",
      "C:\\Users\\marha\\anaconda3\\envs\\tf_gpu\\lib\\site-packages\\sklearn\\utils\\deprecation.py:151: FutureWarning: 'force_all_finite' was renamed to 'ensure_all_finite' in 1.6 and will be removed in 1.8.\n",
      "  warnings.warn(\n"
     ]
    },
    {
     "data": {
      "text/plain": [
       "5242    1598.686688\n",
       "5243    1608.865770\n",
       "5244    1620.239542\n",
       "5245    1626.839813\n",
       "5246    1630.791925\n",
       "           ...     \n",
       "5837    5877.727000\n",
       "5838    5884.911673\n",
       "5839    5892.096346\n",
       "5840    5899.281019\n",
       "5841    5906.465693\n",
       "Length: 600, dtype: float64"
      ]
     },
     "execution_count": 32,
     "metadata": {},
     "output_type": "execute_result"
    }
   ],
   "source": [
    "# Use the fitted ARIMA model to forecast future values.\n",
    "# set the number of periods to forecast to the length of 'test'\n",
    "predictions_arima = model.predict(n_periods = len(test))\n",
    "predictions_arima"
   ]
  },
  {
   "cell_type": "code",
   "execution_count": 33,
   "metadata": {
    "colab": {
     "base_uri": "https://localhost:8080/",
     "height": 445
    },
    "executionInfo": {
     "elapsed": 973,
     "status": "ok",
     "timestamp": 1706963433136,
     "user": {
      "displayName": "Diogo Resende",
      "userId": "05706604408624562002"
     },
     "user_tz": -60
    },
    "id": "oRjeZkb2u1jD",
    "outputId": "ad882561-b15b-4c28-a720-12b77bf821eb"
   },
   "outputs": [
    {
     "data": {
      "image/png": "[encoded data removed]",
      "text/plain": [
       "<Figure size 1000x400 with 1 Axes>"
      ]
     },
     "metadata": {},
     "output_type": "display_data"
    },
    {
     "name": "stdout",
     "output_type": "stream",
     "text": [
      "The MAE is 1868.10\n",
      "The RMSE is 4570011.97\n",
      "The MAPE is 97.07 %\n"
     ]
    }
   ],
   "source": [
    "# Model assessment\n",
    "model_assessment(train['y']['1998':], test['y'], predictions_arima, \"ARIMA\")"
   ]
  },
  {
   "cell_type": "markdown",
   "metadata": {},
   "source": [
    "The reason of this strange graph, that the index column was gone so matplotlib assigned it from 1984 because he did this calculation (1970 + 5000 days ≈ 1984) so to prevent it we do the following"
   ]
  },
  {
   "cell_type": "code",
   "execution_count": 34,
   "metadata": {},
   "outputs": [
    {
     "name": "stderr",
     "output_type": "stream",
     "text": [
      "C:\\Users\\marha\\anaconda3\\envs\\tf_gpu\\lib\\site-packages\\statsmodels\\tsa\\base\\tsa_model.py:837: ValueWarning: No supported index is available. Prediction results will be given with an integer index beginning at `start`.\n",
      "  return get_prediction_index(\n",
      "C:\\Users\\marha\\anaconda3\\envs\\tf_gpu\\lib\\site-packages\\statsmodels\\tsa\\base\\tsa_model.py:837: FutureWarning: No supported index is available. In the next version, calling this method in a model without a supported index will result in an exception.\n",
      "  return get_prediction_index(\n",
      "C:\\Users\\marha\\anaconda3\\envs\\tf_gpu\\lib\\site-packages\\sklearn\\utils\\deprecation.py:151: FutureWarning: 'force_all_finite' was renamed to 'ensure_all_finite' in 1.6 and will be removed in 1.8.\n",
      "  warnings.warn(\n"
     ]
    },
    {
     "data": {
      "text/plain": [
       "Date\n",
       "2018-03-15    1598.686688\n",
       "2018-03-16    1608.865770\n",
       "2018-03-19    1620.239542\n",
       "2018-03-20    1626.839813\n",
       "2018-03-21    1630.791925\n",
       "                 ...     \n",
       "2020-07-27    5877.727000\n",
       "2020-07-28    5884.911673\n",
       "2020-07-29    5892.096346\n",
       "2020-07-30    5899.281019\n",
       "2020-07-31    5906.465693\n",
       "Length: 600, dtype: float64"
      ]
     },
     "execution_count": 34,
     "metadata": {},
     "output_type": "execute_result"
    }
   ],
   "source": [
    "predictions_arima = model.predict(n_periods=len(test))\n",
    "predictions_arima.index = test.index\n",
    "predictions_arima"
   ]
  },
  {
   "cell_type": "code",
   "execution_count": 35,
   "metadata": {},
   "outputs": [
    {
     "data": {
      "image/png": "[encoded data removed]",
      "text/plain": [
       "<Figure size 1000x400 with 1 Axes>"
      ]
     },
     "metadata": {},
     "output_type": "display_data"
    },
    {
     "name": "stdout",
     "output_type": "stream",
     "text": [
      "The MAE is 1868.10\n",
      "The RMSE is 4570011.97\n",
      "The MAPE is 97.07 %\n"
     ]
    }
   ],
   "source": [
    "model_assessment(train['y']['1998':], test['y'], predictions_arima, \"ARIMA\")"
   ]
  },
  {
   "cell_type": "markdown",
   "metadata": {},
   "source": [
    "ARIMA has captured the upward trend "
   ]
  },
  {
   "cell_type": "code",
   "execution_count": 36,
   "metadata": {},
   "outputs": [
    {
     "data": {
      "text/html": [
       "<div>\n",
       "<style scoped>\n",
       "    .dataframe tbody tr th:only-of-type {\n",
       "        vertical-align: middle;\n",
       "    }\n",
       "\n",
       "    .dataframe tbody tr th {\n",
       "        vertical-align: top;\n",
       "    }\n",
       "\n",
       "    .dataframe thead th {\n",
       "        text-align: right;\n",
       "    }\n",
       "</style>\n",
       "<table border=\"1\" class=\"dataframe\">\n",
       "  <thead>\n",
       "    <tr style=\"text-align: right;\">\n",
       "      <th></th>\n",
       "      <th>Open</th>\n",
       "      <th>High</th>\n",
       "      <th>Low</th>\n",
       "      <th>y</th>\n",
       "      <th>Adj Close</th>\n",
       "      <th>Volume</th>\n",
       "      <th>y_diff</th>\n",
       "    </tr>\n",
       "    <tr>\n",
       "      <th>Date</th>\n",
       "      <th></th>\n",
       "      <th></th>\n",
       "      <th></th>\n",
       "      <th></th>\n",
       "      <th></th>\n",
       "      <th></th>\n",
       "      <th></th>\n",
       "    </tr>\n",
       "  </thead>\n",
       "  <tbody>\n",
       "    <tr>\n",
       "      <th>1997-05-15</th>\n",
       "      <td>2.437500</td>\n",
       "      <td>2.500000</td>\n",
       "      <td>1.927083</td>\n",
       "      <td>1.958333</td>\n",
       "      <td>1.958333</td>\n",
       "      <td>72156000</td>\n",
       "      <td>NaN</td>\n",
       "    </tr>\n",
       "    <tr>\n",
       "      <th>1997-05-16</th>\n",
       "      <td>1.968750</td>\n",
       "      <td>1.979167</td>\n",
       "      <td>1.708333</td>\n",
       "      <td>1.729167</td>\n",
       "      <td>1.729167</td>\n",
       "      <td>14700000</td>\n",
       "      <td>-0.229167</td>\n",
       "    </tr>\n",
       "    <tr>\n",
       "      <th>1997-05-19</th>\n",
       "      <td>1.760417</td>\n",
       "      <td>1.770833</td>\n",
       "      <td>1.625000</td>\n",
       "      <td>1.708333</td>\n",
       "      <td>1.708333</td>\n",
       "      <td>6106800</td>\n",
       "      <td>-0.020833</td>\n",
       "    </tr>\n",
       "    <tr>\n",
       "      <th>1997-05-20</th>\n",
       "      <td>1.729167</td>\n",
       "      <td>1.750000</td>\n",
       "      <td>1.635417</td>\n",
       "      <td>1.635417</td>\n",
       "      <td>1.635417</td>\n",
       "      <td>5467200</td>\n",
       "      <td>-0.072917</td>\n",
       "    </tr>\n",
       "    <tr>\n",
       "      <th>1997-05-21</th>\n",
       "      <td>1.635417</td>\n",
       "      <td>1.645833</td>\n",
       "      <td>1.375000</td>\n",
       "      <td>1.427083</td>\n",
       "      <td>1.427083</td>\n",
       "      <td>18853200</td>\n",
       "      <td>-0.208333</td>\n",
       "    </tr>\n",
       "  </tbody>\n",
       "</table>\n",
       "</div>"
      ],
      "text/plain": [
       "                Open      High       Low         y  Adj Close    Volume  \\\n",
       "Date                                                                      \n",
       "1997-05-15  2.437500  2.500000  1.927083  1.958333   1.958333  72156000   \n",
       "1997-05-16  1.968750  1.979167  1.708333  1.729167   1.729167  14700000   \n",
       "1997-05-19  1.760417  1.770833  1.625000  1.708333   1.708333   6106800   \n",
       "1997-05-20  1.729167  1.750000  1.635417  1.635417   1.635417   5467200   \n",
       "1997-05-21  1.635417  1.645833  1.375000  1.427083   1.427083  18853200   \n",
       "\n",
       "              y_diff  \n",
       "Date                  \n",
       "1997-05-15       NaN  \n",
       "1997-05-16 -0.229167  \n",
       "1997-05-19 -0.020833  \n",
       "1997-05-20 -0.072917  \n",
       "1997-05-21 -0.208333  "
      ]
     },
     "execution_count": 36,
     "metadata": {},
     "output_type": "execute_result"
    }
   ],
   "source": [
    "df.head()"
   ]
  },
  {
   "cell_type": "markdown",
   "metadata": {
    "id": "hH44e1sJ4DD2"
   },
   "source": [
    "# SARIMA"
   ]
  },
  {
   "cell_type": "code",
   "execution_count": 37,
   "metadata": {
    "colab": {
     "base_uri": "https://localhost:8080/",
     "height": 608
    },
    "executionInfo": {
     "elapsed": 281474,
     "status": "ok",
     "timestamp": 1706963714602,
     "user": {
      "displayName": "Diogo Resende",
      "userId": "05706604408624562002"
     },
     "user_tz": -60
    },
    "id": "KRFXILB_4JaX",
    "outputId": "5e46ed51-6359-4824-d244-de7617d02a08",
    "scrolled": true
   },
   "outputs": [
    {
     "name": "stderr",
     "output_type": "stream",
     "text": [
      "C:\\Users\\marha\\anaconda3\\envs\\tf_gpu\\lib\\site-packages\\sklearn\\utils\\deprecation.py:151: FutureWarning: 'force_all_finite' was renamed to 'ensure_all_finite' in 1.6 and will be removed in 1.8.\n",
      "  warnings.warn(\n",
      "C:\\Users\\marha\\anaconda3\\envs\\tf_gpu\\lib\\site-packages\\sklearn\\utils\\deprecation.py:151: FutureWarning: 'force_all_finite' was renamed to 'ensure_all_finite' in 1.6 and will be removed in 1.8.\n",
      "  warnings.warn(\n",
      "C:\\Users\\marha\\anaconda3\\envs\\tf_gpu\\lib\\site-packages\\sklearn\\utils\\deprecation.py:151: FutureWarning: 'force_all_finite' was renamed to 'ensure_all_finite' in 1.6 and will be removed in 1.8.\n",
      "  warnings.warn(\n",
      "C:\\Users\\marha\\anaconda3\\envs\\tf_gpu\\lib\\site-packages\\sklearn\\utils\\deprecation.py:151: FutureWarning: 'force_all_finite' was renamed to 'ensure_all_finite' in 1.6 and will be removed in 1.8.\n",
      "  warnings.warn(\n",
      "C:\\Users\\marha\\anaconda3\\envs\\tf_gpu\\lib\\site-packages\\sklearn\\utils\\deprecation.py:151: FutureWarning: 'force_all_finite' was renamed to 'ensure_all_finite' in 1.6 and will be removed in 1.8.\n",
      "  warnings.warn(\n",
      "C:\\Users\\marha\\anaconda3\\envs\\tf_gpu\\lib\\site-packages\\sklearn\\utils\\deprecation.py:151: FutureWarning: 'force_all_finite' was renamed to 'ensure_all_finite' in 1.6 and will be removed in 1.8.\n",
      "  warnings.warn(\n",
      "C:\\Users\\marha\\anaconda3\\envs\\tf_gpu\\lib\\site-packages\\sklearn\\utils\\deprecation.py:151: FutureWarning: 'force_all_finite' was renamed to 'ensure_all_finite' in 1.6 and will be removed in 1.8.\n",
      "  warnings.warn(\n",
      "C:\\Users\\marha\\anaconda3\\envs\\tf_gpu\\lib\\site-packages\\sklearn\\utils\\deprecation.py:151: FutureWarning: 'force_all_finite' was renamed to 'ensure_all_finite' in 1.6 and will be removed in 1.8.\n",
      "  warnings.warn(\n",
      "C:\\Users\\marha\\anaconda3\\envs\\tf_gpu\\lib\\site-packages\\sklearn\\utils\\deprecation.py:151: FutureWarning: 'force_all_finite' was renamed to 'ensure_all_finite' in 1.6 and will be removed in 1.8.\n",
      "  warnings.warn(\n",
      "C:\\Users\\marha\\anaconda3\\envs\\tf_gpu\\lib\\site-packages\\sklearn\\utils\\deprecation.py:151: FutureWarning: 'force_all_finite' was renamed to 'ensure_all_finite' in 1.6 and will be removed in 1.8.\n",
      "  warnings.warn(\n",
      "C:\\Users\\marha\\anaconda3\\envs\\tf_gpu\\lib\\site-packages\\sklearn\\utils\\deprecation.py:151: FutureWarning: 'force_all_finite' was renamed to 'ensure_all_finite' in 1.6 and will be removed in 1.8.\n",
      "  warnings.warn(\n",
      "C:\\Users\\marha\\anaconda3\\envs\\tf_gpu\\lib\\site-packages\\sklearn\\utils\\deprecation.py:151: FutureWarning: 'force_all_finite' was renamed to 'ensure_all_finite' in 1.6 and will be removed in 1.8.\n",
      "  warnings.warn(\n",
      "C:\\Users\\marha\\anaconda3\\envs\\tf_gpu\\lib\\site-packages\\sklearn\\utils\\deprecation.py:151: FutureWarning: 'force_all_finite' was renamed to 'ensure_all_finite' in 1.6 and will be removed in 1.8.\n",
      "  warnings.warn(\n",
      "C:\\Users\\marha\\anaconda3\\envs\\tf_gpu\\lib\\site-packages\\sklearn\\utils\\deprecation.py:151: FutureWarning: 'force_all_finite' was renamed to 'ensure_all_finite' in 1.6 and will be removed in 1.8.\n",
      "  warnings.warn(\n",
      "C:\\Users\\marha\\anaconda3\\envs\\tf_gpu\\lib\\site-packages\\sklearn\\utils\\deprecation.py:151: FutureWarning: 'force_all_finite' was renamed to 'ensure_all_finite' in 1.6 and will be removed in 1.8.\n",
      "  warnings.warn(\n",
      "C:\\Users\\marha\\anaconda3\\envs\\tf_gpu\\lib\\site-packages\\sklearn\\utils\\deprecation.py:151: FutureWarning: 'force_all_finite' was renamed to 'ensure_all_finite' in 1.6 and will be removed in 1.8.\n",
      "  warnings.warn(\n",
      "C:\\Users\\marha\\anaconda3\\envs\\tf_gpu\\lib\\site-packages\\sklearn\\utils\\deprecation.py:151: FutureWarning: 'force_all_finite' was renamed to 'ensure_all_finite' in 1.6 and will be removed in 1.8.\n",
      "  warnings.warn(\n",
      "C:\\Users\\marha\\anaconda3\\envs\\tf_gpu\\lib\\site-packages\\sklearn\\utils\\deprecation.py:151: FutureWarning: 'force_all_finite' was renamed to 'ensure_all_finite' in 1.6 and will be removed in 1.8.\n",
      "  warnings.warn(\n",
      "C:\\Users\\marha\\anaconda3\\envs\\tf_gpu\\lib\\site-packages\\sklearn\\utils\\deprecation.py:151: FutureWarning: 'force_all_finite' was renamed to 'ensure_all_finite' in 1.6 and will be removed in 1.8.\n",
      "  warnings.warn(\n",
      "C:\\Users\\marha\\anaconda3\\envs\\tf_gpu\\lib\\site-packages\\sklearn\\utils\\deprecation.py:151: FutureWarning: 'force_all_finite' was renamed to 'ensure_all_finite' in 1.6 and will be removed in 1.8.\n",
      "  warnings.warn(\n",
      "C:\\Users\\marha\\anaconda3\\envs\\tf_gpu\\lib\\site-packages\\sklearn\\utils\\deprecation.py:151: FutureWarning: 'force_all_finite' was renamed to 'ensure_all_finite' in 1.6 and will be removed in 1.8.\n",
      "  warnings.warn(\n",
      "C:\\Users\\marha\\anaconda3\\envs\\tf_gpu\\lib\\site-packages\\sklearn\\utils\\deprecation.py:151: FutureWarning: 'force_all_finite' was renamed to 'ensure_all_finite' in 1.6 and will be removed in 1.8.\n",
      "  warnings.warn(\n",
      "C:\\Users\\marha\\anaconda3\\envs\\tf_gpu\\lib\\site-packages\\sklearn\\utils\\deprecation.py:151: FutureWarning: 'force_all_finite' was renamed to 'ensure_all_finite' in 1.6 and will be removed in 1.8.\n",
      "  warnings.warn(\n",
      "C:\\Users\\marha\\anaconda3\\envs\\tf_gpu\\lib\\site-packages\\sklearn\\utils\\deprecation.py:151: FutureWarning: 'force_all_finite' was renamed to 'ensure_all_finite' in 1.6 and will be removed in 1.8.\n",
      "  warnings.warn(\n",
      "C:\\Users\\marha\\anaconda3\\envs\\tf_gpu\\lib\\site-packages\\sklearn\\utils\\deprecation.py:151: FutureWarning: 'force_all_finite' was renamed to 'ensure_all_finite' in 1.6 and will be removed in 1.8.\n",
      "  warnings.warn(\n",
      "C:\\Users\\marha\\anaconda3\\envs\\tf_gpu\\lib\\site-packages\\sklearn\\utils\\deprecation.py:151: FutureWarning: 'force_all_finite' was renamed to 'ensure_all_finite' in 1.6 and will be removed in 1.8.\n",
      "  warnings.warn(\n",
      "C:\\Users\\marha\\anaconda3\\envs\\tf_gpu\\lib\\site-packages\\sklearn\\utils\\deprecation.py:151: FutureWarning: 'force_all_finite' was renamed to 'ensure_all_finite' in 1.6 and will be removed in 1.8.\n",
      "  warnings.warn(\n",
      "C:\\Users\\marha\\anaconda3\\envs\\tf_gpu\\lib\\site-packages\\sklearn\\utils\\deprecation.py:151: FutureWarning: 'force_all_finite' was renamed to 'ensure_all_finite' in 1.6 and will be removed in 1.8.\n",
      "  warnings.warn(\n",
      "C:\\Users\\marha\\anaconda3\\envs\\tf_gpu\\lib\\site-packages\\sklearn\\utils\\deprecation.py:151: FutureWarning: 'force_all_finite' was renamed to 'ensure_all_finite' in 1.6 and will be removed in 1.8.\n",
      "  warnings.warn(\n",
      "C:\\Users\\marha\\anaconda3\\envs\\tf_gpu\\lib\\site-packages\\sklearn\\utils\\deprecation.py:151: FutureWarning: 'force_all_finite' was renamed to 'ensure_all_finite' in 1.6 and will be removed in 1.8.\n",
      "  warnings.warn(\n",
      "C:\\Users\\marha\\anaconda3\\envs\\tf_gpu\\lib\\site-packages\\sklearn\\utils\\deprecation.py:151: FutureWarning: 'force_all_finite' was renamed to 'ensure_all_finite' in 1.6 and will be removed in 1.8.\n",
      "  warnings.warn(\n",
      "C:\\Users\\marha\\anaconda3\\envs\\tf_gpu\\lib\\site-packages\\sklearn\\utils\\deprecation.py:151: FutureWarning: 'force_all_finite' was renamed to 'ensure_all_finite' in 1.6 and will be removed in 1.8.\n",
      "  warnings.warn(\n",
      "C:\\Users\\marha\\anaconda3\\envs\\tf_gpu\\lib\\site-packages\\sklearn\\utils\\deprecation.py:151: FutureWarning: 'force_all_finite' was renamed to 'ensure_all_finite' in 1.6 and will be removed in 1.8.\n",
      "  warnings.warn(\n",
      "C:\\Users\\marha\\anaconda3\\envs\\tf_gpu\\lib\\site-packages\\sklearn\\utils\\deprecation.py:151: FutureWarning: 'force_all_finite' was renamed to 'ensure_all_finite' in 1.6 and will be removed in 1.8.\n",
      "  warnings.warn(\n",
      "C:\\Users\\marha\\anaconda3\\envs\\tf_gpu\\lib\\site-packages\\sklearn\\utils\\deprecation.py:151: FutureWarning: 'force_all_finite' was renamed to 'ensure_all_finite' in 1.6 and will be removed in 1.8.\n",
      "  warnings.warn(\n",
      "C:\\Users\\marha\\anaconda3\\envs\\tf_gpu\\lib\\site-packages\\sklearn\\utils\\deprecation.py:151: FutureWarning: 'force_all_finite' was renamed to 'ensure_all_finite' in 1.6 and will be removed in 1.8.\n",
      "  warnings.warn(\n",
      "C:\\Users\\marha\\anaconda3\\envs\\tf_gpu\\lib\\site-packages\\sklearn\\utils\\deprecation.py:151: FutureWarning: 'force_all_finite' was renamed to 'ensure_all_finite' in 1.6 and will be removed in 1.8.\n",
      "  warnings.warn(\n",
      "C:\\Users\\marha\\anaconda3\\envs\\tf_gpu\\lib\\site-packages\\sklearn\\utils\\deprecation.py:151: FutureWarning: 'force_all_finite' was renamed to 'ensure_all_finite' in 1.6 and will be removed in 1.8.\n",
      "  warnings.warn(\n",
      "C:\\Users\\marha\\anaconda3\\envs\\tf_gpu\\lib\\site-packages\\sklearn\\utils\\deprecation.py:151: FutureWarning: 'force_all_finite' was renamed to 'ensure_all_finite' in 1.6 and will be removed in 1.8.\n",
      "  warnings.warn(\n",
      "C:\\Users\\marha\\anaconda3\\envs\\tf_gpu\\lib\\site-packages\\sklearn\\utils\\deprecation.py:151: FutureWarning: 'force_all_finite' was renamed to 'ensure_all_finite' in 1.6 and will be removed in 1.8.\n",
      "  warnings.warn(\n",
      "C:\\Users\\marha\\anaconda3\\envs\\tf_gpu\\lib\\site-packages\\sklearn\\utils\\deprecation.py:151: FutureWarning: 'force_all_finite' was renamed to 'ensure_all_finite' in 1.6 and will be removed in 1.8.\n",
      "  warnings.warn(\n",
      "C:\\Users\\marha\\anaconda3\\envs\\tf_gpu\\lib\\site-packages\\sklearn\\utils\\deprecation.py:151: FutureWarning: 'force_all_finite' was renamed to 'ensure_all_finite' in 1.6 and will be removed in 1.8.\n",
      "  warnings.warn(\n",
      "C:\\Users\\marha\\anaconda3\\envs\\tf_gpu\\lib\\site-packages\\sklearn\\utils\\deprecation.py:151: FutureWarning: 'force_all_finite' was renamed to 'ensure_all_finite' in 1.6 and will be removed in 1.8.\n",
      "  warnings.warn(\n",
      "C:\\Users\\marha\\anaconda3\\envs\\tf_gpu\\lib\\site-packages\\sklearn\\utils\\deprecation.py:151: FutureWarning: 'force_all_finite' was renamed to 'ensure_all_finite' in 1.6 and will be removed in 1.8.\n",
      "  warnings.warn(\n",
      "C:\\Users\\marha\\anaconda3\\envs\\tf_gpu\\lib\\site-packages\\sklearn\\utils\\deprecation.py:151: FutureWarning: 'force_all_finite' was renamed to 'ensure_all_finite' in 1.6 and will be removed in 1.8.\n",
      "  warnings.warn(\n",
      "C:\\Users\\marha\\anaconda3\\envs\\tf_gpu\\lib\\site-packages\\sklearn\\utils\\deprecation.py:151: FutureWarning: 'force_all_finite' was renamed to 'ensure_all_finite' in 1.6 and will be removed in 1.8.\n",
      "  warnings.warn(\n",
      "C:\\Users\\marha\\anaconda3\\envs\\tf_gpu\\lib\\site-packages\\sklearn\\utils\\deprecation.py:151: FutureWarning: 'force_all_finite' was renamed to 'ensure_all_finite' in 1.6 and will be removed in 1.8.\n",
      "  warnings.warn(\n",
      "C:\\Users\\marha\\anaconda3\\envs\\tf_gpu\\lib\\site-packages\\sklearn\\utils\\deprecation.py:151: FutureWarning: 'force_all_finite' was renamed to 'ensure_all_finite' in 1.6 and will be removed in 1.8.\n",
      "  warnings.warn(\n",
      "C:\\Users\\marha\\anaconda3\\envs\\tf_gpu\\lib\\site-packages\\sklearn\\utils\\deprecation.py:151: FutureWarning: 'force_all_finite' was renamed to 'ensure_all_finite' in 1.6 and will be removed in 1.8.\n",
      "  warnings.warn(\n",
      "C:\\Users\\marha\\anaconda3\\envs\\tf_gpu\\lib\\site-packages\\sklearn\\utils\\deprecation.py:151: FutureWarning: 'force_all_finite' was renamed to 'ensure_all_finite' in 1.6 and will be removed in 1.8.\n",
      "  warnings.warn(\n",
      "C:\\Users\\marha\\anaconda3\\envs\\tf_gpu\\lib\\site-packages\\sklearn\\utils\\deprecation.py:151: FutureWarning: 'force_all_finite' was renamed to 'ensure_all_finite' in 1.6 and will be removed in 1.8.\n",
      "  warnings.warn(\n",
      "C:\\Users\\marha\\anaconda3\\envs\\tf_gpu\\lib\\site-packages\\sklearn\\utils\\deprecation.py:151: FutureWarning: 'force_all_finite' was renamed to 'ensure_all_finite' in 1.6 and will be removed in 1.8.\n",
      "  warnings.warn(\n",
      "C:\\Users\\marha\\anaconda3\\envs\\tf_gpu\\lib\\site-packages\\sklearn\\utils\\deprecation.py:151: FutureWarning: 'force_all_finite' was renamed to 'ensure_all_finite' in 1.6 and will be removed in 1.8.\n",
      "  warnings.warn(\n",
      "C:\\Users\\marha\\anaconda3\\envs\\tf_gpu\\lib\\site-packages\\sklearn\\utils\\deprecation.py:151: FutureWarning: 'force_all_finite' was renamed to 'ensure_all_finite' in 1.6 and will be removed in 1.8.\n",
      "  warnings.warn(\n",
      "C:\\Users\\marha\\anaconda3\\envs\\tf_gpu\\lib\\site-packages\\sklearn\\utils\\deprecation.py:151: FutureWarning: 'force_all_finite' was renamed to 'ensure_all_finite' in 1.6 and will be removed in 1.8.\n",
      "  warnings.warn(\n",
      "C:\\Users\\marha\\anaconda3\\envs\\tf_gpu\\lib\\site-packages\\sklearn\\utils\\deprecation.py:151: FutureWarning: 'force_all_finite' was renamed to 'ensure_all_finite' in 1.6 and will be removed in 1.8.\n",
      "  warnings.warn(\n",
      "C:\\Users\\marha\\anaconda3\\envs\\tf_gpu\\lib\\site-packages\\sklearn\\utils\\deprecation.py:151: FutureWarning: 'force_all_finite' was renamed to 'ensure_all_finite' in 1.6 and will be removed in 1.8.\n",
      "  warnings.warn(\n",
      "C:\\Users\\marha\\anaconda3\\envs\\tf_gpu\\lib\\site-packages\\sklearn\\utils\\deprecation.py:151: FutureWarning: 'force_all_finite' was renamed to 'ensure_all_finite' in 1.6 and will be removed in 1.8.\n",
      "  warnings.warn(\n",
      "C:\\Users\\marha\\anaconda3\\envs\\tf_gpu\\lib\\site-packages\\sklearn\\utils\\deprecation.py:151: FutureWarning: 'force_all_finite' was renamed to 'ensure_all_finite' in 1.6 and will be removed in 1.8.\n",
      "  warnings.warn(\n",
      "C:\\Users\\marha\\anaconda3\\envs\\tf_gpu\\lib\\site-packages\\sklearn\\utils\\deprecation.py:151: FutureWarning: 'force_all_finite' was renamed to 'ensure_all_finite' in 1.6 and will be removed in 1.8.\n",
      "  warnings.warn(\n",
      "C:\\Users\\marha\\anaconda3\\envs\\tf_gpu\\lib\\site-packages\\sklearn\\utils\\deprecation.py:151: FutureWarning: 'force_all_finite' was renamed to 'ensure_all_finite' in 1.6 and will be removed in 1.8.\n",
      "  warnings.warn(\n",
      "C:\\Users\\marha\\anaconda3\\envs\\tf_gpu\\lib\\site-packages\\sklearn\\utils\\deprecation.py:151: FutureWarning: 'force_all_finite' was renamed to 'ensure_all_finite' in 1.6 and will be removed in 1.8.\n",
      "  warnings.warn(\n"
     ]
    },
    {
     "data": {
      "text/html": [
       "<table class=\"simpletable\">\n",
       "<caption>SARIMAX Results</caption>\n",
       "<tr>\n",
       "  <th>Dep. Variable:</th>                  <td>y</td>                <th>  No. Observations:  </th>    <td>5242</td>   \n",
       "</tr>\n",
       "<tr>\n",
       "  <th>Model:</th>           <td>SARIMAX(5, 2, 0)x(1, 0, [1], 7)</td> <th>  Log Likelihood     </th> <td>-17031.537</td>\n",
       "</tr>\n",
       "<tr>\n",
       "  <th>Date:</th>                   <td>Fri, 27 Jun 2025</td>         <th>  AIC                </th>  <td>34079.073</td>\n",
       "</tr>\n",
       "<tr>\n",
       "  <th>Time:</th>                       <td>01:40:55</td>             <th>  BIC                </th>  <td>34131.586</td>\n",
       "</tr>\n",
       "<tr>\n",
       "  <th>Sample:</th>                         <td>0</td>                <th>  HQIC               </th>  <td>34097.435</td>\n",
       "</tr>\n",
       "<tr>\n",
       "  <th></th>                             <td> - 5242</td>             <th>                     </th>      <td> </td>    \n",
       "</tr>\n",
       "<tr>\n",
       "  <th>Covariance Type:</th>               <td>opg</td>               <th>                     </th>      <td> </td>    \n",
       "</tr>\n",
       "</table>\n",
       "<table class=\"simpletable\">\n",
       "<tr>\n",
       "     <td></td>        <th>coef</th>     <th>std err</th>      <th>z</th>      <th>P>|z|</th>  <th>[0.025</th>    <th>0.975]</th>  \n",
       "</tr>\n",
       "<tr>\n",
       "  <th>ar.L1</th>   <td>   -0.8127</td> <td>    0.005</td> <td> -150.757</td> <td> 0.000</td> <td>   -0.823</td> <td>   -0.802</td>\n",
       "</tr>\n",
       "<tr>\n",
       "  <th>ar.L2</th>   <td>   -0.6505</td> <td>    0.007</td> <td>  -94.535</td> <td> 0.000</td> <td>   -0.664</td> <td>   -0.637</td>\n",
       "</tr>\n",
       "<tr>\n",
       "  <th>ar.L3</th>   <td>   -0.5322</td> <td>    0.007</td> <td>  -78.051</td> <td> 0.000</td> <td>   -0.546</td> <td>   -0.519</td>\n",
       "</tr>\n",
       "<tr>\n",
       "  <th>ar.L4</th>   <td>   -0.4008</td> <td>    0.007</td> <td>  -55.289</td> <td> 0.000</td> <td>   -0.415</td> <td>   -0.387</td>\n",
       "</tr>\n",
       "<tr>\n",
       "  <th>ar.L5</th>   <td>   -0.1914</td> <td>    0.006</td> <td>  -34.738</td> <td> 0.000</td> <td>   -0.202</td> <td>   -0.181</td>\n",
       "</tr>\n",
       "<tr>\n",
       "  <th>ar.S.L7</th> <td>   -0.6935</td> <td>    0.082</td> <td>   -8.473</td> <td> 0.000</td> <td>   -0.854</td> <td>   -0.533</td>\n",
       "</tr>\n",
       "<tr>\n",
       "  <th>ma.S.L7</th> <td>    0.6519</td> <td>    0.085</td> <td>    7.654</td> <td> 0.000</td> <td>    0.485</td> <td>    0.819</td>\n",
       "</tr>\n",
       "<tr>\n",
       "  <th>sigma2</th>  <td>   38.9584</td> <td>    0.147</td> <td>  264.714</td> <td> 0.000</td> <td>   38.670</td> <td>   39.247</td>\n",
       "</tr>\n",
       "</table>\n",
       "<table class=\"simpletable\">\n",
       "<tr>\n",
       "  <th>Ljung-Box (L1) (Q):</th>     <td>3.73</td>  <th>  Jarque-Bera (JB):  </th> <td>748950.78</td>\n",
       "</tr>\n",
       "<tr>\n",
       "  <th>Prob(Q):</th>                <td>0.05</td>  <th>  Prob(JB):          </th>   <td>0.00</td>   \n",
       "</tr>\n",
       "<tr>\n",
       "  <th>Heteroskedasticity (H):</th> <td>17.89</td> <th>  Skew:              </th>   <td>1.70</td>   \n",
       "</tr>\n",
       "<tr>\n",
       "  <th>Prob(H) (two-sided):</th>    <td>0.00</td>  <th>  Kurtosis:          </th>   <td>61.47</td>  \n",
       "</tr>\n",
       "</table><br/><br/>Warnings:<br/>[1] Covariance matrix calculated using the outer product of gradients (complex-step)."
      ],
      "text/latex": [
       "\\begin{center}\n",
       "\\begin{tabular}{lclc}\n",
       "\\toprule\n",
       "\\textbf{Dep. Variable:}          &                y                & \\textbf{  No. Observations:  } &    5242     \\\\\n",
       "\\textbf{Model:}                  & SARIMAX(5, 2, 0)x(1, 0, [1], 7) & \\textbf{  Log Likelihood     } & -17031.537  \\\\\n",
       "\\textbf{Date:}                   &         Fri, 27 Jun 2025        & \\textbf{  AIC                } & 34079.073   \\\\\n",
       "\\textbf{Time:}                   &             01:40:55            & \\textbf{  BIC                } & 34131.586   \\\\\n",
       "\\textbf{Sample:}                 &                0                & \\textbf{  HQIC               } & 34097.435   \\\\\n",
       "\\textbf{}                        &              - 5242             & \\textbf{                     } &             \\\\\n",
       "\\textbf{Covariance Type:}        &               opg               & \\textbf{                     } &             \\\\\n",
       "\\bottomrule\n",
       "\\end{tabular}\n",
       "\\begin{tabular}{lcccccc}\n",
       "                 & \\textbf{coef} & \\textbf{std err} & \\textbf{z} & \\textbf{P$> |$z$|$} & \\textbf{[0.025} & \\textbf{0.975]}  \\\\\n",
       "\\midrule\n",
       "\\textbf{ar.L1}   &      -0.8127  &        0.005     &  -150.757  &         0.000        &       -0.823    &       -0.802     \\\\\n",
       "\\textbf{ar.L2}   &      -0.6505  &        0.007     &   -94.535  &         0.000        &       -0.664    &       -0.637     \\\\\n",
       "\\textbf{ar.L3}   &      -0.5322  &        0.007     &   -78.051  &         0.000        &       -0.546    &       -0.519     \\\\\n",
       "\\textbf{ar.L4}   &      -0.4008  &        0.007     &   -55.289  &         0.000        &       -0.415    &       -0.387     \\\\\n",
       "\\textbf{ar.L5}   &      -0.1914  &        0.006     &   -34.738  &         0.000        &       -0.202    &       -0.181     \\\\\n",
       "\\textbf{ar.S.L7} &      -0.6935  &        0.082     &    -8.473  &         0.000        &       -0.854    &       -0.533     \\\\\n",
       "\\textbf{ma.S.L7} &       0.6519  &        0.085     &     7.654  &         0.000        &        0.485    &        0.819     \\\\\n",
       "\\textbf{sigma2}  &      38.9584  &        0.147     &   264.714  &         0.000        &       38.670    &       39.247     \\\\\n",
       "\\bottomrule\n",
       "\\end{tabular}\n",
       "\\begin{tabular}{lclc}\n",
       "\\textbf{Ljung-Box (L1) (Q):}     &  3.73 & \\textbf{  Jarque-Bera (JB):  } & 748950.78  \\\\\n",
       "\\textbf{Prob(Q):}                &  0.05 & \\textbf{  Prob(JB):          } &    0.00    \\\\\n",
       "\\textbf{Heteroskedasticity (H):} & 17.89 & \\textbf{  Skew:              } &    1.70    \\\\\n",
       "\\textbf{Prob(H) (two-sided):}    &  0.00 & \\textbf{  Kurtosis:          } &   61.47    \\\\\n",
       "\\bottomrule\n",
       "\\end{tabular}\n",
       "%\\caption{SARIMAX Results}\n",
       "\\end{center}\n",
       "\n",
       "Warnings: \\newline\n",
       " [1] Covariance matrix calculated using the outer product of gradients (complex-step)."
      ],
      "text/plain": [
       "<class 'statsmodels.iolib.summary.Summary'>\n",
       "\"\"\"\n",
       "                                      SARIMAX Results                                      \n",
       "===========================================================================================\n",
       "Dep. Variable:                                   y   No. Observations:                 5242\n",
       "Model:             SARIMAX(5, 2, 0)x(1, 0, [1], 7)   Log Likelihood              -17031.537\n",
       "Date:                             Fri, 27 Jun 2025   AIC                          34079.073\n",
       "Time:                                     01:40:55   BIC                          34131.586\n",
       "Sample:                                          0   HQIC                         34097.435\n",
       "                                            - 5242                                         \n",
       "Covariance Type:                               opg                                         \n",
       "==============================================================================\n",
       "                 coef    std err          z      P>|z|      [0.025      0.975]\n",
       "------------------------------------------------------------------------------\n",
       "ar.L1         -0.8127      0.005   -150.757      0.000      -0.823      -0.802\n",
       "ar.L2         -0.6505      0.007    -94.535      0.000      -0.664      -0.637\n",
       "ar.L3         -0.5322      0.007    -78.051      0.000      -0.546      -0.519\n",
       "ar.L4         -0.4008      0.007    -55.289      0.000      -0.415      -0.387\n",
       "ar.L5         -0.1914      0.006    -34.738      0.000      -0.202      -0.181\n",
       "ar.S.L7       -0.6935      0.082     -8.473      0.000      -0.854      -0.533\n",
       "ma.S.L7        0.6519      0.085      7.654      0.000       0.485       0.819\n",
       "sigma2        38.9584      0.147    264.714      0.000      38.670      39.247\n",
       "===================================================================================\n",
       "Ljung-Box (L1) (Q):                   3.73   Jarque-Bera (JB):            748950.78\n",
       "Prob(Q):                              0.05   Prob(JB):                         0.00\n",
       "Heteroskedasticity (H):              17.89   Skew:                             1.70\n",
       "Prob(H) (two-sided):                  0.00   Kurtosis:                        61.47\n",
       "===================================================================================\n",
       "\n",
       "Warnings:\n",
       "[1] Covariance matrix calculated using the outer product of gradients (complex-step).\n",
       "\"\"\""
      ]
     },
     "execution_count": 37,
     "metadata": {},
     "output_type": "execute_result"
    }
   ],
   "source": [
    "# auto_arima() from pmdarima - used to automatically select the optimal parameters for an ARIMA model based on the provided time series data.\n",
    "# m = The number of periods in each season.\n",
    "model_sarima = auto_arima(train['y'],\n",
    "                          m = 7)\n",
    "model_sarima.summary()"
   ]
  },
  {
   "cell_type": "code",
   "execution_count": 38,
   "metadata": {
    "colab": {
     "base_uri": "https://localhost:8080/"
    },
    "executionInfo": {
     "elapsed": 29,
     "status": "ok",
     "timestamp": 1706963714603,
     "user": {
      "displayName": "Diogo Resende",
      "userId": "05706604408624562002"
     },
     "user_tz": -60
    },
    "id": "Io-baYJc4Jao",
    "outputId": "d476298a-732c-47a3-c124-bb20ccd7fe67"
   },
   "outputs": [
    {
     "name": "stderr",
     "output_type": "stream",
     "text": [
      "C:\\Users\\marha\\anaconda3\\envs\\tf_gpu\\lib\\site-packages\\statsmodels\\tsa\\base\\tsa_model.py:837: ValueWarning: No supported index is available. Prediction results will be given with an integer index beginning at `start`.\n",
      "  return get_prediction_index(\n",
      "C:\\Users\\marha\\anaconda3\\envs\\tf_gpu\\lib\\site-packages\\statsmodels\\tsa\\base\\tsa_model.py:837: FutureWarning: No supported index is available. In the next version, calling this method in a model without a supported index will result in an exception.\n",
      "  return get_prediction_index(\n",
      "C:\\Users\\marha\\anaconda3\\envs\\tf_gpu\\lib\\site-packages\\sklearn\\utils\\deprecation.py:151: FutureWarning: 'force_all_finite' was renamed to 'ensure_all_finite' in 1.6 and will be removed in 1.8.\n",
      "  warnings.warn(\n"
     ]
    },
    {
     "data": {
      "text/plain": [
       "Date\n",
       "2018-03-15    1598.285102\n",
       "2018-03-16    1607.353389\n",
       "2018-03-19    1617.906952\n",
       "2018-03-20    1622.864280\n",
       "2018-03-21    1624.569119\n",
       "                 ...     \n",
       "2020-07-27    5800.450533\n",
       "2020-07-28    5807.509454\n",
       "2020-07-29    5814.568374\n",
       "2020-07-30    5821.627295\n",
       "2020-07-31    5828.686216\n",
       "Length: 600, dtype: float64"
      ]
     },
     "execution_count": 38,
     "metadata": {},
     "output_type": "execute_result"
    }
   ],
   "source": [
    "# Use the fitted SARIMA model to forecast future values.\n",
    "# set the number of periods to forecast to the length of 'test'\n",
    "predictions_sarima = model_sarima.predict(n_periods = len(test))\n",
    "predictions_sarima.index = test.index\n",
    "predictions_sarima"
   ]
  },
  {
   "cell_type": "code",
   "execution_count": 39,
   "metadata": {
    "colab": {
     "base_uri": "https://localhost:8080/",
     "height": 445
    },
    "executionInfo": {
     "elapsed": 737,
     "status": "ok",
     "timestamp": 1706963715316,
     "user": {
      "displayName": "Diogo Resende",
      "userId": "05706604408624562002"
     },
     "user_tz": -60
    },
    "id": "jLgW_CLq4Jaq",
    "outputId": "2570e3e4-dbce-4ac0-8a33-2213ebca9573"
   },
   "outputs": [
    {
     "data": {
      "image/png": "[encoded data removed]",
      "text/plain": [
       "<Figure size 1000x400 with 1 Axes>"
      ]
     },
     "metadata": {},
     "output_type": "display_data"
    },
    {
     "name": "stdout",
     "output_type": "stream",
     "text": [
      "The MAE is 1827.98\n",
      "The RMSE is 4378215.68\n",
      "The MAPE is 95.01 %\n"
     ]
    }
   ],
   "source": [
    "# Model assessment\n",
    "model_assessment(train['y']['1998':], test['y'], predictions_sarima, \"SARIMA\")"
   ]
  },
  {
   "cell_type": "markdown",
   "metadata": {},
   "source": [
    "SARIMA has captured the upward trend"
   ]
  },
  {
   "cell_type": "markdown",
   "metadata": {
    "id": "Q8DYa8Bx6YT2"
   },
   "source": [
    "* The MAE is 7267306.02\n",
    "* The RMSE is 12366038.29\n",
    "* The MAPE is 24.15 %"
   ]
  },
  {
   "cell_type": "markdown",
   "metadata": {
    "id": "-16Wx6m98_XH"
   },
   "source": [
    "- `MAE` - the average of the absolute differences between predicted and actual values.\n",
    "- `RMSE` - the square root of the average of squared differences between prediction and actual observation.\n",
    "It gives a relatively high weight to large errors, making it sensitive to outliers.\n",
    "- `MAPE` - the size of the error in percentage terms. the average of the absolute percent errors of forecasts, which helps to understand the accuracy in terms of percentage."
   ]
  },
  {
   "cell_type": "markdown",
   "metadata": {
    "id": "_EqFGSnoDpAU"
   },
   "source": [
    "# SARIMAX"
   ]
  },
  {
   "cell_type": "code",
   "execution_count": 27,
   "metadata": {
    "colab": {
     "base_uri": "https://localhost:8080/"
    },
    "executionInfo": {
     "elapsed": 532,
     "status": "ok",
     "timestamp": 1706966758635,
     "user": {
      "displayName": "Diogo Resende",
      "userId": "05706604408624562002"
     },
     "user_tz": -60
    },
    "id": "XCGz2Lq2DsHW",
    "outputId": "bb37c70d-d9f6-4be3-f042-ecdf3aef5029"
   },
   "outputs": [
    {
     "name": "stdout",
     "output_type": "stream",
     "text": [
      "<class 'pandas.core.frame.DataFrame'>\n",
      "DatetimeIndex: 1795 entries, 2018-01-01 to 2022-11-30\n",
      "Freq: D\n",
      "Data columns (total 4 columns):\n",
      " #   Column         Non-Null Count  Dtype  \n",
      "---  ------         --------------  -----  \n",
      " 0   y              1795 non-null   float64\n",
      " 1   discount_rate  1795 non-null   float64\n",
      " 2   coupon_rate    1795 non-null   float64\n",
      " 3   y_diff         1794 non-null   float64\n",
      "dtypes: float64(4)\n",
      "memory usage: 70.1 KB\n"
     ]
    }
   ],
   "source": [
    "# Remove '%' symbol from 'discount_rate' and 'coupon_rate' column and convert to float\n",
    "df['discount_rate'] = df['discount_rate'].str.replace(\"%\", \"\").astype(float)\n",
    "df['coupon_rate'] = df['coupon_rate'].str.replace(\"%\", \"\").astype(float)\n",
    "\n",
    "# Print the information about the DataFrame\n",
    "df.info()"
   ]
  },
  {
   "cell_type": "code",
   "execution_count": 40,
   "metadata": {
    "colab": {
     "base_uri": "https://localhost:8080/",
     "height": 237
    },
    "executionInfo": {
     "elapsed": 12,
     "status": "ok",
     "timestamp": 1706963715317,
     "user": {
      "displayName": "Diogo Resende",
      "userId": "05706604408624562002"
     },
     "user_tz": -60
    },
    "id": "Fmtz7S6dENfC",
    "outputId": "e20397ed-b6c6-42e9-f95b-7a261fd5ebcf"
   },
   "outputs": [
    {
     "data": {
      "text/html": [
       "<div>\n",
       "<style scoped>\n",
       "    .dataframe tbody tr th:only-of-type {\n",
       "        vertical-align: middle;\n",
       "    }\n",
       "\n",
       "    .dataframe tbody tr th {\n",
       "        vertical-align: top;\n",
       "    }\n",
       "\n",
       "    .dataframe thead th {\n",
       "        text-align: right;\n",
       "    }\n",
       "</style>\n",
       "<table border=\"1\" class=\"dataframe\">\n",
       "  <thead>\n",
       "    <tr style=\"text-align: right;\">\n",
       "      <th></th>\n",
       "      <th>High</th>\n",
       "      <th>Low</th>\n",
       "      <th>y</th>\n",
       "    </tr>\n",
       "    <tr>\n",
       "      <th>Date</th>\n",
       "      <th></th>\n",
       "      <th></th>\n",
       "      <th></th>\n",
       "    </tr>\n",
       "  </thead>\n",
       "  <tbody>\n",
       "    <tr>\n",
       "      <th>2018-03-15</th>\n",
       "      <td>1596.910034</td>\n",
       "      <td>1578.109985</td>\n",
       "      <td>1582.319946</td>\n",
       "    </tr>\n",
       "    <tr>\n",
       "      <th>2018-03-16</th>\n",
       "      <td>1589.439941</td>\n",
       "      <td>1567.500000</td>\n",
       "      <td>1571.680054</td>\n",
       "    </tr>\n",
       "    <tr>\n",
       "      <th>2018-03-19</th>\n",
       "      <td>1561.660034</td>\n",
       "      <td>1525.349976</td>\n",
       "      <td>1544.930054</td>\n",
       "    </tr>\n",
       "    <tr>\n",
       "      <th>2018-03-20</th>\n",
       "      <td>1587.000000</td>\n",
       "      <td>1545.410034</td>\n",
       "      <td>1586.510010</td>\n",
       "    </tr>\n",
       "    <tr>\n",
       "      <th>2018-03-21</th>\n",
       "      <td>1590.000000</td>\n",
       "      <td>1563.170044</td>\n",
       "      <td>1581.859985</td>\n",
       "    </tr>\n",
       "  </tbody>\n",
       "</table>\n",
       "</div>"
      ],
      "text/plain": [
       "                   High          Low            y\n",
       "Date                                             \n",
       "2018-03-15  1596.910034  1578.109985  1582.319946\n",
       "2018-03-16  1589.439941  1567.500000  1571.680054\n",
       "2018-03-19  1561.660034  1525.349976  1544.930054\n",
       "2018-03-20  1587.000000  1545.410034  1586.510010\n",
       "2018-03-21  1590.000000  1563.170044  1581.859985"
      ]
     },
     "execution_count": 40,
     "metadata": {},
     "output_type": "execute_result"
    }
   ],
   "source": [
    "# Split the Regressor Data into training and test\n",
    "test_days = 600 # Number of days to reserve for testing\n",
    "exog_train, exog_test = df.iloc[:-test_days,1:4], df.iloc[-test_days:,1:4]\n",
    "exog_test.head()"
   ]
  },
  {
   "cell_type": "code",
   "execution_count": 41,
   "metadata": {},
   "outputs": [
    {
     "data": {
      "text/plain": [
       "Date\n",
       "1997-05-15       1.958333\n",
       "1997-05-16       1.729167\n",
       "1997-05-19       1.708333\n",
       "1997-05-20       1.635417\n",
       "1997-05-21       1.427083\n",
       "                 ...     \n",
       "2018-03-08    1551.859985\n",
       "2018-03-09    1578.890015\n",
       "2018-03-12    1598.390015\n",
       "2018-03-13    1588.180054\n",
       "2018-03-14    1591.000000\n",
       "Name: y, Length: 5242, dtype: float64"
      ]
     },
     "execution_count": 41,
     "metadata": {},
     "output_type": "execute_result"
    }
   ],
   "source": [
    "train['y']"
   ]
  },
  {
   "cell_type": "code",
   "execution_count": 42,
   "metadata": {},
   "outputs": [
    {
     "data": {
      "text/html": [
       "<div>\n",
       "<style scoped>\n",
       "    .dataframe tbody tr th:only-of-type {\n",
       "        vertical-align: middle;\n",
       "    }\n",
       "\n",
       "    .dataframe tbody tr th {\n",
       "        vertical-align: top;\n",
       "    }\n",
       "\n",
       "    .dataframe thead th {\n",
       "        text-align: right;\n",
       "    }\n",
       "</style>\n",
       "<table border=\"1\" class=\"dataframe\">\n",
       "  <thead>\n",
       "    <tr style=\"text-align: right;\">\n",
       "      <th></th>\n",
       "      <th>High</th>\n",
       "      <th>Low</th>\n",
       "      <th>y</th>\n",
       "    </tr>\n",
       "    <tr>\n",
       "      <th>Date</th>\n",
       "      <th></th>\n",
       "      <th></th>\n",
       "      <th></th>\n",
       "    </tr>\n",
       "  </thead>\n",
       "  <tbody>\n",
       "    <tr>\n",
       "      <th>1997-05-15</th>\n",
       "      <td>2.500000</td>\n",
       "      <td>1.927083</td>\n",
       "      <td>1.958333</td>\n",
       "    </tr>\n",
       "    <tr>\n",
       "      <th>1997-05-16</th>\n",
       "      <td>1.979167</td>\n",
       "      <td>1.708333</td>\n",
       "      <td>1.729167</td>\n",
       "    </tr>\n",
       "    <tr>\n",
       "      <th>1997-05-19</th>\n",
       "      <td>1.770833</td>\n",
       "      <td>1.625000</td>\n",
       "      <td>1.708333</td>\n",
       "    </tr>\n",
       "    <tr>\n",
       "      <th>1997-05-20</th>\n",
       "      <td>1.750000</td>\n",
       "      <td>1.635417</td>\n",
       "      <td>1.635417</td>\n",
       "    </tr>\n",
       "    <tr>\n",
       "      <th>1997-05-21</th>\n",
       "      <td>1.645833</td>\n",
       "      <td>1.375000</td>\n",
       "      <td>1.427083</td>\n",
       "    </tr>\n",
       "    <tr>\n",
       "      <th>...</th>\n",
       "      <td>...</td>\n",
       "      <td>...</td>\n",
       "      <td>...</td>\n",
       "    </tr>\n",
       "    <tr>\n",
       "      <th>2018-03-08</th>\n",
       "      <td>1554.880005</td>\n",
       "      <td>1545.250000</td>\n",
       "      <td>1551.859985</td>\n",
       "    </tr>\n",
       "    <tr>\n",
       "      <th>2018-03-09</th>\n",
       "      <td>1578.939941</td>\n",
       "      <td>1559.079956</td>\n",
       "      <td>1578.890015</td>\n",
       "    </tr>\n",
       "    <tr>\n",
       "      <th>2018-03-12</th>\n",
       "      <td>1605.329956</td>\n",
       "      <td>1586.699951</td>\n",
       "      <td>1598.390015</td>\n",
       "    </tr>\n",
       "    <tr>\n",
       "      <th>2018-03-13</th>\n",
       "      <td>1617.540039</td>\n",
       "      <td>1578.010010</td>\n",
       "      <td>1588.180054</td>\n",
       "    </tr>\n",
       "    <tr>\n",
       "      <th>2018-03-14</th>\n",
       "      <td>1606.439941</td>\n",
       "      <td>1590.890015</td>\n",
       "      <td>1591.000000</td>\n",
       "    </tr>\n",
       "  </tbody>\n",
       "</table>\n",
       "<p>5242 rows × 3 columns</p>\n",
       "</div>"
      ],
      "text/plain": [
       "                   High          Low            y\n",
       "Date                                             \n",
       "1997-05-15     2.500000     1.927083     1.958333\n",
       "1997-05-16     1.979167     1.708333     1.729167\n",
       "1997-05-19     1.770833     1.625000     1.708333\n",
       "1997-05-20     1.750000     1.635417     1.635417\n",
       "1997-05-21     1.645833     1.375000     1.427083\n",
       "...                 ...          ...          ...\n",
       "2018-03-08  1554.880005  1545.250000  1551.859985\n",
       "2018-03-09  1578.939941  1559.079956  1578.890015\n",
       "2018-03-12  1605.329956  1586.699951  1598.390015\n",
       "2018-03-13  1617.540039  1578.010010  1588.180054\n",
       "2018-03-14  1606.439941  1590.890015  1591.000000\n",
       "\n",
       "[5242 rows x 3 columns]"
      ]
     },
     "execution_count": 42,
     "metadata": {},
     "output_type": "execute_result"
    }
   ],
   "source": [
    "exog_train"
   ]
  },
  {
   "cell_type": "code",
   "execution_count": 43,
   "metadata": {
    "colab": {
     "base_uri": "https://localhost:8080/",
     "height": 629
    },
    "executionInfo": {
     "elapsed": 250379,
     "status": "ok",
     "timestamp": 1706963965686,
     "user": {
      "displayName": "Diogo Resende",
      "userId": "05706604408624562002"
     },
     "user_tz": -60
    },
    "id": "GZxumknkEnWk",
    "outputId": "fa309e3b-7e9c-4964-dbf4-47b8c3091fd4",
    "scrolled": true
   },
   "outputs": [
    {
     "name": "stderr",
     "output_type": "stream",
     "text": [
      "C:\\Users\\marha\\anaconda3\\envs\\tf_gpu\\lib\\site-packages\\sklearn\\utils\\deprecation.py:151: FutureWarning: 'force_all_finite' was renamed to 'ensure_all_finite' in 1.6 and will be removed in 1.8.\n",
      "  warnings.warn(\n",
      "C:\\Users\\marha\\anaconda3\\envs\\tf_gpu\\lib\\site-packages\\sklearn\\utils\\deprecation.py:151: FutureWarning: 'force_all_finite' was renamed to 'ensure_all_finite' in 1.6 and will be removed in 1.8.\n",
      "  warnings.warn(\n",
      "C:\\Users\\marha\\anaconda3\\envs\\tf_gpu\\lib\\site-packages\\sklearn\\utils\\deprecation.py:151: FutureWarning: 'force_all_finite' was renamed to 'ensure_all_finite' in 1.6 and will be removed in 1.8.\n",
      "  warnings.warn(\n",
      "C:\\Users\\marha\\anaconda3\\envs\\tf_gpu\\lib\\site-packages\\sklearn\\utils\\deprecation.py:151: FutureWarning: 'force_all_finite' was renamed to 'ensure_all_finite' in 1.6 and will be removed in 1.8.\n",
      "  warnings.warn(\n",
      "C:\\Users\\marha\\anaconda3\\envs\\tf_gpu\\lib\\site-packages\\sklearn\\utils\\deprecation.py:151: FutureWarning: 'force_all_finite' was renamed to 'ensure_all_finite' in 1.6 and will be removed in 1.8.\n",
      "  warnings.warn(\n",
      "C:\\Users\\marha\\anaconda3\\envs\\tf_gpu\\lib\\site-packages\\sklearn\\utils\\deprecation.py:151: FutureWarning: 'force_all_finite' was renamed to 'ensure_all_finite' in 1.6 and will be removed in 1.8.\n",
      "  warnings.warn(\n",
      "C:\\Users\\marha\\anaconda3\\envs\\tf_gpu\\lib\\site-packages\\sklearn\\utils\\deprecation.py:151: FutureWarning: 'force_all_finite' was renamed to 'ensure_all_finite' in 1.6 and will be removed in 1.8.\n",
      "  warnings.warn(\n",
      "C:\\Users\\marha\\anaconda3\\envs\\tf_gpu\\lib\\site-packages\\sklearn\\utils\\deprecation.py:151: FutureWarning: 'force_all_finite' was renamed to 'ensure_all_finite' in 1.6 and will be removed in 1.8.\n",
      "  warnings.warn(\n",
      "C:\\Users\\marha\\anaconda3\\envs\\tf_gpu\\lib\\site-packages\\sklearn\\utils\\deprecation.py:151: FutureWarning: 'force_all_finite' was renamed to 'ensure_all_finite' in 1.6 and will be removed in 1.8.\n",
      "  warnings.warn(\n",
      "C:\\Users\\marha\\anaconda3\\envs\\tf_gpu\\lib\\site-packages\\sklearn\\utils\\deprecation.py:151: FutureWarning: 'force_all_finite' was renamed to 'ensure_all_finite' in 1.6 and will be removed in 1.8.\n",
      "  warnings.warn(\n",
      "C:\\Users\\marha\\anaconda3\\envs\\tf_gpu\\lib\\site-packages\\sklearn\\utils\\deprecation.py:151: FutureWarning: 'force_all_finite' was renamed to 'ensure_all_finite' in 1.6 and will be removed in 1.8.\n",
      "  warnings.warn(\n",
      "C:\\Users\\marha\\anaconda3\\envs\\tf_gpu\\lib\\site-packages\\sklearn\\utils\\deprecation.py:151: FutureWarning: 'force_all_finite' was renamed to 'ensure_all_finite' in 1.6 and will be removed in 1.8.\n",
      "  warnings.warn(\n",
      "C:\\Users\\marha\\anaconda3\\envs\\tf_gpu\\lib\\site-packages\\sklearn\\utils\\deprecation.py:151: FutureWarning: 'force_all_finite' was renamed to 'ensure_all_finite' in 1.6 and will be removed in 1.8.\n",
      "  warnings.warn(\n",
      "C:\\Users\\marha\\anaconda3\\envs\\tf_gpu\\lib\\site-packages\\statsmodels\\tsa\\statespace\\sarimax.py:1901: RuntimeWarning: invalid value encountered in reciprocal\n",
      "  return np.roots(self.polynomial_reduced_ar)**-1\n",
      "C:\\Users\\marha\\anaconda3\\envs\\tf_gpu\\lib\\site-packages\\pmdarima\\arima\\_auto_solvers.py:38: RuntimeWarning: invalid value encountered in divide\n",
      "  max_invroot = max(0, *np.abs(1 / model.arroots()))\n",
      "C:\\Users\\marha\\anaconda3\\envs\\tf_gpu\\lib\\site-packages\\sklearn\\utils\\deprecation.py:151: FutureWarning: 'force_all_finite' was renamed to 'ensure_all_finite' in 1.6 and will be removed in 1.8.\n",
      "  warnings.warn(\n",
      "C:\\Users\\marha\\anaconda3\\envs\\tf_gpu\\lib\\site-packages\\statsmodels\\tsa\\statespace\\sarimax.py:1908: RuntimeWarning: invalid value encountered in reciprocal\n",
      "  return np.roots(self.polynomial_reduced_ma)**-1\n",
      "C:\\Users\\marha\\anaconda3\\envs\\tf_gpu\\lib\\site-packages\\pmdarima\\arima\\_auto_solvers.py:40: RuntimeWarning: invalid value encountered in divide\n",
      "  max_invroot = max(0, *np.abs(1 / model.maroots()))\n",
      "C:\\Users\\marha\\anaconda3\\envs\\tf_gpu\\lib\\site-packages\\sklearn\\utils\\deprecation.py:151: FutureWarning: 'force_all_finite' was renamed to 'ensure_all_finite' in 1.6 and will be removed in 1.8.\n",
      "  warnings.warn(\n",
      "C:\\Users\\marha\\anaconda3\\envs\\tf_gpu\\lib\\site-packages\\sklearn\\utils\\deprecation.py:151: FutureWarning: 'force_all_finite' was renamed to 'ensure_all_finite' in 1.6 and will be removed in 1.8.\n",
      "  warnings.warn(\n",
      "C:\\Users\\marha\\anaconda3\\envs\\tf_gpu\\lib\\site-packages\\sklearn\\utils\\deprecation.py:151: FutureWarning: 'force_all_finite' was renamed to 'ensure_all_finite' in 1.6 and will be removed in 1.8.\n",
      "  warnings.warn(\n",
      "C:\\Users\\marha\\anaconda3\\envs\\tf_gpu\\lib\\site-packages\\sklearn\\utils\\deprecation.py:151: FutureWarning: 'force_all_finite' was renamed to 'ensure_all_finite' in 1.6 and will be removed in 1.8.\n",
      "  warnings.warn(\n",
      "C:\\Users\\marha\\anaconda3\\envs\\tf_gpu\\lib\\site-packages\\sklearn\\utils\\deprecation.py:151: FutureWarning: 'force_all_finite' was renamed to 'ensure_all_finite' in 1.6 and will be removed in 1.8.\n",
      "  warnings.warn(\n",
      "C:\\Users\\marha\\anaconda3\\envs\\tf_gpu\\lib\\site-packages\\sklearn\\utils\\deprecation.py:151: FutureWarning: 'force_all_finite' was renamed to 'ensure_all_finite' in 1.6 and will be removed in 1.8.\n",
      "  warnings.warn(\n",
      "C:\\Users\\marha\\anaconda3\\envs\\tf_gpu\\lib\\site-packages\\sklearn\\utils\\deprecation.py:151: FutureWarning: 'force_all_finite' was renamed to 'ensure_all_finite' in 1.6 and will be removed in 1.8.\n",
      "  warnings.warn(\n"
     ]
    },
    {
     "data": {
      "text/html": [
       "<table class=\"simpletable\">\n",
       "<caption>SARIMAX Results</caption>\n",
       "<tr>\n",
       "  <th>Dep. Variable:</th>           <td>y</td>        <th>  No. Observations:  </th>    <td>5242</td>    \n",
       "</tr>\n",
       "<tr>\n",
       "  <th>Model:</th>           <td>SARIMAX(0, 1, 0)</td> <th>  Log Likelihood     </th>  <td>55512.492</td> \n",
       "</tr>\n",
       "<tr>\n",
       "  <th>Date:</th>            <td>Fri, 27 Jun 2025</td> <th>  AIC                </th> <td>-111016.983</td>\n",
       "</tr>\n",
       "<tr>\n",
       "  <th>Time:</th>                <td>01:42:50</td>     <th>  BIC                </th> <td>-110990.726</td>\n",
       "</tr>\n",
       "<tr>\n",
       "  <th>Sample:</th>                  <td>0</td>        <th>  HQIC               </th> <td>-111007.802</td>\n",
       "</tr>\n",
       "<tr>\n",
       "  <th></th>                      <td> - 5242</td>     <th>                     </th>      <td> </td>     \n",
       "</tr>\n",
       "<tr>\n",
       "  <th>Covariance Type:</th>        <td>opg</td>       <th>                     </th>      <td> </td>     \n",
       "</tr>\n",
       "</table>\n",
       "<table class=\"simpletable\">\n",
       "<tr>\n",
       "     <td></td>       <th>coef</th>     <th>std err</th>      <th>z</th>      <th>P>|z|</th>  <th>[0.025</th>    <th>0.975]</th>  \n",
       "</tr>\n",
       "<tr>\n",
       "  <th>High</th>   <td> 2.551e-16</td> <td> 3.51e-24</td> <td> 7.26e+07</td> <td> 0.000</td> <td> 2.55e-16</td> <td> 2.55e-16</td>\n",
       "</tr>\n",
       "<tr>\n",
       "  <th>Low</th>    <td>-6.383e-17</td> <td> 2.56e-24</td> <td>-2.49e+07</td> <td> 0.000</td> <td>-6.38e-17</td> <td>-6.38e-17</td>\n",
       "</tr>\n",
       "<tr>\n",
       "  <th>y</th>      <td>    1.0000</td> <td> 3.85e-24</td> <td>  2.6e+23</td> <td> 0.000</td> <td>    1.000</td> <td>    1.000</td>\n",
       "</tr>\n",
       "<tr>\n",
       "  <th>sigma2</th> <td>     1e-10</td> <td> 2.74e-11</td> <td>    3.653</td> <td> 0.000</td> <td> 4.63e-11</td> <td> 1.54e-10</td>\n",
       "</tr>\n",
       "</table>\n",
       "<table class=\"simpletable\">\n",
       "<tr>\n",
       "  <th>Ljung-Box (L1) (Q):</th>     <td>62.06</td> <th>  Jarque-Bera (JB):  </th> <td>68866347.33</td>\n",
       "</tr>\n",
       "<tr>\n",
       "  <th>Prob(Q):</th>                <td>0.00</td>  <th>  Prob(JB):          </th>    <td>0.00</td>    \n",
       "</tr>\n",
       "<tr>\n",
       "  <th>Heteroskedasticity (H):</th> <td>23.71</td> <th>  Skew:              </th>    <td>5.00</td>    \n",
       "</tr>\n",
       "<tr>\n",
       "  <th>Prob(H) (two-sided):</th>    <td>0.00</td>  <th>  Kurtosis:          </th>   <td>564.48</td>   \n",
       "</tr>\n",
       "</table><br/><br/>Warnings:<br/>[1] Covariance matrix calculated using the outer product of gradients (complex-step).<br/>[2] Covariance matrix is singular or near-singular, with condition number    inf. Standard errors may be unstable."
      ],
      "text/latex": [
       "\\begin{center}\n",
       "\\begin{tabular}{lclc}\n",
       "\\toprule\n",
       "\\textbf{Dep. Variable:}          &        y         & \\textbf{  No. Observations:  } &     5242     \\\\\n",
       "\\textbf{Model:}                  & SARIMAX(0, 1, 0) & \\textbf{  Log Likelihood     } &  55512.492   \\\\\n",
       "\\textbf{Date:}                   & Fri, 27 Jun 2025 & \\textbf{  AIC                } & -111016.983  \\\\\n",
       "\\textbf{Time:}                   &     01:42:50     & \\textbf{  BIC                } & -110990.726  \\\\\n",
       "\\textbf{Sample:}                 &        0         & \\textbf{  HQIC               } & -111007.802  \\\\\n",
       "\\textbf{}                        &      - 5242      & \\textbf{                     } &              \\\\\n",
       "\\textbf{Covariance Type:}        &       opg        & \\textbf{                     } &              \\\\\n",
       "\\bottomrule\n",
       "\\end{tabular}\n",
       "\\begin{tabular}{lcccccc}\n",
       "                & \\textbf{coef} & \\textbf{std err} & \\textbf{z} & \\textbf{P$> |$z$|$} & \\textbf{[0.025} & \\textbf{0.975]}  \\\\\n",
       "\\midrule\n",
       "\\textbf{High}   &    2.551e-16  &     3.51e-24     &  7.26e+07  &         0.000        &     2.55e-16    &     2.55e-16     \\\\\n",
       "\\textbf{Low}    &   -6.383e-17  &     2.56e-24     & -2.49e+07  &         0.000        &    -6.38e-17    &    -6.38e-17     \\\\\n",
       "\\textbf{y}      &       1.0000  &     3.85e-24     &   2.6e+23  &         0.000        &        1.000    &        1.000     \\\\\n",
       "\\textbf{sigma2} &        1e-10  &     2.74e-11     &     3.653  &         0.000        &     4.63e-11    &     1.54e-10     \\\\\n",
       "\\bottomrule\n",
       "\\end{tabular}\n",
       "\\begin{tabular}{lclc}\n",
       "\\textbf{Ljung-Box (L1) (Q):}     & 62.06 & \\textbf{  Jarque-Bera (JB):  } & 68866347.33  \\\\\n",
       "\\textbf{Prob(Q):}                &  0.00 & \\textbf{  Prob(JB):          } &     0.00     \\\\\n",
       "\\textbf{Heteroskedasticity (H):} & 23.71 & \\textbf{  Skew:              } &     5.00     \\\\\n",
       "\\textbf{Prob(H) (two-sided):}    &  0.00 & \\textbf{  Kurtosis:          } &    564.48    \\\\\n",
       "\\bottomrule\n",
       "\\end{tabular}\n",
       "%\\caption{SARIMAX Results}\n",
       "\\end{center}\n",
       "\n",
       "Warnings: \\newline\n",
       " [1] Covariance matrix calculated using the outer product of gradients (complex-step). \\newline\n",
       " [2] Covariance matrix is singular or near-singular, with condition number    inf. Standard errors may be unstable."
      ],
      "text/plain": [
       "<class 'statsmodels.iolib.summary.Summary'>\n",
       "\"\"\"\n",
       "                               SARIMAX Results                                \n",
       "==============================================================================\n",
       "Dep. Variable:                      y   No. Observations:                 5242\n",
       "Model:               SARIMAX(0, 1, 0)   Log Likelihood               55512.492\n",
       "Date:                Fri, 27 Jun 2025   AIC                        -111016.983\n",
       "Time:                        01:42:50   BIC                        -110990.726\n",
       "Sample:                             0   HQIC                       -111007.802\n",
       "                               - 5242                                         \n",
       "Covariance Type:                  opg                                         \n",
       "==============================================================================\n",
       "                 coef    std err          z      P>|z|      [0.025      0.975]\n",
       "------------------------------------------------------------------------------\n",
       "High        2.551e-16   3.51e-24   7.26e+07      0.000    2.55e-16    2.55e-16\n",
       "Low        -6.383e-17   2.56e-24  -2.49e+07      0.000   -6.38e-17   -6.38e-17\n",
       "y              1.0000   3.85e-24    2.6e+23      0.000       1.000       1.000\n",
       "sigma2          1e-10   2.74e-11      3.653      0.000    4.63e-11    1.54e-10\n",
       "===================================================================================\n",
       "Ljung-Box (L1) (Q):                  62.06   Jarque-Bera (JB):          68866347.33\n",
       "Prob(Q):                              0.00   Prob(JB):                         0.00\n",
       "Heteroskedasticity (H):              23.71   Skew:                             5.00\n",
       "Prob(H) (two-sided):                  0.00   Kurtosis:                       564.48\n",
       "===================================================================================\n",
       "\n",
       "Warnings:\n",
       "[1] Covariance matrix calculated using the outer product of gradients (complex-step).\n",
       "[2] Covariance matrix is singular or near-singular, with condition number    inf. Standard errors may be unstable.\n",
       "\"\"\""
      ]
     },
     "execution_count": 43,
     "metadata": {},
     "output_type": "execute_result"
    }
   ],
   "source": [
    "# auto_arima() from pmdarima - used to automatically select the optimal parameters for an ARIMA model based on the provided time series data.\n",
    "# m = The number of periods in each season.\n",
    "# X =  exogenous variables.\n",
    "model_sarimax = auto_arima(train['y'],\n",
    "                           m = 7,\n",
    "                           X = exog_train\n",
    "                           )\n",
    "model_sarimax.summary()"
   ]
  },
  {
   "cell_type": "markdown",
   "metadata": {},
   "source": [
    "AR --> y1(t)=0.5 * y(t-1) + 0.9 y(t-2)  + ....      --> 9\n",
    "\n",
    "S --> y2(t) = 0.5 y(t-365) + 0.1 y(t - 365*2) - ......  --> +2\n",
    "  \n",
    "X --> y3(t) bla bla bla   --> +1\n",
    "\n",
    "final y(t) = AR y(t) + S y(t) + X y(t) = 12\n",
    "\n",
    "\n",
    "\n",
    "\n",
    "\n",
    " --------    MA --> y(t) = 0.1 e(t-1) + 0.2 * e(t-2)  --> -1\n",
    "\n",
    "\n",
    " final final y(t) = final y(t) + MA y(t) = 12 - 1 = 11\n"
   ]
  },
  {
   "cell_type": "code",
   "execution_count": 44,
   "metadata": {
    "colab": {
     "base_uri": "https://localhost:8080/"
    },
    "executionInfo": {
     "elapsed": 29,
     "status": "ok",
     "timestamp": 1706963965686,
     "user": {
      "displayName": "Diogo Resende",
      "userId": "05706604408624562002"
     },
     "user_tz": -60
    },
    "id": "aOcA3FH3EnW5",
    "outputId": "009e4c8e-f72f-456e-843a-9ee4c911511a"
   },
   "outputs": [
    {
     "name": "stderr",
     "output_type": "stream",
     "text": [
      "C:\\Users\\marha\\anaconda3\\envs\\tf_gpu\\lib\\site-packages\\statsmodels\\tsa\\base\\tsa_model.py:837: ValueWarning: No supported index is available. Prediction results will be given with an integer index beginning at `start`.\n",
      "  return get_prediction_index(\n",
      "C:\\Users\\marha\\anaconda3\\envs\\tf_gpu\\lib\\site-packages\\statsmodels\\tsa\\base\\tsa_model.py:837: FutureWarning: No supported index is available. In the next version, calling this method in a model without a supported index will result in an exception.\n",
      "  return get_prediction_index(\n",
      "C:\\Users\\marha\\anaconda3\\envs\\tf_gpu\\lib\\site-packages\\sklearn\\utils\\deprecation.py:151: FutureWarning: 'force_all_finite' was renamed to 'ensure_all_finite' in 1.6 and will be removed in 1.8.\n",
      "  warnings.warn(\n"
     ]
    },
    {
     "data": {
      "text/plain": [
       "Date\n",
       "2018-03-15    1582.319946\n",
       "2018-03-16    1571.680054\n",
       "2018-03-19    1544.930054\n",
       "2018-03-20    1586.510010\n",
       "2018-03-21    1581.859985\n",
       "                 ...     \n",
       "2020-07-27    3055.209961\n",
       "2020-07-28    3000.330078\n",
       "2020-07-29    3033.530029\n",
       "2020-07-30    3051.879883\n",
       "2020-07-31    3164.679932\n",
       "Length: 600, dtype: float64"
      ]
     },
     "execution_count": 44,
     "metadata": {},
     "output_type": "execute_result"
    }
   ],
   "source": [
    "# Use the fitted SARIMAX model to forecast future values.\n",
    "# set the number of periods to forecast to the length of 'test'\n",
    "# X - representing the exogenous variables for forecasting\n",
    "predictions_sarimax = model_sarimax.predict(n_periods = len(test),\n",
    "                                            X = exog_test)\n",
    "predictions_sarimax.index = test.index\n",
    "predictions_sarimax"
   ]
  },
  {
   "cell_type": "code",
   "execution_count": 45,
   "metadata": {
    "colab": {
     "base_uri": "https://localhost:8080/",
     "height": 445
    },
    "executionInfo": {
     "elapsed": 978,
     "status": "ok",
     "timestamp": 1706963966640,
     "user": {
      "displayName": "Diogo Resende",
      "userId": "05706604408624562002"
     },
     "user_tz": -60
    },
    "id": "hLRn6NvJEnW6",
    "outputId": "61b5c421-d049-42b0-c317-ac82feae5cde"
   },
   "outputs": [
    {
     "data": {
      "image/png": "[encoded data removed]",
      "text/plain": [
       "<Figure size 1000x400 with 1 Axes>"
      ]
     },
     "metadata": {},
     "output_type": "display_data"
    },
    {
     "name": "stdout",
     "output_type": "stream",
     "text": [
      "The MAE is 0.00\n",
      "The RMSE is 0.00\n",
      "The MAPE is 0.00 %\n"
     ]
    }
   ],
   "source": [
    "# Model assessment\n",
    "model_assessment(train['y']['1998':], test['y'], predictions_sarimax, \"SARIMAX\")"
   ]
  },
  {
   "cell_type": "markdown",
   "metadata": {},
   "source": [
    "We can see that SARIMAX was able to capture the pattern more accurately than ARIMA and SARIMA. While both were able to captured the general upward trend, they failed to reflect the finer details. SARIMAX performed better because it is able to handle exogenous variables, which help model the main time series more accurately."
   ]
  },
  {
   "cell_type": "code",
   "execution_count": null,
   "metadata": {},
   "outputs": [],
   "source": []
  }
 ],
 "metadata": {
  "colab": {
   "provenance": []
  },
  "kernelspec": {
   "display_name": "tf_gpu",
   "language": "python",
   "name": "tf_gpu"
  },
  "language_info": {
   "codemirror_mode": {
    "name": "ipython",
    "version": 3
   },
   "file_extension": ".py",
   "mimetype": "text/x-python",
   "name": "python",
   "nbconvert_exporter": "python",
   "pygments_lexer": "ipython3",
   "version": "3.10.0"
  }
 },
 "nbformat": 4,
 "nbformat_minor": 4
}
